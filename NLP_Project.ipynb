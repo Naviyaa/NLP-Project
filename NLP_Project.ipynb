{
  "nbformat": 4,
  "nbformat_minor": 0,
  "metadata": {
    "colab": {
      "name": "NLP - Project",
      "provenance": [],
      "collapsed_sections": []
    },
    "kernelspec": {
      "display_name": "Python 3",
      "name": "python3"
    },
    "language_info": {
      "name": "python"
    }
  },
  "cells": [
    {
      "cell_type": "code",
      "metadata": {
        "colab": {
          "base_uri": "https://localhost:8080/"
        },
        "id": "AHGrP_XjTcxx",
        "outputId": "6b428247-c160-4242-9ce1-d88f7b5832e6"
      },
      "source": [
        "### CREATE VIRTUAL DISPLAY ###\n",
        "!apt-get install -y xvfb # Install X Virtual Frame Buffer\n",
        "import os\n",
        "os.system('Xvfb :1 -screen 0 1600x1200x16  &')    # create virtual display with size 1600x1200 and 16 bit color. Color can be changed to 24 or 8\n",
        "os.environ['DISPLAY']=':1.0'    # tell X clients to use our virtual DISPLAY :1.0."
      ],
      "execution_count": 1,
      "outputs": [
        {
          "output_type": "stream",
          "name": "stdout",
          "text": [
            "Reading package lists... Done\n",
            "Building dependency tree       \n",
            "Reading state information... Done\n",
            "The following NEW packages will be installed:\n",
            "  xvfb\n",
            "0 upgraded, 1 newly installed, 0 to remove and 37 not upgraded.\n",
            "Need to get 784 kB of archives.\n",
            "After this operation, 2,270 kB of additional disk space will be used.\n",
            "Get:1 http://archive.ubuntu.com/ubuntu bionic-updates/universe amd64 xvfb amd64 2:1.19.6-1ubuntu4.9 [784 kB]\n",
            "Fetched 784 kB in 1s (669 kB/s)\n",
            "Selecting previously unselected package xvfb.\n",
            "(Reading database ... 155222 files and directories currently installed.)\n",
            "Preparing to unpack .../xvfb_2%3a1.19.6-1ubuntu4.9_amd64.deb ...\n",
            "Unpacking xvfb (2:1.19.6-1ubuntu4.9) ...\n",
            "Setting up xvfb (2:1.19.6-1ubuntu4.9) ...\n",
            "Processing triggers for man-db (2.8.3-2ubuntu0.1) ...\n"
          ]
        }
      ]
    },
    {
      "cell_type": "code",
      "metadata": {
        "id": "sEw2eyYjTdaf"
      },
      "source": [
        "%matplotlib inline"
      ],
      "execution_count": 2,
      "outputs": []
    },
    {
      "cell_type": "code",
      "metadata": {
        "colab": {
          "base_uri": "https://localhost:8080/"
        },
        "id": "q6uwDvyjTgC3",
        "outputId": "c753ef2b-56aa-44e0-caf7-8b5b134923b0"
      },
      "source": [
        "### INSTALL GHOSTSCRIPT (Required to display NLTK trees) ###\n",
        "!apt install ghostscript python3-tk"
      ],
      "execution_count": 3,
      "outputs": [
        {
          "output_type": "stream",
          "name": "stdout",
          "text": [
            "Reading package lists... Done\n",
            "Building dependency tree       \n",
            "Reading state information... Done\n",
            "python3-tk is already the newest version (3.6.9-1~18.04).\n",
            "The following additional packages will be installed:\n",
            "  fonts-droid-fallback fonts-noto-mono gsfonts libcupsfilters1 libcupsimage2\n",
            "  libgs9 libgs9-common libijs-0.35 libjbig2dec0 poppler-data\n",
            "Suggested packages:\n",
            "  fonts-noto ghostscript-x poppler-utils fonts-japanese-mincho\n",
            "  | fonts-ipafont-mincho fonts-japanese-gothic | fonts-ipafont-gothic\n",
            "  fonts-arphic-ukai fonts-arphic-uming fonts-nanum\n",
            "The following NEW packages will be installed:\n",
            "  fonts-droid-fallback fonts-noto-mono ghostscript gsfonts libcupsfilters1\n",
            "  libcupsimage2 libgs9 libgs9-common libijs-0.35 libjbig2dec0 poppler-data\n",
            "0 upgraded, 11 newly installed, 0 to remove and 37 not upgraded.\n",
            "Need to get 14.1 MB of archives.\n",
            "After this operation, 49.9 MB of additional disk space will be used.\n",
            "Get:1 http://archive.ubuntu.com/ubuntu bionic/main amd64 fonts-droid-fallback all 1:6.0.1r16-1.1 [1,805 kB]\n",
            "Get:2 http://archive.ubuntu.com/ubuntu bionic/main amd64 poppler-data all 0.4.8-2 [1,479 kB]\n",
            "Get:3 http://archive.ubuntu.com/ubuntu bionic/main amd64 fonts-noto-mono all 20171026-2 [75.5 kB]\n",
            "Get:4 http://archive.ubuntu.com/ubuntu bionic-updates/main amd64 libcupsimage2 amd64 2.2.7-1ubuntu2.8 [18.6 kB]\n",
            "Get:5 http://archive.ubuntu.com/ubuntu bionic/main amd64 libijs-0.35 amd64 0.35-13 [15.5 kB]\n",
            "Get:6 http://archive.ubuntu.com/ubuntu bionic/main amd64 libjbig2dec0 amd64 0.13-6 [55.9 kB]\n",
            "Get:7 http://archive.ubuntu.com/ubuntu bionic-updates/main amd64 libgs9-common all 9.26~dfsg+0-0ubuntu0.18.04.14 [5,092 kB]\n",
            "Get:8 http://archive.ubuntu.com/ubuntu bionic-updates/main amd64 libgs9 amd64 9.26~dfsg+0-0ubuntu0.18.04.14 [2,265 kB]\n",
            "Get:9 http://archive.ubuntu.com/ubuntu bionic-updates/main amd64 ghostscript amd64 9.26~dfsg+0-0ubuntu0.18.04.14 [51.3 kB]\n",
            "Get:10 http://archive.ubuntu.com/ubuntu bionic/main amd64 gsfonts all 1:8.11+urwcyr1.0.7~pre44-4.4 [3,120 kB]\n",
            "Get:11 http://archive.ubuntu.com/ubuntu bionic-updates/main amd64 libcupsfilters1 amd64 1.20.2-0ubuntu3.1 [108 kB]\n",
            "Fetched 14.1 MB in 2s (6,704 kB/s)\n",
            "Selecting previously unselected package fonts-droid-fallback.\n",
            "(Reading database ... 155229 files and directories currently installed.)\n",
            "Preparing to unpack .../00-fonts-droid-fallback_1%3a6.0.1r16-1.1_all.deb ...\n",
            "Unpacking fonts-droid-fallback (1:6.0.1r16-1.1) ...\n",
            "Selecting previously unselected package poppler-data.\n",
            "Preparing to unpack .../01-poppler-data_0.4.8-2_all.deb ...\n",
            "Unpacking poppler-data (0.4.8-2) ...\n",
            "Selecting previously unselected package fonts-noto-mono.\n",
            "Preparing to unpack .../02-fonts-noto-mono_20171026-2_all.deb ...\n",
            "Unpacking fonts-noto-mono (20171026-2) ...\n",
            "Selecting previously unselected package libcupsimage2:amd64.\n",
            "Preparing to unpack .../03-libcupsimage2_2.2.7-1ubuntu2.8_amd64.deb ...\n",
            "Unpacking libcupsimage2:amd64 (2.2.7-1ubuntu2.8) ...\n",
            "Selecting previously unselected package libijs-0.35:amd64.\n",
            "Preparing to unpack .../04-libijs-0.35_0.35-13_amd64.deb ...\n",
            "Unpacking libijs-0.35:amd64 (0.35-13) ...\n",
            "Selecting previously unselected package libjbig2dec0:amd64.\n",
            "Preparing to unpack .../05-libjbig2dec0_0.13-6_amd64.deb ...\n",
            "Unpacking libjbig2dec0:amd64 (0.13-6) ...\n",
            "Selecting previously unselected package libgs9-common.\n",
            "Preparing to unpack .../06-libgs9-common_9.26~dfsg+0-0ubuntu0.18.04.14_all.deb ...\n",
            "Unpacking libgs9-common (9.26~dfsg+0-0ubuntu0.18.04.14) ...\n",
            "Selecting previously unselected package libgs9:amd64.\n",
            "Preparing to unpack .../07-libgs9_9.26~dfsg+0-0ubuntu0.18.04.14_amd64.deb ...\n",
            "Unpacking libgs9:amd64 (9.26~dfsg+0-0ubuntu0.18.04.14) ...\n",
            "Selecting previously unselected package ghostscript.\n",
            "Preparing to unpack .../08-ghostscript_9.26~dfsg+0-0ubuntu0.18.04.14_amd64.deb ...\n",
            "Unpacking ghostscript (9.26~dfsg+0-0ubuntu0.18.04.14) ...\n",
            "Selecting previously unselected package gsfonts.\n",
            "Preparing to unpack .../09-gsfonts_1%3a8.11+urwcyr1.0.7~pre44-4.4_all.deb ...\n",
            "Unpacking gsfonts (1:8.11+urwcyr1.0.7~pre44-4.4) ...\n",
            "Selecting previously unselected package libcupsfilters1:amd64.\n",
            "Preparing to unpack .../10-libcupsfilters1_1.20.2-0ubuntu3.1_amd64.deb ...\n",
            "Unpacking libcupsfilters1:amd64 (1.20.2-0ubuntu3.1) ...\n",
            "Setting up libgs9-common (9.26~dfsg+0-0ubuntu0.18.04.14) ...\n",
            "Setting up fonts-droid-fallback (1:6.0.1r16-1.1) ...\n",
            "Setting up gsfonts (1:8.11+urwcyr1.0.7~pre44-4.4) ...\n",
            "Setting up poppler-data (0.4.8-2) ...\n",
            "Setting up fonts-noto-mono (20171026-2) ...\n",
            "Setting up libcupsfilters1:amd64 (1.20.2-0ubuntu3.1) ...\n",
            "Setting up libcupsimage2:amd64 (2.2.7-1ubuntu2.8) ...\n",
            "Setting up libjbig2dec0:amd64 (0.13-6) ...\n",
            "Setting up libijs-0.35:amd64 (0.35-13) ...\n",
            "Setting up libgs9:amd64 (9.26~dfsg+0-0ubuntu0.18.04.14) ...\n",
            "Setting up ghostscript (9.26~dfsg+0-0ubuntu0.18.04.14) ...\n",
            "Processing triggers for man-db (2.8.3-2ubuntu0.1) ...\n",
            "Processing triggers for fontconfig (2.12.6-0ubuntu2) ...\n",
            "Processing triggers for libc-bin (2.27-3ubuntu1.3) ...\n",
            "/sbin/ldconfig.real: /usr/local/lib/python3.7/dist-packages/ideep4py/lib/libmkldnn.so.0 is not a symbolic link\n",
            "\n"
          ]
        }
      ]
    },
    {
      "cell_type": "markdown",
      "metadata": {
        "id": "wC-CjalXNqnS"
      },
      "source": [
        "# **CSE4022 - NLP Project**\n",
        "\n",
        "**Naviyaa Poonia (19BCE1377)**\n",
        "\n",
        "**Sujana Ray (19BCE1391)**\n"
      ]
    },
    {
      "cell_type": "markdown",
      "metadata": {
        "id": "5HMAOO3YOASz"
      },
      "source": [
        "# **Project Title** : Application of Recurrent Neural Network in online comment toxicity detection and classification\n"
      ]
    },
    {
      "cell_type": "markdown",
      "metadata": {
        "id": "SLOn6NPdO2rJ"
      },
      "source": [
        "# ***Exploratory Data Analysis***"
      ]
    },
    {
      "cell_type": "code",
      "metadata": {
        "id": "dXUBwcnlNoMj",
        "colab": {
          "base_uri": "https://localhost:8080/"
        },
        "outputId": "e234919d-e7ea-406b-f2aa-11b0da0d2289"
      },
      "source": [
        "from google.colab import drive\n",
        "drive.mount('/content/drive')"
      ],
      "execution_count": 4,
      "outputs": [
        {
          "output_type": "stream",
          "name": "stdout",
          "text": [
            "Mounted at /content/drive\n"
          ]
        }
      ]
    },
    {
      "cell_type": "code",
      "metadata": {
        "id": "8tAFRq9jO1xO"
      },
      "source": [
        "#importing the libraries\n",
        "import numpy as np \n",
        "import pandas as pd \n",
        "import matplotlib.pyplot as plt\n",
        "import math\n",
        "import seaborn as sns \n",
        "import missingno as msno\n",
        "import re\n",
        "import string\n",
        "import nltk\n",
        "from nltk.corpus import stopwords\n"
      ],
      "execution_count": 5,
      "outputs": []
    },
    {
      "cell_type": "code",
      "metadata": {
        "id": "BJ2T091gSNII"
      },
      "source": [
        "train_df = pd.read_csv(\"/content/drive/MyDrive/CSE4022/dataset/train.csv\")\n",
        "test_df = pd.read_csv(\"/content/drive/MyDrive/CSE4022/dataset/test.csv\")"
      ],
      "execution_count": 6,
      "outputs": []
    },
    {
      "cell_type": "code",
      "metadata": {
        "colab": {
          "base_uri": "https://localhost:8080/"
        },
        "id": "A1srUiPqKxO6",
        "outputId": "f8e479b2-a842-4d4d-ebbb-8920cd2c2159"
      },
      "source": [
        "train_df.shape"
      ],
      "execution_count": 7,
      "outputs": [
        {
          "output_type": "execute_result",
          "data": {
            "text/plain": [
              "(159571, 8)"
            ]
          },
          "metadata": {},
          "execution_count": 7
        }
      ]
    },
    {
      "cell_type": "code",
      "metadata": {
        "colab": {
          "base_uri": "https://localhost:8080/"
        },
        "id": "HCcCmVSWK32o",
        "outputId": "16f9ae52-5393-4e49-a759-ef95cd254d12"
      },
      "source": [
        "test_df.shape"
      ],
      "execution_count": 8,
      "outputs": [
        {
          "output_type": "execute_result",
          "data": {
            "text/plain": [
              "(153164, 2)"
            ]
          },
          "metadata": {},
          "execution_count": 8
        }
      ]
    },
    {
      "cell_type": "code",
      "metadata": {
        "colab": {
          "base_uri": "https://localhost:8080/",
          "height": 363
        },
        "id": "gPL_b9LYQfYQ",
        "outputId": "fee64b06-633c-4cd5-8427-025470550417"
      },
      "source": [
        "train_df.sample(10)"
      ],
      "execution_count": 9,
      "outputs": [
        {
          "output_type": "execute_result",
          "data": {
            "text/html": [
              "<div>\n",
              "<style scoped>\n",
              "    .dataframe tbody tr th:only-of-type {\n",
              "        vertical-align: middle;\n",
              "    }\n",
              "\n",
              "    .dataframe tbody tr th {\n",
              "        vertical-align: top;\n",
              "    }\n",
              "\n",
              "    .dataframe thead th {\n",
              "        text-align: right;\n",
              "    }\n",
              "</style>\n",
              "<table border=\"1\" class=\"dataframe\">\n",
              "  <thead>\n",
              "    <tr style=\"text-align: right;\">\n",
              "      <th></th>\n",
              "      <th>id</th>\n",
              "      <th>comment_text</th>\n",
              "      <th>toxic</th>\n",
              "      <th>severe_toxic</th>\n",
              "      <th>obscene</th>\n",
              "      <th>threat</th>\n",
              "      <th>insult</th>\n",
              "      <th>identity_hate</th>\n",
              "    </tr>\n",
              "  </thead>\n",
              "  <tbody>\n",
              "    <tr>\n",
              "      <th>28459</th>\n",
              "      <td>4b596155fe3a094d</td>\n",
              "      <td>\"\\nYou are mistaken. Ceoil \"</td>\n",
              "      <td>0</td>\n",
              "      <td>0</td>\n",
              "      <td>0</td>\n",
              "      <td>0</td>\n",
              "      <td>0</td>\n",
              "      <td>0</td>\n",
              "    </tr>\n",
              "    <tr>\n",
              "      <th>121557</th>\n",
              "      <td>8a5c02a396f5b5cc</td>\n",
              "      <td>\"\\n\\nI do believe that pro se litigation is a ...</td>\n",
              "      <td>0</td>\n",
              "      <td>0</td>\n",
              "      <td>0</td>\n",
              "      <td>0</td>\n",
              "      <td>0</td>\n",
              "      <td>0</td>\n",
              "    </tr>\n",
              "    <tr>\n",
              "      <th>147551</th>\n",
              "      <td>3e1a03585a5c2429</td>\n",
              "      <td>\"::WP Vauxhall says the Russians were impresse...</td>\n",
              "      <td>0</td>\n",
              "      <td>0</td>\n",
              "      <td>0</td>\n",
              "      <td>0</td>\n",
              "      <td>0</td>\n",
              "      <td>0</td>\n",
              "    </tr>\n",
              "    <tr>\n",
              "      <th>156518</th>\n",
              "      <td>cf70f7aae8599f82</td>\n",
              "      <td>GTEL \\n\\nDo not come in the article only to sc...</td>\n",
              "      <td>0</td>\n",
              "      <td>0</td>\n",
              "      <td>0</td>\n",
              "      <td>0</td>\n",
              "      <td>0</td>\n",
              "      <td>0</td>\n",
              "    </tr>\n",
              "    <tr>\n",
              "      <th>76026</th>\n",
              "      <td>cb7ef1eacb45c1a1</td>\n",
              "      <td>\", 21 January 2014 (UTC)\\nNo rush, I'd be glad...</td>\n",
              "      <td>0</td>\n",
              "      <td>0</td>\n",
              "      <td>0</td>\n",
              "      <td>0</td>\n",
              "      <td>0</td>\n",
              "      <td>0</td>\n",
              "    </tr>\n",
              "    <tr>\n",
              "      <th>45663</th>\n",
              "      <td>7a19399809cb657f</td>\n",
              "      <td>\"\\n\\nThis poorly written Wiki article attempts...</td>\n",
              "      <td>0</td>\n",
              "      <td>0</td>\n",
              "      <td>0</td>\n",
              "      <td>0</td>\n",
              "      <td>0</td>\n",
              "      <td>0</td>\n",
              "    </tr>\n",
              "    <tr>\n",
              "      <th>146924</th>\n",
              "      <td>33eb8f94ac160bed</td>\n",
              "      <td>\":::It is both uncivil and disruptive of you t...</td>\n",
              "      <td>0</td>\n",
              "      <td>0</td>\n",
              "      <td>0</td>\n",
              "      <td>0</td>\n",
              "      <td>0</td>\n",
              "      <td>0</td>\n",
              "    </tr>\n",
              "    <tr>\n",
              "      <th>721</th>\n",
              "      <td>01f2e4ae839719df</td>\n",
              "      <td>\"\\n\\nThe spelling \"\"Tacarimba La Tumba Del Fue...</td>\n",
              "      <td>0</td>\n",
              "      <td>0</td>\n",
              "      <td>0</td>\n",
              "      <td>0</td>\n",
              "      <td>0</td>\n",
              "      <td>0</td>\n",
              "    </tr>\n",
              "    <tr>\n",
              "      <th>124332</th>\n",
              "      <td>991a812888086121</td>\n",
              "      <td>You are biast liberals that is all there is to...</td>\n",
              "      <td>0</td>\n",
              "      <td>0</td>\n",
              "      <td>0</td>\n",
              "      <td>0</td>\n",
              "      <td>0</td>\n",
              "      <td>0</td>\n",
              "    </tr>\n",
              "    <tr>\n",
              "      <th>19066</th>\n",
              "      <td>3250a1edecb089e9</td>\n",
              "      <td>why can't you get yourself a girl?  are you th...</td>\n",
              "      <td>0</td>\n",
              "      <td>0</td>\n",
              "      <td>0</td>\n",
              "      <td>0</td>\n",
              "      <td>1</td>\n",
              "      <td>0</td>\n",
              "    </tr>\n",
              "  </tbody>\n",
              "</table>\n",
              "</div>"
            ],
            "text/plain": [
              "                      id  ... identity_hate\n",
              "28459   4b596155fe3a094d  ...             0\n",
              "121557  8a5c02a396f5b5cc  ...             0\n",
              "147551  3e1a03585a5c2429  ...             0\n",
              "156518  cf70f7aae8599f82  ...             0\n",
              "76026   cb7ef1eacb45c1a1  ...             0\n",
              "45663   7a19399809cb657f  ...             0\n",
              "146924  33eb8f94ac160bed  ...             0\n",
              "721     01f2e4ae839719df  ...             0\n",
              "124332  991a812888086121  ...             0\n",
              "19066   3250a1edecb089e9  ...             0\n",
              "\n",
              "[10 rows x 8 columns]"
            ]
          },
          "metadata": {},
          "execution_count": 9
        }
      ]
    },
    {
      "cell_type": "code",
      "metadata": {
        "colab": {
          "base_uri": "https://localhost:8080/"
        },
        "id": "lMSYAgf3VoYi",
        "outputId": "2d37951b-d6fa-424d-814a-41652d14f3e2"
      },
      "source": [
        "nrow_train=train_df.shape[0]\n",
        "nrow_test=test_df.shape[0]\n",
        "sum=nrow_train+nrow_test\n",
        "print(\"Rows\")\n",
        "print(\"train: \", nrow_train)\n",
        "print(\"test: \", nrow_test)"
      ],
      "execution_count": 10,
      "outputs": [
        {
          "output_type": "stream",
          "name": "stdout",
          "text": [
            "Rows\n",
            "train:  159571\n",
            "test:  153164\n"
          ]
        }
      ]
    },
    {
      "cell_type": "markdown",
      "metadata": {
        "id": "0vs7ge1tWNC2"
      },
      "source": [
        "###Class imbalance in train set"
      ]
    },
    {
      "cell_type": "code",
      "metadata": {
        "colab": {
          "base_uri": "https://localhost:8080/"
        },
        "id": "qtrFvX73WPi4",
        "outputId": "00752336-d734-47f2-854f-22feadbc6380"
      },
      "source": [
        "x=train_df.iloc[:,2:].sum()\n",
        "#marking comments without any tags as \"unlabelled\"\n",
        "rowsums=train_df.iloc[:,2:].sum(axis=1)\n",
        "train_df['unlabelled']=(rowsums==0)\n",
        "#count number of unlabelled entries\n",
        "train_df['unlabelled'].sum()\n",
        "print(\"Total comments:\",len(train_df))\n",
        "print(\"Total unlabelled comments:\",train_df['unlabelled'].sum())\n",
        "print(\"Total tags:\",x.sum())"
      ],
      "execution_count": 11,
      "outputs": [
        {
          "output_type": "stream",
          "name": "stdout",
          "text": [
            "Total comments: 159571\n",
            "Total unlabelled comments: 143346\n",
            "Total tags: 35098\n"
          ]
        }
      ]
    },
    {
      "cell_type": "code",
      "metadata": {
        "colab": {
          "base_uri": "https://localhost:8080/",
          "height": 300
        },
        "id": "J9e-HYCRUi8s",
        "outputId": "1d0d1aff-9d16-4ec8-dcf5-9792af66d793"
      },
      "source": [
        "train_df.describe()"
      ],
      "execution_count": 12,
      "outputs": [
        {
          "output_type": "execute_result",
          "data": {
            "text/html": [
              "<div>\n",
              "<style scoped>\n",
              "    .dataframe tbody tr th:only-of-type {\n",
              "        vertical-align: middle;\n",
              "    }\n",
              "\n",
              "    .dataframe tbody tr th {\n",
              "        vertical-align: top;\n",
              "    }\n",
              "\n",
              "    .dataframe thead th {\n",
              "        text-align: right;\n",
              "    }\n",
              "</style>\n",
              "<table border=\"1\" class=\"dataframe\">\n",
              "  <thead>\n",
              "    <tr style=\"text-align: right;\">\n",
              "      <th></th>\n",
              "      <th>toxic</th>\n",
              "      <th>severe_toxic</th>\n",
              "      <th>obscene</th>\n",
              "      <th>threat</th>\n",
              "      <th>insult</th>\n",
              "      <th>identity_hate</th>\n",
              "    </tr>\n",
              "  </thead>\n",
              "  <tbody>\n",
              "    <tr>\n",
              "      <th>count</th>\n",
              "      <td>159571.000000</td>\n",
              "      <td>159571.000000</td>\n",
              "      <td>159571.000000</td>\n",
              "      <td>159571.000000</td>\n",
              "      <td>159571.000000</td>\n",
              "      <td>159571.000000</td>\n",
              "    </tr>\n",
              "    <tr>\n",
              "      <th>mean</th>\n",
              "      <td>0.095844</td>\n",
              "      <td>0.009996</td>\n",
              "      <td>0.052948</td>\n",
              "      <td>0.002996</td>\n",
              "      <td>0.049364</td>\n",
              "      <td>0.008805</td>\n",
              "    </tr>\n",
              "    <tr>\n",
              "      <th>std</th>\n",
              "      <td>0.294379</td>\n",
              "      <td>0.099477</td>\n",
              "      <td>0.223931</td>\n",
              "      <td>0.054650</td>\n",
              "      <td>0.216627</td>\n",
              "      <td>0.093420</td>\n",
              "    </tr>\n",
              "    <tr>\n",
              "      <th>min</th>\n",
              "      <td>0.000000</td>\n",
              "      <td>0.000000</td>\n",
              "      <td>0.000000</td>\n",
              "      <td>0.000000</td>\n",
              "      <td>0.000000</td>\n",
              "      <td>0.000000</td>\n",
              "    </tr>\n",
              "    <tr>\n",
              "      <th>25%</th>\n",
              "      <td>0.000000</td>\n",
              "      <td>0.000000</td>\n",
              "      <td>0.000000</td>\n",
              "      <td>0.000000</td>\n",
              "      <td>0.000000</td>\n",
              "      <td>0.000000</td>\n",
              "    </tr>\n",
              "    <tr>\n",
              "      <th>50%</th>\n",
              "      <td>0.000000</td>\n",
              "      <td>0.000000</td>\n",
              "      <td>0.000000</td>\n",
              "      <td>0.000000</td>\n",
              "      <td>0.000000</td>\n",
              "      <td>0.000000</td>\n",
              "    </tr>\n",
              "    <tr>\n",
              "      <th>75%</th>\n",
              "      <td>0.000000</td>\n",
              "      <td>0.000000</td>\n",
              "      <td>0.000000</td>\n",
              "      <td>0.000000</td>\n",
              "      <td>0.000000</td>\n",
              "      <td>0.000000</td>\n",
              "    </tr>\n",
              "    <tr>\n",
              "      <th>max</th>\n",
              "      <td>1.000000</td>\n",
              "      <td>1.000000</td>\n",
              "      <td>1.000000</td>\n",
              "      <td>1.000000</td>\n",
              "      <td>1.000000</td>\n",
              "      <td>1.000000</td>\n",
              "    </tr>\n",
              "  </tbody>\n",
              "</table>\n",
              "</div>"
            ],
            "text/plain": [
              "               toxic   severe_toxic  ...         insult  identity_hate\n",
              "count  159571.000000  159571.000000  ...  159571.000000  159571.000000\n",
              "mean        0.095844       0.009996  ...       0.049364       0.008805\n",
              "std         0.294379       0.099477  ...       0.216627       0.093420\n",
              "min         0.000000       0.000000  ...       0.000000       0.000000\n",
              "25%         0.000000       0.000000  ...       0.000000       0.000000\n",
              "50%         0.000000       0.000000  ...       0.000000       0.000000\n",
              "75%         0.000000       0.000000  ...       0.000000       0.000000\n",
              "max         1.000000       1.000000  ...       1.000000       1.000000\n",
              "\n",
              "[8 rows x 6 columns]"
            ]
          },
          "metadata": {},
          "execution_count": 12
        }
      ]
    },
    {
      "cell_type": "markdown",
      "metadata": {
        "id": "EwndGQUWTUG_"
      },
      "source": [
        "###Missing values in train_df"
      ]
    },
    {
      "cell_type": "code",
      "metadata": {
        "colab": {
          "base_uri": "https://localhost:8080/",
          "height": 429
        },
        "id": "8N7e_f2hSbj2",
        "outputId": "ac636ef9-ad38-4760-81b8-8b2b8b70fc6f"
      },
      "source": [
        "msno.bar(train_df,color='#7209b7', sort=\"ascending\", figsize=(10,5), fontsize=12)\n",
        "plt.show()"
      ],
      "execution_count": 13,
      "outputs": [
        {
          "output_type": "display_data",
          "data": {
            "image/png": "[encoded data removed]",
            "text/plain": [
              "<Figure size 720x360 with 3 Axes>"
            ]
          },
          "metadata": {
            "needs_background": "light"
          }
        }
      ]
    },
    {
      "cell_type": "markdown",
      "metadata": {
        "id": "DyE9zDCCT5jJ"
      },
      "source": [
        "###Number of occurrences of the label types"
      ]
    },
    {
      "cell_type": "code",
      "metadata": {
        "colab": {
          "base_uri": "https://localhost:8080/",
          "height": 299
        },
        "id": "ZcwbaxmmUC4e",
        "outputId": "af4ab545-1dcf-4639-91ed-ee4cecea0d07"
      },
      "source": [
        "x=train_df.iloc[:,2:].sum()\n",
        "#plot\n",
        "plt.figure(figsize=(8,4))\n",
        "ax= sns.barplot(x=x.index, y=x.values, alpha=0.8, palette = \"Paired\")\n",
        "plt.title(\"# per class\")\n",
        "plt.ylabel('# of Occurrences', fontsize=12)\n",
        "plt.xlabel('Type ', fontsize=12)\n",
        "#adding the text labels\n",
        "rects = ax.patches\n",
        "labels = x.values\n",
        "for rect, label in zip(rects, labels):\n",
        "    height = rect.get_height()\n",
        "    ax.text(rect.get_x() + rect.get_width()/2, height + 5, label, ha='center', va='bottom')\n",
        "\n",
        "plt.show()"
      ],
      "execution_count": 14,
      "outputs": [
        {
          "output_type": "display_data",
          "data": {
            "image/png": "[encoded data removed]",
            "text/plain": [
              "<Figure size 576x288 with 1 Axes>"
            ]
          },
          "metadata": {
            "needs_background": "light"
          }
        }
      ]
    },
    {
      "cell_type": "markdown",
      "metadata": {
        "id": "FcmHIpufYFfF"
      },
      "source": [
        "###Testing data"
      ]
    },
    {
      "cell_type": "code",
      "metadata": {
        "colab": {
          "base_uri": "https://localhost:8080/",
          "height": 206
        },
        "id": "G4n00d2iYKo6",
        "outputId": "1ac12cdd-d1be-48c7-cf9a-ff462960d6f0"
      },
      "source": [
        "test_df.sample(5)"
      ],
      "execution_count": 15,
      "outputs": [
        {
          "output_type": "execute_result",
          "data": {
            "text/html": [
              "<div>\n",
              "<style scoped>\n",
              "    .dataframe tbody tr th:only-of-type {\n",
              "        vertical-align: middle;\n",
              "    }\n",
              "\n",
              "    .dataframe tbody tr th {\n",
              "        vertical-align: top;\n",
              "    }\n",
              "\n",
              "    .dataframe thead th {\n",
              "        text-align: right;\n",
              "    }\n",
              "</style>\n",
              "<table border=\"1\" class=\"dataframe\">\n",
              "  <thead>\n",
              "    <tr style=\"text-align: right;\">\n",
              "      <th></th>\n",
              "      <th>id</th>\n",
              "      <th>comment_text</th>\n",
              "    </tr>\n",
              "  </thead>\n",
              "  <tbody>\n",
              "    <tr>\n",
              "      <th>56790</th>\n",
              "      <td>5e84835dc41de7ef</td>\n",
              "      <td>:I don't know, since today is the first time I...</td>\n",
              "    </tr>\n",
              "    <tr>\n",
              "      <th>128448</th>\n",
              "      <td>d6b2fb3318b76b40</td>\n",
              "      <td>\" \\n\\n == and mexicans? also radio crap i hear...</td>\n",
              "    </tr>\n",
              "    <tr>\n",
              "      <th>15531</th>\n",
              "      <td>1a1e28067e91a3b0</td>\n",
              "      <td>: Well tell your brother (and his online frien...</td>\n",
              "    </tr>\n",
              "    <tr>\n",
              "      <th>113687</th>\n",
              "      <td>bdc8e205ae9eeadf</td>\n",
              "      <td>\" I realized what silly-things I did: that's n...</td>\n",
              "    </tr>\n",
              "    <tr>\n",
              "      <th>47128</th>\n",
              "      <td>4e2ccb60b0bebc34</td>\n",
              "      <td>Okay - - feeling a little bit stupid! p - - my...</td>\n",
              "    </tr>\n",
              "  </tbody>\n",
              "</table>\n",
              "</div>"
            ],
            "text/plain": [
              "                      id                                       comment_text\n",
              "56790   5e84835dc41de7ef  :I don't know, since today is the first time I...\n",
              "128448  d6b2fb3318b76b40  \" \\n\\n == and mexicans? also radio crap i hear...\n",
              "15531   1a1e28067e91a3b0  : Well tell your brother (and his online frien...\n",
              "113687  bdc8e205ae9eeadf  \" I realized what silly-things I did: that's n...\n",
              "47128   4e2ccb60b0bebc34  Okay - - feeling a little bit stupid! p - - my..."
            ]
          },
          "metadata": {},
          "execution_count": 15
        }
      ]
    },
    {
      "cell_type": "markdown",
      "metadata": {
        "id": "HR4lNvp-TcbK"
      },
      "source": [
        "###Missing values in test_df"
      ]
    },
    {
      "cell_type": "code",
      "metadata": {
        "colab": {
          "base_uri": "https://localhost:8080/",
          "height": 429
        },
        "id": "WS3psRbvTe9J",
        "outputId": "9be35bf9-50ef-4679-8dcd-1ca6876c050c"
      },
      "source": [
        "msno.bar(test_df,color='#7209b7', sort=\"ascending\", figsize=(10,5), fontsize=12)\n",
        "plt.show()"
      ],
      "execution_count": 16,
      "outputs": [
        {
          "output_type": "display_data",
          "data": {
            "image/png": "[encoded data removed]",
            "text/plain": [
              "<Figure size 720x360 with 3 Axes>"
            ]
          },
          "metadata": {
            "needs_background": "light"
          }
        }
      ]
    },
    {
      "cell_type": "markdown",
      "metadata": {
        "id": "ZyPO0_PfYrU4"
      },
      "source": [
        "###Which tags/labels occur together the most"
      ]
    },
    {
      "cell_type": "code",
      "metadata": {
        "colab": {
          "base_uri": "https://localhost:8080/",
          "height": 506
        },
        "id": "LyyAghn3YwCx",
        "outputId": "3b05adab-fb63-426f-f987-0c0c9e334ad7"
      },
      "source": [
        "temp_df=train_df.iloc[:,2:-1]\n",
        "# filter temp by removing clean comments\n",
        "# temp_df=temp_df[~train.clean]\n",
        "\n",
        "corr=temp_df.corr()\n",
        "plt.figure(figsize=(10,8))\n",
        "sns.heatmap(corr,\n",
        "            xticklabels=corr.columns.values,\n",
        "            yticklabels=corr.columns.values, \n",
        "            annot=True,\n",
        "            cmap='RdPu',\n",
        "            linewidths=1,\n",
        "            linecolor='black')"
      ],
      "execution_count": 17,
      "outputs": [
        {
          "output_type": "execute_result",
          "data": {
            "text/plain": [
              "<matplotlib.axes._subplots.AxesSubplot at 0x7f45a1180ed0>"
            ]
          },
          "metadata": {},
          "execution_count": 17
        },
        {
          "output_type": "display_data",
          "data": {
            "image/png": "[encoded data removed]",
            "text/plain": [
              "<Figure size 720x576 with 2 Axes>"
            ]
          },
          "metadata": {
            "needs_background": "light"
          }
        }
      ]
    },
    {
      "cell_type": "code",
      "metadata": {
        "colab": {
          "base_uri": "https://localhost:8080/"
        },
        "id": "xmgpAlzsgsAv",
        "outputId": "c93bc644-af7a-4e32-9e68-30d711b9742c"
      },
      "source": [
        "# let's see the total rows in train, test data and the numbers for the various categories\n",
        "tags = ['obscene','insult','toxic','severe_toxic','identity_hate','threat']\n",
        "print('Total rows in test is {}'.format(len(test_df)))\n",
        "print('Total rows in train is {}'.format(len(train_df)))\n",
        "print(train_df[tags].sum())"
      ],
      "execution_count": 18,
      "outputs": [
        {
          "output_type": "stream",
          "name": "stdout",
          "text": [
            "Total rows in test is 153164\n",
            "Total rows in train is 159571\n",
            "obscene           8449\n",
            "insult            7877\n",
            "toxic            15294\n",
            "severe_toxic      1595\n",
            "identity_hate     1405\n",
            "threat             478\n",
            "dtype: int64\n"
          ]
        }
      ]
    },
    {
      "cell_type": "markdown",
      "metadata": {
        "id": "qaqT3ynBa2n1"
      },
      "source": [
        "###Confusion matrix/CrossTab"
      ]
    },
    {
      "cell_type": "code",
      "metadata": {
        "id": "VHvKYYXZbDJJ"
      },
      "source": [
        "def highlight_min(data, color='yellow'):\n",
        "    '''\n",
        "    highlight the maximum in a Series or DataFrame\n",
        "    '''\n",
        "    attr = 'background-color: {}'.format(color)\n",
        "    if data.ndim == 1:  # Series from .apply(axis=0) or axis=1\n",
        "        is_min = data == data.min()\n",
        "        return [attr if v else '' for v in is_min]\n",
        "    else:  # from .apply(axis=None)\n",
        "        is_max = data == data.min().min()\n",
        "        return pd.DataFrame(np.where(is_min, attr, ''),\n",
        "                            index=data.index, columns=data.columns)"
      ],
      "execution_count": 19,
      "outputs": []
    },
    {
      "cell_type": "code",
      "metadata": {
        "colab": {
          "base_uri": "https://localhost:8080/",
          "height": 174
        },
        "id": "Ztc9NvyNa52v",
        "outputId": "a118f357-0a6f-4df1-f9d6-733eda25971b"
      },
      "source": [
        "#Crosstab\n",
        "main_col=\"toxic\"\n",
        "corr_mats=[]\n",
        "for other_col in temp_df.columns[1:]:\n",
        "    confusion_matrix = pd.crosstab(temp_df[main_col], temp_df[other_col])\n",
        "    corr_mats.append(confusion_matrix)\n",
        "out = pd.concat(corr_mats,axis=1,keys=temp_df.columns[1:])\n",
        "\n",
        "#cell highlighting\n",
        "out = out.style.apply(highlight_min,axis=0)\n",
        "out"
      ],
      "execution_count": 20,
      "outputs": [
        {
          "output_type": "execute_result",
          "data": {
            "text/html": [
              "<style  type=\"text/css\" >\n",
              "#T_e4d897ce_56bf_11ec_b42c_0242ac1c0002row0_col1,#T_e4d897ce_56bf_11ec_b42c_0242ac1c0002row0_col3,#T_e4d897ce_56bf_11ec_b42c_0242ac1c0002row0_col5,#T_e4d897ce_56bf_11ec_b42c_0242ac1c0002row0_col7,#T_e4d897ce_56bf_11ec_b42c_0242ac1c0002row0_col9,#T_e4d897ce_56bf_11ec_b42c_0242ac1c0002row1_col0,#T_e4d897ce_56bf_11ec_b42c_0242ac1c0002row1_col2,#T_e4d897ce_56bf_11ec_b42c_0242ac1c0002row1_col4,#T_e4d897ce_56bf_11ec_b42c_0242ac1c0002row1_col6,#T_e4d897ce_56bf_11ec_b42c_0242ac1c0002row1_col8{\n",
              "            background-color:  yellow;\n",
              "        }</style><table id=\"T_e4d897ce_56bf_11ec_b42c_0242ac1c0002\" class=\"dataframe\"><thead>    <tr>        <th class=\"blank level0\" ></th>        <th class=\"col_heading level0 col0\" colspan=2>severe_toxic</th>        <th class=\"col_heading level0 col2\" colspan=2>obscene</th>        <th class=\"col_heading level0 col4\" colspan=2>threat</th>        <th class=\"col_heading level0 col6\" colspan=2>insult</th>        <th class=\"col_heading level0 col8\" colspan=2>identity_hate</th>    </tr>    <tr>        <th class=\"index_name level1\" >severe_toxic</th>        <th class=\"col_heading level1 col0\" >0</th>        <th class=\"col_heading level1 col1\" >1</th>        <th class=\"col_heading level1 col2\" >0</th>        <th class=\"col_heading level1 col3\" >1</th>        <th class=\"col_heading level1 col4\" >0</th>        <th class=\"col_heading level1 col5\" >1</th>        <th class=\"col_heading level1 col6\" >0</th>        <th class=\"col_heading level1 col7\" >1</th>        <th class=\"col_heading level1 col8\" >0</th>        <th class=\"col_heading level1 col9\" >1</th>    </tr>    <tr>        <th class=\"index_name level0\" >toxic</th>        <th class=\"blank\" ></th>        <th class=\"blank\" ></th>        <th class=\"blank\" ></th>        <th class=\"blank\" ></th>        <th class=\"blank\" ></th>        <th class=\"blank\" ></th>        <th class=\"blank\" ></th>        <th class=\"blank\" ></th>        <th class=\"blank\" ></th>        <th class=\"blank\" ></th>    </tr></thead><tbody>\n",
              "                <tr>\n",
              "                        <th id=\"T_e4d897ce_56bf_11ec_b42c_0242ac1c0002level0_row0\" class=\"row_heading level0 row0\" >0</th>\n",
              "                        <td id=\"T_e4d897ce_56bf_11ec_b42c_0242ac1c0002row0_col0\" class=\"data row0 col0\" >144277</td>\n",
              "                        <td id=\"T_e4d897ce_56bf_11ec_b42c_0242ac1c0002row0_col1\" class=\"data row0 col1\" >0</td>\n",
              "                        <td id=\"T_e4d897ce_56bf_11ec_b42c_0242ac1c0002row0_col2\" class=\"data row0 col2\" >143754</td>\n",
              "                        <td id=\"T_e4d897ce_56bf_11ec_b42c_0242ac1c0002row0_col3\" class=\"data row0 col3\" >523</td>\n",
              "                        <td id=\"T_e4d897ce_56bf_11ec_b42c_0242ac1c0002row0_col4\" class=\"data row0 col4\" >144248</td>\n",
              "                        <td id=\"T_e4d897ce_56bf_11ec_b42c_0242ac1c0002row0_col5\" class=\"data row0 col5\" >29</td>\n",
              "                        <td id=\"T_e4d897ce_56bf_11ec_b42c_0242ac1c0002row0_col6\" class=\"data row0 col6\" >143744</td>\n",
              "                        <td id=\"T_e4d897ce_56bf_11ec_b42c_0242ac1c0002row0_col7\" class=\"data row0 col7\" >533</td>\n",
              "                        <td id=\"T_e4d897ce_56bf_11ec_b42c_0242ac1c0002row0_col8\" class=\"data row0 col8\" >144174</td>\n",
              "                        <td id=\"T_e4d897ce_56bf_11ec_b42c_0242ac1c0002row0_col9\" class=\"data row0 col9\" >103</td>\n",
              "            </tr>\n",
              "            <tr>\n",
              "                        <th id=\"T_e4d897ce_56bf_11ec_b42c_0242ac1c0002level0_row1\" class=\"row_heading level0 row1\" >1</th>\n",
              "                        <td id=\"T_e4d897ce_56bf_11ec_b42c_0242ac1c0002row1_col0\" class=\"data row1 col0\" >13699</td>\n",
              "                        <td id=\"T_e4d897ce_56bf_11ec_b42c_0242ac1c0002row1_col1\" class=\"data row1 col1\" >1595</td>\n",
              "                        <td id=\"T_e4d897ce_56bf_11ec_b42c_0242ac1c0002row1_col2\" class=\"data row1 col2\" >7368</td>\n",
              "                        <td id=\"T_e4d897ce_56bf_11ec_b42c_0242ac1c0002row1_col3\" class=\"data row1 col3\" >7926</td>\n",
              "                        <td id=\"T_e4d897ce_56bf_11ec_b42c_0242ac1c0002row1_col4\" class=\"data row1 col4\" >14845</td>\n",
              "                        <td id=\"T_e4d897ce_56bf_11ec_b42c_0242ac1c0002row1_col5\" class=\"data row1 col5\" >449</td>\n",
              "                        <td id=\"T_e4d897ce_56bf_11ec_b42c_0242ac1c0002row1_col6\" class=\"data row1 col6\" >7950</td>\n",
              "                        <td id=\"T_e4d897ce_56bf_11ec_b42c_0242ac1c0002row1_col7\" class=\"data row1 col7\" >7344</td>\n",
              "                        <td id=\"T_e4d897ce_56bf_11ec_b42c_0242ac1c0002row1_col8\" class=\"data row1 col8\" >13992</td>\n",
              "                        <td id=\"T_e4d897ce_56bf_11ec_b42c_0242ac1c0002row1_col9\" class=\"data row1 col9\" >1302</td>\n",
              "            </tr>\n",
              "    </tbody></table>"
            ],
            "text/plain": [
              "<pandas.io.formats.style.Styler at 0x7f45ab532c50>"
            ]
          },
          "metadata": {},
          "execution_count": 20
        }
      ]
    },
    {
      "cell_type": "markdown",
      "metadata": {
        "id": "-Qn2lW1bbzMF"
      },
      "source": [
        "We can see that severely toxic comments are always toxic."
      ]
    },
    {
      "cell_type": "markdown",
      "metadata": {
        "id": "C4mQvJVGcFbN"
      },
      "source": [
        "###**Example Comments**"
      ]
    },
    {
      "cell_type": "code",
      "metadata": {
        "colab": {
          "base_uri": "https://localhost:8080/"
        },
        "id": "Bl2CZEc9cKvx",
        "outputId": "a418b16f-6636-4a3c-cb28-3c659d5b09cf"
      },
      "source": [
        "print(\"toxic:\")\n",
        "print(train_df[train_df.severe_toxic==1].iloc[14,1])"
      ],
      "execution_count": 21,
      "outputs": [
        {
          "output_type": "stream",
          "name": "stdout",
          "text": [
            "toxic:\n",
            "SHUT UP, YOU FAT POOP, OR I WILL KICK YOUR ASS!!!\n"
          ]
        }
      ]
    },
    {
      "cell_type": "code",
      "metadata": {
        "colab": {
          "base_uri": "https://localhost:8080/"
        },
        "id": "t-tRx72ycxc9",
        "outputId": "4e36262e-e319-49c0-d24a-b566c42d4204"
      },
      "source": [
        "print(\"severe_toxic:\")\n",
        "print(train_df[train_df.severe_toxic==1].iloc[5,1])"
      ],
      "execution_count": 22,
      "outputs": [
        {
          "output_type": "stream",
          "name": "stdout",
          "text": [
            "severe_toxic:\n",
            "\"You know, I was thinking...\n",
            "\n",
            "Nobody really attacked me before I revealed my age here.  After I announced that I was 14, I was subject to a constant storm of harassment and abuse.\n",
            "\n",
            "The same thing goes for when I was on The Sandbox when I was 11.  Before people knew my age, they didn't care.  After I told them my age, they hated me.\n",
            "\n",
            "It's just so amusing how the idiot Soapboxers think of teenagers as being responsible for the \"\"decline\"\" of The Soapbox (like it was ever any good to begin with).  This is funny, because the adults are the dumbest people here.  Mauricio, Chuppah, Redneckgirl, Pinky, Scooby, GG, ForeverLostTinkerbell, greenrabbit, StarRocketsInFlight, Bree-Robinson, enigma-72, CocaineNightmares, TokyoDome, Chad_Ocho-Cinco, Steve Lake...\n",
            "\n",
            "...all adults.\n",
            "\n",
            "The teenage posters here are typically the smartest ones.  Let's see... G-Dawg, Head_Banging_Brunette, ClassicAge, Metropolis (even though he's a bipolar weirdo), ChrisScript, just to name a few.\n",
            "\n",
            "All I ever see adults posting is \"\"rate my poo!!1!\"\", \"\"my ballz smell funny\"\", \"\"whoz hawter: me or ur mom???//?/?\"\", \"\"i like to rape little girls\"\", and \"\"HEY GUYZ LOOK AT ME IM AN ATTENTION WHORE!!!!11!!1!\"\"  The adult posters here are immature, moronic, savage bullies with the mental capacity of a retarded 4-year-old.\n",
            "\n",
            "Whereas, most of the teenagers here are thoughtful, intelligent, mature, and often profound.  But they're subject to constant schoolyard bullying by the idiot adult posters who think they're somehow superior because they were born (and dropped on their head) earlier.\n",
            "\n",
            "Soapbox logic never fails to amuse me...\n",
            "\"\n"
          ]
        }
      ]
    },
    {
      "cell_type": "code",
      "metadata": {
        "colab": {
          "base_uri": "https://localhost:8080/"
        },
        "id": "BaMjQBqHdHWQ",
        "outputId": "5e42c063-b1b9-4324-b15b-131a827cc61a"
      },
      "source": [
        "print(\"Threat:\")\n",
        "print(train_df[train_df.threat==1].iloc[2,1])"
      ],
      "execution_count": 23,
      "outputs": [
        {
          "output_type": "stream",
          "name": "stdout",
          "text": [
            "Threat:\n",
            "I'm also a sock puppet of this account...SUPRISE!!\n",
            "-sincerely,\n",
            "            The man that will track you down from the Internet and kill you\n"
          ]
        }
      ]
    },
    {
      "cell_type": "code",
      "metadata": {
        "colab": {
          "base_uri": "https://localhost:8080/"
        },
        "id": "k9fhDZp1dRXC",
        "outputId": "751789f4-5b73-4974-a2e3-6a26080805aa"
      },
      "source": [
        "print(\"Obscene:\")\n",
        "print(train_df[train_df.obscene==1].iloc[4,1])"
      ],
      "execution_count": 24,
      "outputs": [
        {
          "output_type": "stream",
          "name": "stdout",
          "text": [
            "Obscene:\n",
            "Stupid peace of shit stop deleting my stuff asshole go die and fall in a hole go to hell!\n"
          ]
        }
      ]
    },
    {
      "cell_type": "code",
      "metadata": {
        "colab": {
          "base_uri": "https://localhost:8080/"
        },
        "id": "HZrgAVC_fbiS",
        "outputId": "eb74bdf6-aae5-4be7-f59d-82b57944455a"
      },
      "source": [
        "print(\"identity_hate:\")\n",
        "print(train_df[train_df.identity_hate==1].iloc[5,1])"
      ],
      "execution_count": 25,
      "outputs": [
        {
          "output_type": "stream",
          "name": "stdout",
          "text": [
            "identity_hate:\n",
            "Gay \n",
            "\n",
            "The existence of CDVF is further proof that  is a sad twat. He is also very ugly, and has a willy for a face.\n"
          ]
        }
      ]
    },
    {
      "cell_type": "markdown",
      "metadata": {
        "id": "NEBEhnt2gRtu"
      },
      "source": [
        "# ***Feature Engineering***\n",
        "\n",
        "###Indirect features"
      ]
    },
    {
      "cell_type": "code",
      "metadata": {
        "id": "rLXqqz6JgROd"
      },
      "source": [
        "merge=pd.concat([train_df.iloc[:,0:2],test_df.iloc[:,0:2]])\n",
        "df=merge.reset_index(drop=True)"
      ],
      "execution_count": 26,
      "outputs": []
    },
    {
      "cell_type": "code",
      "metadata": {
        "colab": {
          "base_uri": "https://localhost:8080/",
          "height": 466
        },
        "id": "rJWQiPgjhun7",
        "outputId": "a5a2057a-d127-4d21-93c3-f3841303ebc8"
      },
      "source": [
        "## Indirect features\n",
        "\n",
        "#Sentense count in each comment:\n",
        "    #  '\\n' can be used to count the number of sentences in each comment\n",
        "df['count_sent']=df[\"comment_text\"].apply(lambda x: len(re.findall(\"\\n\",str(x)))+1)\n",
        "#Word count in each comment:\n",
        "df['count_word']=df[\"comment_text\"].apply(lambda x: len(str(x).split()))\n",
        "#Unique word count\n",
        "df['count_unique_word']=df[\"comment_text\"].apply(lambda x: len(set(str(x).split())))\n",
        "#Letter count\n",
        "df['count_letters']=df[\"comment_text\"].apply(lambda x: len(str(x)))\n",
        "#punctuation count\n",
        "df[\"count_punctuations\"] =df[\"comment_text\"].apply(lambda x: len([c for c in str(x) if c in string.punctuation]))\n",
        "#upper case words count\n",
        "df[\"count_words_upper\"] = df[\"comment_text\"].apply(lambda x: len([w for w in str(x).split() if w.isupper()]))\n",
        "#title case words count\n",
        "df[\"count_words_title\"] = df[\"comment_text\"].apply(lambda x: len([w for w in str(x).split() if w.istitle()]))\n",
        "#Number of stopwords\n",
        "nltk.download('stopwords')\n",
        "eng_stopwords = set(stopwords.words(\"english\"))\n",
        "df[\"count_stopwords\"] = df[\"comment_text\"].apply(lambda x: len([w for w in str(x).lower().split() if w in eng_stopwords]))\n",
        "#Average length of the words\n",
        "df[\"mean_word_len\"] = df[\"comment_text\"].apply(lambda x: np.mean([len(w) for w in str(x).split()]))\n",
        "\n",
        "df.head(5)"
      ],
      "execution_count": 27,
      "outputs": [
        {
          "output_type": "stream",
          "name": "stdout",
          "text": [
            "[nltk_data] Downloading package stopwords to /root/nltk_data...\n",
            "[nltk_data]   Unzipping corpora/stopwords.zip.\n"
          ]
        },
        {
          "output_type": "stream",
          "name": "stderr",
          "text": [
            "/usr/local/lib/python3.7/dist-packages/numpy/core/fromnumeric.py:3373: RuntimeWarning: Mean of empty slice.\n",
            "  out=out, **kwargs)\n"
          ]
        },
        {
          "output_type": "execute_result",
          "data": {
            "text/html": [
              "<div>\n",
              "<style scoped>\n",
              "    .dataframe tbody tr th:only-of-type {\n",
              "        vertical-align: middle;\n",
              "    }\n",
              "\n",
              "    .dataframe tbody tr th {\n",
              "        vertical-align: top;\n",
              "    }\n",
              "\n",
              "    .dataframe thead th {\n",
              "        text-align: right;\n",
              "    }\n",
              "</style>\n",
              "<table border=\"1\" class=\"dataframe\">\n",
              "  <thead>\n",
              "    <tr style=\"text-align: right;\">\n",
              "      <th></th>\n",
              "      <th>id</th>\n",
              "      <th>comment_text</th>\n",
              "      <th>count_sent</th>\n",
              "      <th>count_word</th>\n",
              "      <th>count_unique_word</th>\n",
              "      <th>count_letters</th>\n",
              "      <th>count_punctuations</th>\n",
              "      <th>count_words_upper</th>\n",
              "      <th>count_words_title</th>\n",
              "      <th>count_stopwords</th>\n",
              "      <th>mean_word_len</th>\n",
              "    </tr>\n",
              "  </thead>\n",
              "  <tbody>\n",
              "    <tr>\n",
              "      <th>0</th>\n",
              "      <td>0000997932d777bf</td>\n",
              "      <td>Explanation\\nWhy the edits made under my usern...</td>\n",
              "      <td>2</td>\n",
              "      <td>43</td>\n",
              "      <td>41</td>\n",
              "      <td>264</td>\n",
              "      <td>10</td>\n",
              "      <td>2</td>\n",
              "      <td>11</td>\n",
              "      <td>18</td>\n",
              "      <td>5.162791</td>\n",
              "    </tr>\n",
              "    <tr>\n",
              "      <th>1</th>\n",
              "      <td>000103f0d9cfb60f</td>\n",
              "      <td>D'aww! He matches this background colour I'm s...</td>\n",
              "      <td>1</td>\n",
              "      <td>17</td>\n",
              "      <td>17</td>\n",
              "      <td>112</td>\n",
              "      <td>12</td>\n",
              "      <td>1</td>\n",
              "      <td>3</td>\n",
              "      <td>2</td>\n",
              "      <td>5.588235</td>\n",
              "    </tr>\n",
              "    <tr>\n",
              "      <th>2</th>\n",
              "      <td>000113f07ec002fd</td>\n",
              "      <td>Hey man, I'm really not trying to edit war. It...</td>\n",
              "      <td>1</td>\n",
              "      <td>42</td>\n",
              "      <td>39</td>\n",
              "      <td>233</td>\n",
              "      <td>6</td>\n",
              "      <td>0</td>\n",
              "      <td>2</td>\n",
              "      <td>20</td>\n",
              "      <td>4.571429</td>\n",
              "    </tr>\n",
              "    <tr>\n",
              "      <th>3</th>\n",
              "      <td>0001b41b1c6bb37e</td>\n",
              "      <td>\"\\nMore\\nI can't make any real suggestions on ...</td>\n",
              "      <td>5</td>\n",
              "      <td>113</td>\n",
              "      <td>82</td>\n",
              "      <td>622</td>\n",
              "      <td>21</td>\n",
              "      <td>5</td>\n",
              "      <td>7</td>\n",
              "      <td>56</td>\n",
              "      <td>4.486726</td>\n",
              "    </tr>\n",
              "    <tr>\n",
              "      <th>4</th>\n",
              "      <td>0001d958c54c6e35</td>\n",
              "      <td>You, sir, are my hero. Any chance you remember...</td>\n",
              "      <td>1</td>\n",
              "      <td>13</td>\n",
              "      <td>13</td>\n",
              "      <td>67</td>\n",
              "      <td>5</td>\n",
              "      <td>0</td>\n",
              "      <td>2</td>\n",
              "      <td>5</td>\n",
              "      <td>4.230769</td>\n",
              "    </tr>\n",
              "  </tbody>\n",
              "</table>\n",
              "</div>"
            ],
            "text/plain": [
              "                 id  ... mean_word_len\n",
              "0  0000997932d777bf  ...      5.162791\n",
              "1  000103f0d9cfb60f  ...      5.588235\n",
              "2  000113f07ec002fd  ...      4.571429\n",
              "3  0001b41b1c6bb37e  ...      4.486726\n",
              "4  0001d958c54c6e35  ...      4.230769\n",
              "\n",
              "[5 rows x 11 columns]"
            ]
          },
          "metadata": {},
          "execution_count": 27
        }
      ]
    },
    {
      "cell_type": "code",
      "metadata": {
        "colab": {
          "base_uri": "https://localhost:8080/",
          "height": 417
        },
        "id": "dnp6Gtyvj8cZ",
        "outputId": "5dca71b4-eb52-40c1-bf2a-f134aff193d6"
      },
      "source": [
        "#derived features\n",
        "#Word count percent in each comment:\n",
        "df['word_unique_percent']=df['count_unique_word']*100/df['count_word']\n",
        "#derived features\n",
        "#Punct percent in each comment:\n",
        "df['punct_percent']=df['count_punctuations']*100/df['count_word']\n",
        "\n",
        "df.head(5)"
      ],
      "execution_count": 28,
      "outputs": [
        {
          "output_type": "execute_result",
          "data": {
            "text/html": [
              "<div>\n",
              "<style scoped>\n",
              "    .dataframe tbody tr th:only-of-type {\n",
              "        vertical-align: middle;\n",
              "    }\n",
              "\n",
              "    .dataframe tbody tr th {\n",
              "        vertical-align: top;\n",
              "    }\n",
              "\n",
              "    .dataframe thead th {\n",
              "        text-align: right;\n",
              "    }\n",
              "</style>\n",
              "<table border=\"1\" class=\"dataframe\">\n",
              "  <thead>\n",
              "    <tr style=\"text-align: right;\">\n",
              "      <th></th>\n",
              "      <th>id</th>\n",
              "      <th>comment_text</th>\n",
              "      <th>count_sent</th>\n",
              "      <th>count_word</th>\n",
              "      <th>count_unique_word</th>\n",
              "      <th>count_letters</th>\n",
              "      <th>count_punctuations</th>\n",
              "      <th>count_words_upper</th>\n",
              "      <th>count_words_title</th>\n",
              "      <th>count_stopwords</th>\n",
              "      <th>mean_word_len</th>\n",
              "      <th>word_unique_percent</th>\n",
              "      <th>punct_percent</th>\n",
              "    </tr>\n",
              "  </thead>\n",
              "  <tbody>\n",
              "    <tr>\n",
              "      <th>0</th>\n",
              "      <td>0000997932d777bf</td>\n",
              "      <td>Explanation\\nWhy the edits made under my usern...</td>\n",
              "      <td>2</td>\n",
              "      <td>43</td>\n",
              "      <td>41</td>\n",
              "      <td>264</td>\n",
              "      <td>10</td>\n",
              "      <td>2</td>\n",
              "      <td>11</td>\n",
              "      <td>18</td>\n",
              "      <td>5.162791</td>\n",
              "      <td>95.348837</td>\n",
              "      <td>23.255814</td>\n",
              "    </tr>\n",
              "    <tr>\n",
              "      <th>1</th>\n",
              "      <td>000103f0d9cfb60f</td>\n",
              "      <td>D'aww! He matches this background colour I'm s...</td>\n",
              "      <td>1</td>\n",
              "      <td>17</td>\n",
              "      <td>17</td>\n",
              "      <td>112</td>\n",
              "      <td>12</td>\n",
              "      <td>1</td>\n",
              "      <td>3</td>\n",
              "      <td>2</td>\n",
              "      <td>5.588235</td>\n",
              "      <td>100.000000</td>\n",
              "      <td>70.588235</td>\n",
              "    </tr>\n",
              "    <tr>\n",
              "      <th>2</th>\n",
              "      <td>000113f07ec002fd</td>\n",
              "      <td>Hey man, I'm really not trying to edit war. It...</td>\n",
              "      <td>1</td>\n",
              "      <td>42</td>\n",
              "      <td>39</td>\n",
              "      <td>233</td>\n",
              "      <td>6</td>\n",
              "      <td>0</td>\n",
              "      <td>2</td>\n",
              "      <td>20</td>\n",
              "      <td>4.571429</td>\n",
              "      <td>92.857143</td>\n",
              "      <td>14.285714</td>\n",
              "    </tr>\n",
              "    <tr>\n",
              "      <th>3</th>\n",
              "      <td>0001b41b1c6bb37e</td>\n",
              "      <td>\"\\nMore\\nI can't make any real suggestions on ...</td>\n",
              "      <td>5</td>\n",
              "      <td>113</td>\n",
              "      <td>82</td>\n",
              "      <td>622</td>\n",
              "      <td>21</td>\n",
              "      <td>5</td>\n",
              "      <td>7</td>\n",
              "      <td>56</td>\n",
              "      <td>4.486726</td>\n",
              "      <td>72.566372</td>\n",
              "      <td>18.584071</td>\n",
              "    </tr>\n",
              "    <tr>\n",
              "      <th>4</th>\n",
              "      <td>0001d958c54c6e35</td>\n",
              "      <td>You, sir, are my hero. Any chance you remember...</td>\n",
              "      <td>1</td>\n",
              "      <td>13</td>\n",
              "      <td>13</td>\n",
              "      <td>67</td>\n",
              "      <td>5</td>\n",
              "      <td>0</td>\n",
              "      <td>2</td>\n",
              "      <td>5</td>\n",
              "      <td>4.230769</td>\n",
              "      <td>100.000000</td>\n",
              "      <td>38.461538</td>\n",
              "    </tr>\n",
              "  </tbody>\n",
              "</table>\n",
              "</div>"
            ],
            "text/plain": [
              "                 id  ... punct_percent\n",
              "0  0000997932d777bf  ...     23.255814\n",
              "1  000103f0d9cfb60f  ...     70.588235\n",
              "2  000113f07ec002fd  ...     14.285714\n",
              "3  0001b41b1c6bb37e  ...     18.584071\n",
              "4  0001d958c54c6e35  ...     38.461538\n",
              "\n",
              "[5 rows x 13 columns]"
            ]
          },
          "metadata": {},
          "execution_count": 28
        }
      ]
    },
    {
      "cell_type": "code",
      "metadata": {
        "id": "ccM5wjLdkMJ0"
      },
      "source": [
        "#seperate train and test features\n",
        "train_feats=df.iloc[0:len(train_df),]\n",
        "test_feats=df.iloc[len(train_df):,]\n",
        "#join the tags\n",
        "train_tags=train_df.iloc[:,2:]\n",
        "train_feats=pd.concat([train_feats,train_tags],axis=1)"
      ],
      "execution_count": 29,
      "outputs": []
    },
    {
      "cell_type": "markdown",
      "metadata": {
        "id": "RYVH3azCF1kz"
      },
      "source": [
        "# ***Data Preparation***"
      ]
    },
    {
      "cell_type": "code",
      "metadata": {
        "colab": {
          "base_uri": "https://localhost:8080/"
        },
        "id": "yCVhhpE4F9fx",
        "outputId": "66f24abf-5272-47a7-ec76-e4af2ef175a8"
      },
      "source": [
        "# importing libraries\n",
        "import tensorflow as tf\n",
        "from keras import initializers, regularizers, constraints, optimizers, layers, callbacks\n",
        "from keras.callbacks import EarlyStopping,ModelCheckpoint\n",
        "from keras.preprocessing.text import Tokenizer\n",
        "from keras.preprocessing.sequence import pad_sequences\n",
        "from keras.preprocessing import text, sequence\n",
        "from keras import initializers, regularizers, constraints, optimizers, layers\n",
        "from keras.models import Model, Input, Sequential\n",
        "from keras.layers import Dense, Input, LSTM, SimpleRNN, Embedding, Dropout, SpatialDropout1D, Activation, Conv1D,GRU\n",
        "from keras.layers import Conv1D, Bidirectional, GlobalMaxPool1D, MaxPooling1D, BatchNormalization, Add, Flatten\n",
        "from keras.layers import GlobalMaxPooling1D, GlobalAveragePooling1D, concatenate, SpatialDropout1D\n",
        "from tensorflow.keras.optimizers import Adam\n",
        "from keras.utils.vis_utils import plot_model\n",
        "from sklearn.model_selection  import train_test_split\n",
        "#from sklearn.cross_validation import train_test_split\n",
        "\n",
        "# For custom metrics\n",
        "import keras.backend as K\n",
        "from keras.utils.vis_utils import plot_model\n",
        "from keras.callbacks import EarlyStopping \n",
        "\n",
        "\n",
        "import pandas as pd\n",
        "import numpy as np\n",
        " \n",
        "import matplotlib.pyplot as plt\n",
        "\n",
        "plt.style.use('seaborn')\n",
        "\n",
        "import seaborn as sns\n",
        "from IPython.display import Image\n",
        "\n",
        "from tqdm import tqdm\n",
        "from nltk.corpus import stopwords\n",
        "from nltk.tokenize import RegexpTokenizer \n",
        "import os, re, csv, math, codecs\n",
        "from nltk.tokenize import word_tokenize\n",
        "import string\n",
        "import gensim\n",
        "import os\n",
        "import re\n",
        "\n",
        "sns.set_style(\"whitegrid\")\n",
        "np.random.seed(0)\n",
        "\n",
        "!pip install chart_studio\n",
        "import chart_studio.plotly as py\n",
        "import plotly.graph_objs as go\n",
        "import chart_studio\n",
        "chart_studio.tools.set_credentials_file(username='n_p', api_key='••••••••••')\n",
        "\n",
        "\n",
        "# Install dependencies\n",
        "!apt install graphviz\n",
        "!pip install pydot pydot-ng\n",
        "!echo \"Double check with Python 3\"\n",
        "!python -c \"import pydot\""
      ],
      "execution_count": 30,
      "outputs": [
        {
          "output_type": "stream",
          "name": "stdout",
          "text": [
            "Collecting chart_studio\n",
            "  Downloading chart_studio-1.1.0-py3-none-any.whl (64 kB)\n",
            "\u001b[?25l\r\u001b[K     |█████                           | 10 kB 16.6 MB/s eta 0:00:01\r\u001b[K     |██████████▏                     | 20 kB 21.6 MB/s eta 0:00:01\r\u001b[K     |███████████████▎                | 30 kB 20.3 MB/s eta 0:00:01\r\u001b[K     |████████████████████▍           | 40 kB 16.1 MB/s eta 0:00:01\r\u001b[K     |█████████████████████████▍      | 51 kB 7.5 MB/s eta 0:00:01\r\u001b[K     |██████████████████████████████▌ | 61 kB 8.8 MB/s eta 0:00:01\r\u001b[K     |████████████████████████████████| 64 kB 2.2 MB/s \n",
            "\u001b[?25hRequirement already satisfied: requests in /usr/local/lib/python3.7/dist-packages (from chart_studio) (2.23.0)\n",
            "Requirement already satisfied: plotly in /usr/local/lib/python3.7/dist-packages (from chart_studio) (4.4.1)\n",
            "Requirement already satisfied: six in /usr/local/lib/python3.7/dist-packages (from chart_studio) (1.15.0)\n",
            "Requirement already satisfied: retrying>=1.3.3 in /usr/local/lib/python3.7/dist-packages (from chart_studio) (1.3.3)\n",
            "Requirement already satisfied: chardet<4,>=3.0.2 in /usr/local/lib/python3.7/dist-packages (from requests->chart_studio) (3.0.4)\n",
            "Requirement already satisfied: certifi>=2017.4.17 in /usr/local/lib/python3.7/dist-packages (from requests->chart_studio) (2021.10.8)\n",
            "Requirement already satisfied: urllib3!=1.25.0,!=1.25.1,<1.26,>=1.21.1 in /usr/local/lib/python3.7/dist-packages (from requests->chart_studio) (1.24.3)\n",
            "Requirement already satisfied: idna<3,>=2.5 in /usr/local/lib/python3.7/dist-packages (from requests->chart_studio) (2.10)\n",
            "Installing collected packages: chart-studio\n",
            "Successfully installed chart-studio-1.1.0\n",
            "Reading package lists... Done\n",
            "Building dependency tree       \n",
            "Reading state information... Done\n",
            "graphviz is already the newest version (2.40.1-2).\n",
            "0 upgraded, 0 newly installed, 0 to remove and 37 not upgraded.\n",
            "Requirement already satisfied: pydot in /usr/local/lib/python3.7/dist-packages (1.3.0)\n",
            "Requirement already satisfied: pydot-ng in /usr/local/lib/python3.7/dist-packages (2.0.0)\n",
            "Requirement already satisfied: pyparsing>=2.1.4 in /usr/local/lib/python3.7/dist-packages (from pydot) (3.0.6)\n",
            "Double check with Python 3\n"
          ]
        }
      ]
    },
    {
      "cell_type": "code",
      "metadata": {
        "colab": {
          "base_uri": "https://localhost:8080/",
          "height": 206
        },
        "id": "dLUigjACL2u9",
        "outputId": "c111909f-7ac0-4122-f52b-3ef6a3f03cb2"
      },
      "source": [
        "train_df = train_df.loc[(train_df['toxic'] == 1) | (train_df['severe_toxic'] == 1) | (train_df['obscene'] ==1) | (train_df['threat'] == 1) | (train_df['insult'] == 1) | (train_df['identity_hate'] ==1)]\n",
        "\n",
        "train_df.head(5)"
      ],
      "execution_count": 31,
      "outputs": [
        {
          "output_type": "execute_result",
          "data": {
            "text/html": [
              "<div>\n",
              "<style scoped>\n",
              "    .dataframe tbody tr th:only-of-type {\n",
              "        vertical-align: middle;\n",
              "    }\n",
              "\n",
              "    .dataframe tbody tr th {\n",
              "        vertical-align: top;\n",
              "    }\n",
              "\n",
              "    .dataframe thead th {\n",
              "        text-align: right;\n",
              "    }\n",
              "</style>\n",
              "<table border=\"1\" class=\"dataframe\">\n",
              "  <thead>\n",
              "    <tr style=\"text-align: right;\">\n",
              "      <th></th>\n",
              "      <th>id</th>\n",
              "      <th>comment_text</th>\n",
              "      <th>toxic</th>\n",
              "      <th>severe_toxic</th>\n",
              "      <th>obscene</th>\n",
              "      <th>threat</th>\n",
              "      <th>insult</th>\n",
              "      <th>identity_hate</th>\n",
              "      <th>unlabelled</th>\n",
              "    </tr>\n",
              "  </thead>\n",
              "  <tbody>\n",
              "    <tr>\n",
              "      <th>6</th>\n",
              "      <td>0002bcb3da6cb337</td>\n",
              "      <td>COCKSUCKER BEFORE YOU PISS AROUND ON MY WORK</td>\n",
              "      <td>1</td>\n",
              "      <td>1</td>\n",
              "      <td>1</td>\n",
              "      <td>0</td>\n",
              "      <td>1</td>\n",
              "      <td>0</td>\n",
              "      <td>False</td>\n",
              "    </tr>\n",
              "    <tr>\n",
              "      <th>12</th>\n",
              "      <td>0005c987bdfc9d4b</td>\n",
              "      <td>Hey... what is it..\\n@ | talk .\\nWhat is it......</td>\n",
              "      <td>1</td>\n",
              "      <td>0</td>\n",
              "      <td>0</td>\n",
              "      <td>0</td>\n",
              "      <td>0</td>\n",
              "      <td>0</td>\n",
              "      <td>False</td>\n",
              "    </tr>\n",
              "    <tr>\n",
              "      <th>16</th>\n",
              "      <td>0007e25b2121310b</td>\n",
              "      <td>Bye! \\n\\nDon't look, come or think of comming ...</td>\n",
              "      <td>1</td>\n",
              "      <td>0</td>\n",
              "      <td>0</td>\n",
              "      <td>0</td>\n",
              "      <td>0</td>\n",
              "      <td>0</td>\n",
              "      <td>False</td>\n",
              "    </tr>\n",
              "    <tr>\n",
              "      <th>42</th>\n",
              "      <td>001810bf8c45bf5f</td>\n",
              "      <td>You are gay or antisemmitian? \\n\\nArchangel WH...</td>\n",
              "      <td>1</td>\n",
              "      <td>0</td>\n",
              "      <td>1</td>\n",
              "      <td>0</td>\n",
              "      <td>1</td>\n",
              "      <td>1</td>\n",
              "      <td>False</td>\n",
              "    </tr>\n",
              "    <tr>\n",
              "      <th>43</th>\n",
              "      <td>00190820581d90ce</td>\n",
              "      <td>FUCK YOUR FILTHY MOTHER IN THE ASS, DRY!</td>\n",
              "      <td>1</td>\n",
              "      <td>0</td>\n",
              "      <td>1</td>\n",
              "      <td>0</td>\n",
              "      <td>1</td>\n",
              "      <td>0</td>\n",
              "      <td>False</td>\n",
              "    </tr>\n",
              "  </tbody>\n",
              "</table>\n",
              "</div>"
            ],
            "text/plain": [
              "                  id  ... unlabelled\n",
              "6   0002bcb3da6cb337  ...      False\n",
              "12  0005c987bdfc9d4b  ...      False\n",
              "16  0007e25b2121310b  ...      False\n",
              "42  001810bf8c45bf5f  ...      False\n",
              "43  00190820581d90ce  ...      False\n",
              "\n",
              "[5 rows x 9 columns]"
            ]
          },
          "metadata": {},
          "execution_count": 31
        }
      ]
    },
    {
      "cell_type": "markdown",
      "metadata": {
        "id": "T8haZ7p2IlIp"
      },
      "source": [
        "## Cleaning the Train dataset"
      ]
    },
    {
      "cell_type": "code",
      "metadata": {
        "colab": {
          "base_uri": "https://localhost:8080/",
          "height": 363
        },
        "id": "5zKjvvb2ISEX",
        "outputId": "4da0717b-e789-4c94-9223-89950a1a57a5"
      },
      "source": [
        "#Removing punctuations\n",
        "totalContentCleaned = []\n",
        "punctDict = {}\n",
        "for punct in string.punctuation:\n",
        "    punctDict[punct] = None\n",
        "transString = str.maketrans(punctDict)\n",
        "# since we intent to remove any punctuation with ''\n",
        "for sen in train_df['comment_text']:\n",
        "    \n",
        "    #cleanedString = re.sub('[^a-zA-Z]+', '', sen)\n",
        "    \n",
        "    p = sen.translate(transString)\n",
        "    totalContentCleaned.append(p)\n",
        "    \n",
        "\n",
        "train_df['comment_text'] = totalContentCleaned\n",
        "\n",
        "train_df.sample(10)"
      ],
      "execution_count": 32,
      "outputs": [
        {
          "output_type": "execute_result",
          "data": {
            "text/html": [
              "<div>\n",
              "<style scoped>\n",
              "    .dataframe tbody tr th:only-of-type {\n",
              "        vertical-align: middle;\n",
              "    }\n",
              "\n",
              "    .dataframe tbody tr th {\n",
              "        vertical-align: top;\n",
              "    }\n",
              "\n",
              "    .dataframe thead th {\n",
              "        text-align: right;\n",
              "    }\n",
              "</style>\n",
              "<table border=\"1\" class=\"dataframe\">\n",
              "  <thead>\n",
              "    <tr style=\"text-align: right;\">\n",
              "      <th></th>\n",
              "      <th>id</th>\n",
              "      <th>comment_text</th>\n",
              "      <th>toxic</th>\n",
              "      <th>severe_toxic</th>\n",
              "      <th>obscene</th>\n",
              "      <th>threat</th>\n",
              "      <th>insult</th>\n",
              "      <th>identity_hate</th>\n",
              "      <th>unlabelled</th>\n",
              "    </tr>\n",
              "  </thead>\n",
              "  <tbody>\n",
              "    <tr>\n",
              "      <th>128205</th>\n",
              "      <td>ada49191ec6f498e</td>\n",
              "      <td>Nitpicking\\nIf someone is complaining about so...</td>\n",
              "      <td>1</td>\n",
              "      <td>0</td>\n",
              "      <td>0</td>\n",
              "      <td>0</td>\n",
              "      <td>0</td>\n",
              "      <td>0</td>\n",
              "      <td>False</td>\n",
              "    </tr>\n",
              "    <tr>\n",
              "      <th>117528</th>\n",
              "      <td>73ee076f8b003d51</td>\n",
              "      <td>What the fuck is wrong with you You say I am a...</td>\n",
              "      <td>1</td>\n",
              "      <td>0</td>\n",
              "      <td>1</td>\n",
              "      <td>0</td>\n",
              "      <td>1</td>\n",
              "      <td>0</td>\n",
              "      <td>False</td>\n",
              "    </tr>\n",
              "    <tr>\n",
              "      <th>125531</th>\n",
              "      <td>9f73d50326172b7d</td>\n",
              "      <td>screw you\\ni do what i want</td>\n",
              "      <td>1</td>\n",
              "      <td>0</td>\n",
              "      <td>1</td>\n",
              "      <td>0</td>\n",
              "      <td>0</td>\n",
              "      <td>0</td>\n",
              "      <td>False</td>\n",
              "    </tr>\n",
              "    <tr>\n",
              "      <th>79596</th>\n",
              "      <td>d4f197244abaef7a</td>\n",
              "      <td>This culture allows people to hold their wives...</td>\n",
              "      <td>1</td>\n",
              "      <td>0</td>\n",
              "      <td>1</td>\n",
              "      <td>0</td>\n",
              "      <td>0</td>\n",
              "      <td>0</td>\n",
              "      <td>False</td>\n",
              "    </tr>\n",
              "    <tr>\n",
              "      <th>24341</th>\n",
              "      <td>40465e543368eaf4</td>\n",
              "      <td>a virgin Nighty night</td>\n",
              "      <td>1</td>\n",
              "      <td>0</td>\n",
              "      <td>0</td>\n",
              "      <td>0</td>\n",
              "      <td>0</td>\n",
              "      <td>0</td>\n",
              "      <td>False</td>\n",
              "    </tr>\n",
              "    <tr>\n",
              "      <th>68567</th>\n",
              "      <td>b77447267cd0403f</td>\n",
              "      <td>3 February 2009 UTC\\n\\nStupid Dont be a smart...</td>\n",
              "      <td>1</td>\n",
              "      <td>0</td>\n",
              "      <td>1</td>\n",
              "      <td>0</td>\n",
              "      <td>1</td>\n",
              "      <td>0</td>\n",
              "      <td>False</td>\n",
              "    </tr>\n",
              "    <tr>\n",
              "      <th>101137</th>\n",
              "      <td>1d557ed3732ae915</td>\n",
              "      <td>Holy shit you are really doing this You are fu...</td>\n",
              "      <td>1</td>\n",
              "      <td>0</td>\n",
              "      <td>1</td>\n",
              "      <td>0</td>\n",
              "      <td>1</td>\n",
              "      <td>0</td>\n",
              "      <td>False</td>\n",
              "    </tr>\n",
              "    <tr>\n",
              "      <th>10644</th>\n",
              "      <td>1c1d731daed64791</td>\n",
              "      <td>SHUT UP FAG \\n\\nLOL YOU WILL BAN ME HUH\\nOOH I...</td>\n",
              "      <td>1</td>\n",
              "      <td>0</td>\n",
              "      <td>1</td>\n",
              "      <td>0</td>\n",
              "      <td>1</td>\n",
              "      <td>0</td>\n",
              "      <td>False</td>\n",
              "    </tr>\n",
              "    <tr>\n",
              "      <th>107808</th>\n",
              "      <td>403b8d45b0e42aa3</td>\n",
              "      <td>May God curse your soul for eternity \\n\\nAmen2...</td>\n",
              "      <td>1</td>\n",
              "      <td>0</td>\n",
              "      <td>0</td>\n",
              "      <td>0</td>\n",
              "      <td>0</td>\n",
              "      <td>0</td>\n",
              "      <td>False</td>\n",
              "    </tr>\n",
              "    <tr>\n",
              "      <th>9353</th>\n",
              "      <td>18d3dbfb90b571a5</td>\n",
              "      <td>Your hypocrisy amuses me \\n\\nLook at your user...</td>\n",
              "      <td>1</td>\n",
              "      <td>0</td>\n",
              "      <td>0</td>\n",
              "      <td>0</td>\n",
              "      <td>0</td>\n",
              "      <td>0</td>\n",
              "      <td>False</td>\n",
              "    </tr>\n",
              "  </tbody>\n",
              "</table>\n",
              "</div>"
            ],
            "text/plain": [
              "                      id  ... unlabelled\n",
              "128205  ada49191ec6f498e  ...      False\n",
              "117528  73ee076f8b003d51  ...      False\n",
              "125531  9f73d50326172b7d  ...      False\n",
              "79596   d4f197244abaef7a  ...      False\n",
              "24341   40465e543368eaf4  ...      False\n",
              "68567   b77447267cd0403f  ...      False\n",
              "101137  1d557ed3732ae915  ...      False\n",
              "10644   1c1d731daed64791  ...      False\n",
              "107808  403b8d45b0e42aa3  ...      False\n",
              "9353    18d3dbfb90b571a5  ...      False\n",
              "\n",
              "[10 rows x 9 columns]"
            ]
          },
          "metadata": {},
          "execution_count": 32
        }
      ]
    },
    {
      "cell_type": "markdown",
      "metadata": {
        "id": "IUOsrbmVJG2-"
      },
      "source": [
        "## Cleaning the Test dataset"
      ]
    },
    {
      "cell_type": "code",
      "metadata": {
        "colab": {
          "base_uri": "https://localhost:8080/",
          "height": 363
        },
        "id": "0idaYU9_I88K",
        "outputId": "5a2f3d17-3b41-45fa-deb5-0298fae14585"
      },
      "source": [
        "totalContentCleaned = []\n",
        "punctDict = {}\n",
        "for punct in string.punctuation:\n",
        "    punctDict[punct] = None\n",
        "transString = str.maketrans(punctDict)\n",
        "# since we intent to remove any punctuation with ''\n",
        "for sen in test_df['comment_text']:\n",
        "    \n",
        "    #cleanedString = re.sub('[^a-zA-Z]+', '', sen)\n",
        "    \n",
        "    p = sen.translate(transString)\n",
        "    totalContentCleaned.append(p)\n",
        "    \n",
        "\n",
        "test_df['comment_text'] = totalContentCleaned\n",
        "\n",
        "test_df.sample(10)"
      ],
      "execution_count": 33,
      "outputs": [
        {
          "output_type": "execute_result",
          "data": {
            "text/html": [
              "<div>\n",
              "<style scoped>\n",
              "    .dataframe tbody tr th:only-of-type {\n",
              "        vertical-align: middle;\n",
              "    }\n",
              "\n",
              "    .dataframe tbody tr th {\n",
              "        vertical-align: top;\n",
              "    }\n",
              "\n",
              "    .dataframe thead th {\n",
              "        text-align: right;\n",
              "    }\n",
              "</style>\n",
              "<table border=\"1\" class=\"dataframe\">\n",
              "  <thead>\n",
              "    <tr style=\"text-align: right;\">\n",
              "      <th></th>\n",
              "      <th>id</th>\n",
              "      <th>comment_text</th>\n",
              "    </tr>\n",
              "  </thead>\n",
              "  <tbody>\n",
              "    <tr>\n",
              "      <th>32634</th>\n",
              "      <td>36438ed529098dea</td>\n",
              "      <td>open your blind eyes check what are 8640214213...</td>\n",
              "    </tr>\n",
              "    <tr>\n",
              "      <th>125654</th>\n",
              "      <td>d1e29553e514c738</td>\n",
              "      <td>\\n\\n  \\n Jefferson Airplane We Can Be Togethe...</td>\n",
              "    </tr>\n",
              "    <tr>\n",
              "      <th>116411</th>\n",
              "      <td>c244205d63b55a90</td>\n",
              "      <td>sea anemones are very weird creatures they poo...</td>\n",
              "    </tr>\n",
              "    <tr>\n",
              "      <th>143346</th>\n",
              "      <td>ef965756de9c2110</td>\n",
              "      <td>\\n I often make mistakes but this isnt one of...</td>\n",
              "    </tr>\n",
              "    <tr>\n",
              "      <th>31398</th>\n",
              "      <td>3435d41f7cfe1f6c</td>\n",
              "      <td>\\n\\n Please stop creating useless pages such ...</td>\n",
              "    </tr>\n",
              "    <tr>\n",
              "      <th>89640</th>\n",
              "      <td>957f53b293b7415c</td>\n",
              "      <td>Affluent areas in Bromley  \\n\\n I saw you rec...</td>\n",
              "    </tr>\n",
              "    <tr>\n",
              "      <th>87115</th>\n",
              "      <td>915baa90a43fec0f</td>\n",
              "      <td>Hello  I have a Bolkow 207 and looking for som...</td>\n",
              "    </tr>\n",
              "    <tr>\n",
              "      <th>119412</th>\n",
              "      <td>c761ce299def28fd</td>\n",
              "      <td>rihanna the ugly  \\n\\n i hate rihanna is is u...</td>\n",
              "    </tr>\n",
              "    <tr>\n",
              "      <th>129599</th>\n",
              "      <td>d88f64c948e07fb2</td>\n",
              "      <td>Destiny Wesy is Gay</td>\n",
              "    </tr>\n",
              "    <tr>\n",
              "      <th>37031</th>\n",
              "      <td>3d7c169faf5d2141</td>\n",
              "      <td>It was the use of the source I was attacking n...</td>\n",
              "    </tr>\n",
              "  </tbody>\n",
              "</table>\n",
              "</div>"
            ],
            "text/plain": [
              "                      id                                       comment_text\n",
              "32634   36438ed529098dea  open your blind eyes check what are 8640214213...\n",
              "125654  d1e29553e514c738   \\n\\n  \\n Jefferson Airplane We Can Be Togethe...\n",
              "116411  c244205d63b55a90  sea anemones are very weird creatures they poo...\n",
              "143346  ef965756de9c2110   \\n I often make mistakes but this isnt one of...\n",
              "31398   3435d41f7cfe1f6c   \\n\\n Please stop creating useless pages such ...\n",
              "89640   957f53b293b7415c   Affluent areas in Bromley  \\n\\n I saw you rec...\n",
              "87115   915baa90a43fec0f  Hello  I have a Bolkow 207 and looking for som...\n",
              "119412  c761ce299def28fd   rihanna the ugly  \\n\\n i hate rihanna is is u...\n",
              "129599  d88f64c948e07fb2                                Destiny Wesy is Gay\n",
              "37031   3d7c169faf5d2141  It was the use of the source I was attacking n..."
            ]
          },
          "metadata": {},
          "execution_count": 33
        }
      ]
    },
    {
      "cell_type": "markdown",
      "metadata": {
        "id": "2SIjK2HAKDZN"
      },
      "source": [
        "### Test labels dataset"
      ]
    },
    {
      "cell_type": "code",
      "metadata": {
        "colab": {
          "base_uri": "https://localhost:8080/",
          "height": 363
        },
        "id": "9-adZka9JpIq",
        "outputId": "3eb0de7b-0eb7-4ef3-d75e-c72d7a230838"
      },
      "source": [
        "#Loading the test_labels.csv file\n",
        "test_labels = pd.read_csv(\"/content/drive/MyDrive/CSE4022/dataset/test_labels.csv\")\n",
        "test_labels.head(10)"
      ],
      "execution_count": 34,
      "outputs": [
        {
          "output_type": "execute_result",
          "data": {
            "text/html": [
              "<div>\n",
              "<style scoped>\n",
              "    .dataframe tbody tr th:only-of-type {\n",
              "        vertical-align: middle;\n",
              "    }\n",
              "\n",
              "    .dataframe tbody tr th {\n",
              "        vertical-align: top;\n",
              "    }\n",
              "\n",
              "    .dataframe thead th {\n",
              "        text-align: right;\n",
              "    }\n",
              "</style>\n",
              "<table border=\"1\" class=\"dataframe\">\n",
              "  <thead>\n",
              "    <tr style=\"text-align: right;\">\n",
              "      <th></th>\n",
              "      <th>id</th>\n",
              "      <th>toxic</th>\n",
              "      <th>severe_toxic</th>\n",
              "      <th>obscene</th>\n",
              "      <th>threat</th>\n",
              "      <th>insult</th>\n",
              "      <th>identity_hate</th>\n",
              "    </tr>\n",
              "  </thead>\n",
              "  <tbody>\n",
              "    <tr>\n",
              "      <th>0</th>\n",
              "      <td>00001cee341fdb12</td>\n",
              "      <td>-1</td>\n",
              "      <td>-1</td>\n",
              "      <td>-1</td>\n",
              "      <td>-1</td>\n",
              "      <td>-1</td>\n",
              "      <td>-1</td>\n",
              "    </tr>\n",
              "    <tr>\n",
              "      <th>1</th>\n",
              "      <td>0000247867823ef7</td>\n",
              "      <td>-1</td>\n",
              "      <td>-1</td>\n",
              "      <td>-1</td>\n",
              "      <td>-1</td>\n",
              "      <td>-1</td>\n",
              "      <td>-1</td>\n",
              "    </tr>\n",
              "    <tr>\n",
              "      <th>2</th>\n",
              "      <td>00013b17ad220c46</td>\n",
              "      <td>-1</td>\n",
              "      <td>-1</td>\n",
              "      <td>-1</td>\n",
              "      <td>-1</td>\n",
              "      <td>-1</td>\n",
              "      <td>-1</td>\n",
              "    </tr>\n",
              "    <tr>\n",
              "      <th>3</th>\n",
              "      <td>00017563c3f7919a</td>\n",
              "      <td>-1</td>\n",
              "      <td>-1</td>\n",
              "      <td>-1</td>\n",
              "      <td>-1</td>\n",
              "      <td>-1</td>\n",
              "      <td>-1</td>\n",
              "    </tr>\n",
              "    <tr>\n",
              "      <th>4</th>\n",
              "      <td>00017695ad8997eb</td>\n",
              "      <td>-1</td>\n",
              "      <td>-1</td>\n",
              "      <td>-1</td>\n",
              "      <td>-1</td>\n",
              "      <td>-1</td>\n",
              "      <td>-1</td>\n",
              "    </tr>\n",
              "    <tr>\n",
              "      <th>5</th>\n",
              "      <td>0001ea8717f6de06</td>\n",
              "      <td>0</td>\n",
              "      <td>0</td>\n",
              "      <td>0</td>\n",
              "      <td>0</td>\n",
              "      <td>0</td>\n",
              "      <td>0</td>\n",
              "    </tr>\n",
              "    <tr>\n",
              "      <th>6</th>\n",
              "      <td>00024115d4cbde0f</td>\n",
              "      <td>-1</td>\n",
              "      <td>-1</td>\n",
              "      <td>-1</td>\n",
              "      <td>-1</td>\n",
              "      <td>-1</td>\n",
              "      <td>-1</td>\n",
              "    </tr>\n",
              "    <tr>\n",
              "      <th>7</th>\n",
              "      <td>000247e83dcc1211</td>\n",
              "      <td>0</td>\n",
              "      <td>0</td>\n",
              "      <td>0</td>\n",
              "      <td>0</td>\n",
              "      <td>0</td>\n",
              "      <td>0</td>\n",
              "    </tr>\n",
              "    <tr>\n",
              "      <th>8</th>\n",
              "      <td>00025358d4737918</td>\n",
              "      <td>-1</td>\n",
              "      <td>-1</td>\n",
              "      <td>-1</td>\n",
              "      <td>-1</td>\n",
              "      <td>-1</td>\n",
              "      <td>-1</td>\n",
              "    </tr>\n",
              "    <tr>\n",
              "      <th>9</th>\n",
              "      <td>00026d1092fe71cc</td>\n",
              "      <td>-1</td>\n",
              "      <td>-1</td>\n",
              "      <td>-1</td>\n",
              "      <td>-1</td>\n",
              "      <td>-1</td>\n",
              "      <td>-1</td>\n",
              "    </tr>\n",
              "  </tbody>\n",
              "</table>\n",
              "</div>"
            ],
            "text/plain": [
              "                 id  toxic  severe_toxic  ...  threat  insult  identity_hate\n",
              "0  00001cee341fdb12     -1            -1  ...      -1      -1             -1\n",
              "1  0000247867823ef7     -1            -1  ...      -1      -1             -1\n",
              "2  00013b17ad220c46     -1            -1  ...      -1      -1             -1\n",
              "3  00017563c3f7919a     -1            -1  ...      -1      -1             -1\n",
              "4  00017695ad8997eb     -1            -1  ...      -1      -1             -1\n",
              "5  0001ea8717f6de06      0             0  ...       0       0              0\n",
              "6  00024115d4cbde0f     -1            -1  ...      -1      -1             -1\n",
              "7  000247e83dcc1211      0             0  ...       0       0              0\n",
              "8  00025358d4737918     -1            -1  ...      -1      -1             -1\n",
              "9  00026d1092fe71cc     -1            -1  ...      -1      -1             -1\n",
              "\n",
              "[10 rows x 7 columns]"
            ]
          },
          "metadata": {},
          "execution_count": 34
        }
      ]
    },
    {
      "cell_type": "code",
      "metadata": {
        "colab": {
          "base_uri": "https://localhost:8080/",
          "height": 363
        },
        "id": "GuUsi2MNKCP1",
        "outputId": "b9d4624f-5023-4ee8-a137-12244a6892d4"
      },
      "source": [
        "test_labels = test_labels[(test_labels[['toxic','severe_toxic', 'obscene', 'threat', \n",
        "                                        'insult', 'identity_hate']] != -1).all(axis=1)]\n",
        "test_labels.head(10)"
      ],
      "execution_count": 35,
      "outputs": [
        {
          "output_type": "execute_result",
          "data": {
            "text/html": [
              "<div>\n",
              "<style scoped>\n",
              "    .dataframe tbody tr th:only-of-type {\n",
              "        vertical-align: middle;\n",
              "    }\n",
              "\n",
              "    .dataframe tbody tr th {\n",
              "        vertical-align: top;\n",
              "    }\n",
              "\n",
              "    .dataframe thead th {\n",
              "        text-align: right;\n",
              "    }\n",
              "</style>\n",
              "<table border=\"1\" class=\"dataframe\">\n",
              "  <thead>\n",
              "    <tr style=\"text-align: right;\">\n",
              "      <th></th>\n",
              "      <th>id</th>\n",
              "      <th>toxic</th>\n",
              "      <th>severe_toxic</th>\n",
              "      <th>obscene</th>\n",
              "      <th>threat</th>\n",
              "      <th>insult</th>\n",
              "      <th>identity_hate</th>\n",
              "    </tr>\n",
              "  </thead>\n",
              "  <tbody>\n",
              "    <tr>\n",
              "      <th>5</th>\n",
              "      <td>0001ea8717f6de06</td>\n",
              "      <td>0</td>\n",
              "      <td>0</td>\n",
              "      <td>0</td>\n",
              "      <td>0</td>\n",
              "      <td>0</td>\n",
              "      <td>0</td>\n",
              "    </tr>\n",
              "    <tr>\n",
              "      <th>7</th>\n",
              "      <td>000247e83dcc1211</td>\n",
              "      <td>0</td>\n",
              "      <td>0</td>\n",
              "      <td>0</td>\n",
              "      <td>0</td>\n",
              "      <td>0</td>\n",
              "      <td>0</td>\n",
              "    </tr>\n",
              "    <tr>\n",
              "      <th>11</th>\n",
              "      <td>0002f87b16116a7f</td>\n",
              "      <td>0</td>\n",
              "      <td>0</td>\n",
              "      <td>0</td>\n",
              "      <td>0</td>\n",
              "      <td>0</td>\n",
              "      <td>0</td>\n",
              "    </tr>\n",
              "    <tr>\n",
              "      <th>13</th>\n",
              "      <td>0003e1cccfd5a40a</td>\n",
              "      <td>0</td>\n",
              "      <td>0</td>\n",
              "      <td>0</td>\n",
              "      <td>0</td>\n",
              "      <td>0</td>\n",
              "      <td>0</td>\n",
              "    </tr>\n",
              "    <tr>\n",
              "      <th>14</th>\n",
              "      <td>00059ace3e3e9a53</td>\n",
              "      <td>0</td>\n",
              "      <td>0</td>\n",
              "      <td>0</td>\n",
              "      <td>0</td>\n",
              "      <td>0</td>\n",
              "      <td>0</td>\n",
              "    </tr>\n",
              "    <tr>\n",
              "      <th>16</th>\n",
              "      <td>000663aff0fffc80</td>\n",
              "      <td>0</td>\n",
              "      <td>0</td>\n",
              "      <td>0</td>\n",
              "      <td>0</td>\n",
              "      <td>0</td>\n",
              "      <td>0</td>\n",
              "    </tr>\n",
              "    <tr>\n",
              "      <th>17</th>\n",
              "      <td>000689dd34e20979</td>\n",
              "      <td>0</td>\n",
              "      <td>0</td>\n",
              "      <td>0</td>\n",
              "      <td>0</td>\n",
              "      <td>0</td>\n",
              "      <td>0</td>\n",
              "    </tr>\n",
              "    <tr>\n",
              "      <th>19</th>\n",
              "      <td>000844b52dee5f3f</td>\n",
              "      <td>0</td>\n",
              "      <td>0</td>\n",
              "      <td>0</td>\n",
              "      <td>0</td>\n",
              "      <td>0</td>\n",
              "      <td>0</td>\n",
              "    </tr>\n",
              "    <tr>\n",
              "      <th>21</th>\n",
              "      <td>00091c35fa9d0465</td>\n",
              "      <td>1</td>\n",
              "      <td>0</td>\n",
              "      <td>0</td>\n",
              "      <td>0</td>\n",
              "      <td>0</td>\n",
              "      <td>0</td>\n",
              "    </tr>\n",
              "    <tr>\n",
              "      <th>22</th>\n",
              "      <td>000968ce11f5ee34</td>\n",
              "      <td>0</td>\n",
              "      <td>0</td>\n",
              "      <td>0</td>\n",
              "      <td>0</td>\n",
              "      <td>0</td>\n",
              "      <td>0</td>\n",
              "    </tr>\n",
              "  </tbody>\n",
              "</table>\n",
              "</div>"
            ],
            "text/plain": [
              "                  id  toxic  severe_toxic  ...  threat  insult  identity_hate\n",
              "5   0001ea8717f6de06      0             0  ...       0       0              0\n",
              "7   000247e83dcc1211      0             0  ...       0       0              0\n",
              "11  0002f87b16116a7f      0             0  ...       0       0              0\n",
              "13  0003e1cccfd5a40a      0             0  ...       0       0              0\n",
              "14  00059ace3e3e9a53      0             0  ...       0       0              0\n",
              "16  000663aff0fffc80      0             0  ...       0       0              0\n",
              "17  000689dd34e20979      0             0  ...       0       0              0\n",
              "19  000844b52dee5f3f      0             0  ...       0       0              0\n",
              "21  00091c35fa9d0465      1             0  ...       0       0              0\n",
              "22  000968ce11f5ee34      0             0  ...       0       0              0\n",
              "\n",
              "[10 rows x 7 columns]"
            ]
          },
          "metadata": {},
          "execution_count": 35
        }
      ]
    },
    {
      "cell_type": "markdown",
      "metadata": {
        "id": "Twm__Eh4KQfg"
      },
      "source": [
        "### Merging the test_labels and test_df dataset as one - test"
      ]
    },
    {
      "cell_type": "code",
      "metadata": {
        "colab": {
          "base_uri": "https://localhost:8080/",
          "height": 363
        },
        "id": "2wpMT8DXKWpt",
        "outputId": "b5726336-f74d-4868-c311-d5769472c885"
      },
      "source": [
        "test = pd.merge(test_labels, test_df, on='id', how='inner')\n",
        "test.head(10)"
      ],
      "execution_count": 36,
      "outputs": [
        {
          "output_type": "execute_result",
          "data": {
            "text/html": [
              "<div>\n",
              "<style scoped>\n",
              "    .dataframe tbody tr th:only-of-type {\n",
              "        vertical-align: middle;\n",
              "    }\n",
              "\n",
              "    .dataframe tbody tr th {\n",
              "        vertical-align: top;\n",
              "    }\n",
              "\n",
              "    .dataframe thead th {\n",
              "        text-align: right;\n",
              "    }\n",
              "</style>\n",
              "<table border=\"1\" class=\"dataframe\">\n",
              "  <thead>\n",
              "    <tr style=\"text-align: right;\">\n",
              "      <th></th>\n",
              "      <th>id</th>\n",
              "      <th>toxic</th>\n",
              "      <th>severe_toxic</th>\n",
              "      <th>obscene</th>\n",
              "      <th>threat</th>\n",
              "      <th>insult</th>\n",
              "      <th>identity_hate</th>\n",
              "      <th>comment_text</th>\n",
              "    </tr>\n",
              "  </thead>\n",
              "  <tbody>\n",
              "    <tr>\n",
              "      <th>0</th>\n",
              "      <td>0001ea8717f6de06</td>\n",
              "      <td>0</td>\n",
              "      <td>0</td>\n",
              "      <td>0</td>\n",
              "      <td>0</td>\n",
              "      <td>0</td>\n",
              "      <td>0</td>\n",
              "      <td>Thank you for understanding I think very highl...</td>\n",
              "    </tr>\n",
              "    <tr>\n",
              "      <th>1</th>\n",
              "      <td>000247e83dcc1211</td>\n",
              "      <td>0</td>\n",
              "      <td>0</td>\n",
              "      <td>0</td>\n",
              "      <td>0</td>\n",
              "      <td>0</td>\n",
              "      <td>0</td>\n",
              "      <td>Dear god this site is horrible</td>\n",
              "    </tr>\n",
              "    <tr>\n",
              "      <th>2</th>\n",
              "      <td>0002f87b16116a7f</td>\n",
              "      <td>0</td>\n",
              "      <td>0</td>\n",
              "      <td>0</td>\n",
              "      <td>0</td>\n",
              "      <td>0</td>\n",
              "      <td>0</td>\n",
              "      <td>Somebody will invariably try to add Religion ...</td>\n",
              "    </tr>\n",
              "    <tr>\n",
              "      <th>3</th>\n",
              "      <td>0003e1cccfd5a40a</td>\n",
              "      <td>0</td>\n",
              "      <td>0</td>\n",
              "      <td>0</td>\n",
              "      <td>0</td>\n",
              "      <td>0</td>\n",
              "      <td>0</td>\n",
              "      <td>\\n\\n It says it right there that it IS a type...</td>\n",
              "    </tr>\n",
              "    <tr>\n",
              "      <th>4</th>\n",
              "      <td>00059ace3e3e9a53</td>\n",
              "      <td>0</td>\n",
              "      <td>0</td>\n",
              "      <td>0</td>\n",
              "      <td>0</td>\n",
              "      <td>0</td>\n",
              "      <td>0</td>\n",
              "      <td>\\n\\n  Before adding a new product to the list...</td>\n",
              "    </tr>\n",
              "    <tr>\n",
              "      <th>5</th>\n",
              "      <td>000663aff0fffc80</td>\n",
              "      <td>0</td>\n",
              "      <td>0</td>\n",
              "      <td>0</td>\n",
              "      <td>0</td>\n",
              "      <td>0</td>\n",
              "      <td>0</td>\n",
              "      <td>this other one from 1897</td>\n",
              "    </tr>\n",
              "    <tr>\n",
              "      <th>6</th>\n",
              "      <td>000689dd34e20979</td>\n",
              "      <td>0</td>\n",
              "      <td>0</td>\n",
              "      <td>0</td>\n",
              "      <td>0</td>\n",
              "      <td>0</td>\n",
              "      <td>0</td>\n",
              "      <td>Reason for banning throwing  \\n\\n This articl...</td>\n",
              "    </tr>\n",
              "    <tr>\n",
              "      <th>7</th>\n",
              "      <td>000844b52dee5f3f</td>\n",
              "      <td>0</td>\n",
              "      <td>0</td>\n",
              "      <td>0</td>\n",
              "      <td>0</td>\n",
              "      <td>0</td>\n",
              "      <td>0</td>\n",
              "      <td>blocked from editing Wikipedia</td>\n",
              "    </tr>\n",
              "    <tr>\n",
              "      <th>8</th>\n",
              "      <td>00091c35fa9d0465</td>\n",
              "      <td>1</td>\n",
              "      <td>0</td>\n",
              "      <td>0</td>\n",
              "      <td>0</td>\n",
              "      <td>0</td>\n",
              "      <td>0</td>\n",
              "      <td>Arabs are committing genocide in Iraq but no ...</td>\n",
              "    </tr>\n",
              "    <tr>\n",
              "      <th>9</th>\n",
              "      <td>000968ce11f5ee34</td>\n",
              "      <td>0</td>\n",
              "      <td>0</td>\n",
              "      <td>0</td>\n",
              "      <td>0</td>\n",
              "      <td>0</td>\n",
              "      <td>0</td>\n",
              "      <td>Please stop If you continue to vandalize Wikip...</td>\n",
              "    </tr>\n",
              "  </tbody>\n",
              "</table>\n",
              "</div>"
            ],
            "text/plain": [
              "                 id  ...                                       comment_text\n",
              "0  0001ea8717f6de06  ...  Thank you for understanding I think very highl...\n",
              "1  000247e83dcc1211  ...                     Dear god this site is horrible\n",
              "2  0002f87b16116a7f  ...   Somebody will invariably try to add Religion ...\n",
              "3  0003e1cccfd5a40a  ...   \\n\\n It says it right there that it IS a type...\n",
              "4  00059ace3e3e9a53  ...   \\n\\n  Before adding a new product to the list...\n",
              "5  000663aff0fffc80  ...                           this other one from 1897\n",
              "6  000689dd34e20979  ...   Reason for banning throwing  \\n\\n This articl...\n",
              "7  000844b52dee5f3f  ...                  blocked from editing Wikipedia   \n",
              "8  00091c35fa9d0465  ...   Arabs are committing genocide in Iraq but no ...\n",
              "9  000968ce11f5ee34  ...  Please stop If you continue to vandalize Wikip...\n",
              "\n",
              "[10 rows x 8 columns]"
            ]
          },
          "metadata": {},
          "execution_count": 36
        }
      ]
    },
    {
      "cell_type": "code",
      "metadata": {
        "colab": {
          "base_uri": "https://localhost:8080/",
          "height": 206
        },
        "id": "3dN3U7YQMPyS",
        "outputId": "83c8d038-753b-44ba-8c1e-48809ae81096"
      },
      "source": [
        "test = test.loc[(test['toxic'] == 1) | (test['severe_toxic'] == 1) | (test['obscene'] ==1) | (test['threat'] == 1) | (test['insult'] == 1) | (test['identity_hate'] ==1)]\n",
        "\n",
        "test.head(5)"
      ],
      "execution_count": 37,
      "outputs": [
        {
          "output_type": "execute_result",
          "data": {
            "text/html": [
              "<div>\n",
              "<style scoped>\n",
              "    .dataframe tbody tr th:only-of-type {\n",
              "        vertical-align: middle;\n",
              "    }\n",
              "\n",
              "    .dataframe tbody tr th {\n",
              "        vertical-align: top;\n",
              "    }\n",
              "\n",
              "    .dataframe thead th {\n",
              "        text-align: right;\n",
              "    }\n",
              "</style>\n",
              "<table border=\"1\" class=\"dataframe\">\n",
              "  <thead>\n",
              "    <tr style=\"text-align: right;\">\n",
              "      <th></th>\n",
              "      <th>id</th>\n",
              "      <th>toxic</th>\n",
              "      <th>severe_toxic</th>\n",
              "      <th>obscene</th>\n",
              "      <th>threat</th>\n",
              "      <th>insult</th>\n",
              "      <th>identity_hate</th>\n",
              "      <th>comment_text</th>\n",
              "    </tr>\n",
              "  </thead>\n",
              "  <tbody>\n",
              "    <tr>\n",
              "      <th>8</th>\n",
              "      <td>00091c35fa9d0465</td>\n",
              "      <td>1</td>\n",
              "      <td>0</td>\n",
              "      <td>0</td>\n",
              "      <td>0</td>\n",
              "      <td>0</td>\n",
              "      <td>0</td>\n",
              "      <td>Arabs are committing genocide in Iraq but no ...</td>\n",
              "    </tr>\n",
              "    <tr>\n",
              "      <th>24</th>\n",
              "      <td>0013fed3aeae76b7</td>\n",
              "      <td>1</td>\n",
              "      <td>0</td>\n",
              "      <td>1</td>\n",
              "      <td>0</td>\n",
              "      <td>1</td>\n",
              "      <td>1</td>\n",
              "      <td>DJ Robinson is gay as hell he sucks his dick s...</td>\n",
              "    </tr>\n",
              "    <tr>\n",
              "      <th>29</th>\n",
              "      <td>0017d4d47894af05</td>\n",
              "      <td>1</td>\n",
              "      <td>0</td>\n",
              "      <td>1</td>\n",
              "      <td>0</td>\n",
              "      <td>1</td>\n",
              "      <td>0</td>\n",
              "      <td>Fuck off you antisemitic cunt</td>\n",
              "    </tr>\n",
              "    <tr>\n",
              "      <th>38</th>\n",
              "      <td>001d739c97bc2ae4</td>\n",
              "      <td>1</td>\n",
              "      <td>0</td>\n",
              "      <td>0</td>\n",
              "      <td>0</td>\n",
              "      <td>0</td>\n",
              "      <td>0</td>\n",
              "      <td>How dare you vandalize that page about the HMS...</td>\n",
              "    </tr>\n",
              "    <tr>\n",
              "      <th>40</th>\n",
              "      <td>001eff4007dbb65b</td>\n",
              "      <td>1</td>\n",
              "      <td>0</td>\n",
              "      <td>1</td>\n",
              "      <td>0</td>\n",
              "      <td>1</td>\n",
              "      <td>0</td>\n",
              "      <td>No he is an arrogant self serving immature idi...</td>\n",
              "    </tr>\n",
              "  </tbody>\n",
              "</table>\n",
              "</div>"
            ],
            "text/plain": [
              "                  id  ...                                       comment_text\n",
              "8   00091c35fa9d0465  ...   Arabs are committing genocide in Iraq but no ...\n",
              "24  0013fed3aeae76b7  ...  DJ Robinson is gay as hell he sucks his dick s...\n",
              "29  0017d4d47894af05  ...                    Fuck off you antisemitic cunt  \n",
              "38  001d739c97bc2ae4  ...  How dare you vandalize that page about the HMS...\n",
              "40  001eff4007dbb65b  ...  No he is an arrogant self serving immature idi...\n",
              "\n",
              "[5 rows x 8 columns]"
            ]
          },
          "metadata": {},
          "execution_count": 37
        }
      ]
    },
    {
      "cell_type": "markdown",
      "metadata": {
        "id": "JtynVR3BMeji"
      },
      "source": [
        "## Records in the test and train dataset"
      ]
    },
    {
      "cell_type": "code",
      "metadata": {
        "colab": {
          "base_uri": "https://localhost:8080/"
        },
        "id": "pXqGpVaMMT_D",
        "outputId": "79725864-fca6-4356-cb4e-07ffa6771190"
      },
      "source": [
        "print(\"Train:\", train_df.shape)\n",
        "print(\"Test:\", test.shape)"
      ],
      "execution_count": 38,
      "outputs": [
        {
          "output_type": "stream",
          "name": "stdout",
          "text": [
            "Train: (16225, 9)\n",
            "Test: (6243, 8)\n"
          ]
        }
      ]
    },
    {
      "cell_type": "code",
      "metadata": {
        "colab": {
          "base_uri": "https://localhost:8080/"
        },
        "id": "HjIrIAmRMqKD",
        "outputId": "300e922f-2d7c-4d6a-f4f1-74f8142fd941"
      },
      "source": [
        "# check for missing values\n",
        "print('The train dataset has', train_df.isna().sum().sum(), 'missing values.')\n",
        "print('The test dataset has', test.isna().sum().sum(), 'missing values.')\n",
        "\n",
        "# check if there are any duplicates\n",
        "print('The train dataset has', train_df.duplicated().sum(), 'duplicates.')\n",
        "print('The test dataset has', test.duplicated().sum(), 'duplicates.')"
      ],
      "execution_count": 39,
      "outputs": [
        {
          "output_type": "stream",
          "name": "stdout",
          "text": [
            "The train dataset has 0 missing values.\n",
            "The test dataset has 0 missing values.\n",
            "The train dataset has 0 duplicates.\n",
            "The test dataset has 0 duplicates.\n"
          ]
        }
      ]
    },
    {
      "cell_type": "markdown",
      "metadata": {
        "id": "I3il-rtmNCZk"
      },
      "source": [
        "# ***Data Preprocessing***"
      ]
    },
    {
      "cell_type": "code",
      "metadata": {
        "id": "FhQscwuel7m4"
      },
      "source": [
        "#Convert text to vectors using keras preprocessing library tools\n",
        "\n",
        "X_train = train_df[\"comment_text\"].values\n",
        "X_testdf = test_df['comment_text'].values\n",
        "X_test  = test[\"comment_text\"].values\n",
        "\n",
        "y_train = train_df[[\"toxic\", \"severe_toxic\", \"obscene\", \"threat\", \"insult\", \"identity_hate\"]].values\n",
        "y_test  = test[[\"toxic\", \"severe_toxic\", \"obscene\", \"threat\", \"insult\", \"identity_hate\"]].values"
      ],
      "execution_count": 40,
      "outputs": []
    },
    {
      "cell_type": "code",
      "metadata": {
        "id": "JPP5S1Vdl8pp"
      },
      "source": [
        "num_words = 20000 #Max. workds to use per toxic comment\n",
        "max_features = 200000 #Max. number of unique words in embeddinbg vector\n",
        "max_len = 200 #Max. number of words per toxic comment to be use\n",
        "embedding_dims = 128 #embedding vector output dimension \n",
        "num_epochs = 15 # (before 5)number of epochs (number of times that the model is exposed to the training dataset)\n",
        "val_split = 0.1\n",
        "batch_size2 = 256 #(before 32)The **batch size** is the number of training examples in one forward/backward pass.\n",
        "                  # In general, larger batch sizes result in faster progress in training, but don't always converge as quickly. \n",
        "                  #Smaller batch sizes train slower, but can converge faster. And the higher the batch size, the more memory space you’ll need."
      ],
      "execution_count": 41,
      "outputs": []
    },
    {
      "cell_type": "code",
      "metadata": {
        "colab": {
          "base_uri": "https://localhost:8080/"
        },
        "id": "lk3xUfoKl_gA",
        "outputId": "ddf49e6a-7053-4fe2-baeb-58f2338bd0b5"
      },
      "source": [
        "#toxic comments Tokenization\n",
        "tokenizer = tokenizer = Tokenizer(num_words)\n",
        "tokenizer.fit_on_texts(list(X_train))\n",
        "\n",
        "#Convert tokenized toxic commnent to sequnces\n",
        "X_train = tokenizer.texts_to_sequences(X_train)\n",
        "X_test = tokenizer.texts_to_sequences(X_test)\n",
        "X_testdf = tokenizer.texts_to_sequences(X_testdf) \n",
        "# padding the sequences\n",
        "X_train = sequence.pad_sequences(X_train, max_len)\n",
        "X_test  = sequence.pad_sequences(X_test,  max_len)\n",
        "X_testdf  = sequence.pad_sequences(X_testdf,  max_len)\n",
        "\n",
        "print('X_train shape:', X_train.shape)\n",
        "print('X_test shape: ', X_test.shape)\n",
        "print('X_testdf shape: ', X_testdf.shape)"
      ],
      "execution_count": 42,
      "outputs": [
        {
          "output_type": "stream",
          "name": "stdout",
          "text": [
            "X_train shape: (16225, 200)\n",
            "X_test shape:  (6243, 200)\n",
            "X_testdf shape:  (153164, 200)\n"
          ]
        }
      ]
    },
    {
      "cell_type": "code",
      "metadata": {
        "id": "zcoWXVPRmCNn"
      },
      "source": [
        "X_tra, X_val, y_tra, y_val = train_test_split(X_train, y_train, train_size =0.9, random_state=233)"
      ],
      "execution_count": 43,
      "outputs": []
    },
    {
      "cell_type": "code",
      "metadata": {
        "id": "7n2qrir0mFLM"
      },
      "source": [
        "early = EarlyStopping(monitor=\"val_loss\", mode=\"min\", patience=4)"
      ],
      "execution_count": 44,
      "outputs": []
    },
    {
      "cell_type": "markdown",
      "metadata": {
        "id": "1L1xWbPBNXcK"
      },
      "source": [
        "# ***Using the Word2Vec embedding***"
      ]
    },
    {
      "cell_type": "code",
      "metadata": {
        "colab": {
          "base_uri": "https://localhost:8080/"
        },
        "id": "Galk4D47NIAa",
        "outputId": "ee0d54e7-57d7-45f0-a5ce-e568f096ad82"
      },
      "source": [
        "#Importing the libraries\n",
        "import nltk\n",
        "nltk.download('punkt')\n",
        "nltk.download('stopwords')\n",
        "nltk.download('averaged_perceptron_tagger')\n",
        "from nltk import pos_tag, word_tokenize, RegexpParser"
      ],
      "execution_count": 45,
      "outputs": [
        {
          "output_type": "stream",
          "name": "stdout",
          "text": [
            "[nltk_data] Downloading package punkt to /root/nltk_data...\n",
            "[nltk_data]   Unzipping tokenizers/punkt.zip.\n",
            "[nltk_data] Downloading package stopwords to /root/nltk_data...\n",
            "[nltk_data]   Package stopwords is already up-to-date!\n",
            "[nltk_data] Downloading package averaged_perceptron_tagger to\n",
            "[nltk_data]     /root/nltk_data...\n",
            "[nltk_data]   Unzipping taggers/averaged_perceptron_tagger.zip.\n"
          ]
        }
      ]
    },
    {
      "cell_type": "code",
      "metadata": {
        "id": "1TSJMDtZjR3q"
      },
      "source": [
        "from nltk.tree import Tree\n",
        "from nltk.draw.tree import TreeView"
      ],
      "execution_count": 46,
      "outputs": []
    },
    {
      "cell_type": "markdown",
      "metadata": {
        "id": "Rp9N2PnbFME5"
      },
      "source": [
        "### POS Tagging"
      ]
    },
    {
      "cell_type": "code",
      "metadata": {
        "colab": {
          "base_uri": "https://localhost:8080/"
        },
        "id": "A5Zd-UPhNtUJ",
        "outputId": "bab908d0-69d0-4f7e-e90d-7ce9a8ea9c21"
      },
      "source": [
        "toxicComments_lines = list()\n",
        "lines = train_df['comment_text'].values.tolist()\n",
        "\n",
        "for line in lines:\n",
        "    tokens = word_tokenize(line)\n",
        "\n",
        "    tagged = nltk.pos_tag(tokens)\n",
        "    tagged[0:6]\n",
        "    \n",
        "#Extract all parts of speech from any text\n",
        "    chunker = RegexpParser(\"\"\"\n",
        "\t\t\t\t\t    NP: {<DT>?<JJ>*<NN>} #To extract Noun Phrases\n",
        "\t\t\t\t\t    P: {<IN>}\t\t\t #To extract Prepositions\n",
        "\t\t\t\t\t    V: {<V.*>}\t\t\t #To extract Verbs\n",
        "\t\t\t\t\t    PP: {<p> <NP>}\t\t #To extract Prepositional Phrases\n",
        "\t\t\t\t\t    VP: {<V> <NP|PP>*}\t #To extract Verb Phrases\n",
        "\t\t\t\t\t    \"\"\")\n",
        "    [([s.lower() for s in item[0]], item[1]) for item in tagged]\n",
        "# Print all parts of speech in above sentence\n",
        "    output = chunker.parse(tagged)\n",
        "    if(lines.index(line)==20):\n",
        "        print(\"After Extracting\\n\", output)\n",
        "        t = Tree.fromstring(str(output))\n",
        "        TreeView(t)._cframe.print_to_file('output.ps')\n",
        "\n",
        "    #convert to lower case\n",
        "    tokens = [w.lower() for w in tokens]\n",
        "    \n",
        "    #remove punctuation from each word\n",
        "    table =  str.maketrans('', '', string.punctuation)\n",
        "    stripped = [w.translate(table) for w in tokens]\n",
        "    \n",
        "    #remove remaining tokens that are not alphabetic\n",
        "    words = [word for word in stripped if word.isalpha()]\n",
        "    \n",
        "    #filter out stop words\n",
        "    stop_words = set(stopwords.words('english'))\n",
        "    words = [w for w in words if not w in stop_words]\n",
        "    toxicComments_lines.append(words)\n",
        "\n",
        "\n",
        "len(toxicComments_lines)"
      ],
      "execution_count": 47,
      "outputs": [
        {
          "output_type": "stream",
          "name": "stdout",
          "text": [
            "After Extracting\n",
            " (S\n",
            "  you/PRP\n",
            "  (VP (V are/VBP) (NP a/DT stupid/JJ fuck/NN))\n",
            "  and/CC\n",
            "  your/PRP$\n",
            "  mothers/NNS\n",
            "  (VP (V cunt/VBP))\n",
            "  stinks/NNS)\n"
          ]
        },
        {
          "output_type": "execute_result",
          "data": {
            "text/plain": [
              "16225"
            ]
          },
          "metadata": {},
          "execution_count": 47
        }
      ]
    },
    {
      "cell_type": "code",
      "metadata": {
        "id": "SPSITn0olW8J"
      },
      "source": [
        "from PIL import Image\n",
        "\n",
        "psimage=Image.open('output.ps')\n",
        "psimage.save('Parsetree.png')"
      ],
      "execution_count": 48,
      "outputs": []
    },
    {
      "cell_type": "code",
      "metadata": {
        "colab": {
          "base_uri": "https://localhost:8080/",
          "height": 296
        },
        "id": "zvslMbN1ngdR",
        "outputId": "6cd2dd84-23b9-4e1a-d1ce-fb9e13a5869f"
      },
      "source": [
        "from cv2 import cv2\n",
        "from google.colab.patches import cv2_imshow\n",
        "img = cv2.imread(\"Parsetree.png\", 0)\n",
        "cv2_imshow(img)"
      ],
      "execution_count": 49,
      "outputs": [
        {
          "output_type": "display_data",
          "data": {
            "image/png": "[encoded data removed]",
            "text/plain": [
              "<PIL.Image.Image image mode=L size=677x279 at 0x7F452E435390>"
            ]
          },
          "metadata": {}
        }
      ]
    },
    {
      "cell_type": "markdown",
      "metadata": {
        "id": "qBcaEbEeN9gp"
      },
      "source": [
        "#### Training the Word2Vec embedding"
      ]
    },
    {
      "cell_type": "code",
      "metadata": {
        "colab": {
          "base_uri": "https://localhost:8080/"
        },
        "id": "qB6R0JBmOSCz",
        "outputId": "1e86d5f6-14b4-4676-c8fe-9a81ec66fd90"
      },
      "source": [
        "#train word2vec mode\n",
        "embedding_dims = 128 #embedding vector output dimension \n",
        "max_len = 200 #Max. number of words per toxic comment to be use\n",
        "word2VecModel = gensim.models.Word2Vec(sentences=toxicComments_lines, size= embedding_dims, window=5, workers=4, min_count=1)\n",
        "#vocab size\n",
        "wors = list(word2VecModel.wv.vocab)\n",
        "print('Vocabulary size: %d' % len(words))"
      ],
      "execution_count": 50,
      "outputs": [
        {
          "output_type": "stream",
          "name": "stdout",
          "text": [
            "Vocabulary size: 25\n"
          ]
        }
      ]
    },
    {
      "cell_type": "markdown",
      "metadata": {
        "id": "DZRUpiohOhre"
      },
      "source": [
        "#### Test Word2Vec Model"
      ]
    },
    {
      "cell_type": "code",
      "metadata": {
        "id": "tk25hCS5OCe3"
      },
      "source": [
        "#Save the Word2Vec Corpus locally\n",
        "filename = 'toxic_embedding_word2vec.txt'\n",
        "word2VecModel.wv.save_word2vec_format(filename, binary=False)"
      ],
      "execution_count": 51,
      "outputs": []
    },
    {
      "cell_type": "markdown",
      "metadata": {
        "id": "14vGdBlWKZY9"
      },
      "source": [
        "### Use the Pre-Trained Embedding (Word2Vec) in our model\n"
      ]
    },
    {
      "cell_type": "code",
      "metadata": {
        "id": "aAtdEnVRjOgx"
      },
      "source": [
        "word2Vec_embeddings_index = {}\n",
        "word2vec_file = open(os.path.join('', 'toxic_embedding_word2vec.txt'), encoding = \"utf-8\")\n",
        "\n",
        "for line in word2vec_file:\n",
        "    values = line.split()\n",
        "    word = values[0]\n",
        "    coefficient = np.asarray(values[1:])\n",
        "    word2Vec_embeddings_index[word] = coefficient\n",
        "word2vec_file.close()"
      ],
      "execution_count": 52,
      "outputs": []
    },
    {
      "cell_type": "markdown",
      "metadata": {
        "id": "Av13C7lbPVeT"
      },
      "source": [
        "#### Convert the word embedding into tokenized vector"
      ]
    },
    {
      "cell_type": "code",
      "metadata": {
        "colab": {
          "base_uri": "https://localhost:8080/"
        },
        "id": "BwrMovvmPVF_",
        "outputId": "2b50eaa8-f498-4cfb-f404-127e1ebc0000"
      },
      "source": [
        "#vectorize the text samples into a 2D integer tensor\n",
        "tokenizer_obj = Tokenizer()\n",
        "tokenizer_obj.fit_on_texts(toxicComments_lines)\n",
        "sequences = tokenizer_obj.texts_to_sequences(toxicComments_lines)\n",
        "\n",
        "#pad sequences\n",
        "word_index = tokenizer_obj.word_index\n",
        "print('Found %s uniquue tokens.' % len(word_index))\n",
        "\n",
        "toxicComments_pad = pad_sequences(sequences, maxlen=max_len)\n",
        "comments_tag = train_df[[\"toxic\", \"severe_toxic\", \"obscene\", \"threat\", \"insult\", \"identity_hate\"]].values\n",
        "print('Shape of toxic comments tensor', toxicComments_pad.shape)\n",
        "print('Shape of comment tensor', comments_tag.shape)"
      ],
      "execution_count": 53,
      "outputs": [
        {
          "output_type": "stream",
          "name": "stdout",
          "text": [
            "Found 36870 uniquue tokens.\n",
            "Shape of toxic comments tensor (16225, 200)\n",
            "Shape of comment tensor (16225, 6)\n"
          ]
        }
      ]
    },
    {
      "cell_type": "markdown",
      "metadata": {
        "id": "FT-UnZzlclv4"
      },
      "source": [
        "###Create a matrix with of word vectors"
      ]
    },
    {
      "cell_type": "code",
      "metadata": {
        "colab": {
          "base_uri": "https://localhost:8080/"
        },
        "id": "CDE1YIBIckqu",
        "outputId": "c24395d8-0c63-4d34-e312-63ea8e0571ad"
      },
      "source": [
        "num_words = len(word_index)+1\n",
        "word2Vec_embedding_matrix = np.zeros((num_words, embedding_dims))\n",
        "\n",
        "for word, i  in word_index.items():\n",
        "    if i > num_words:\n",
        "        continue\n",
        "    word2Vec_embedding_vector = word2Vec_embeddings_index.get(word)\n",
        "    if word2Vec_embedding_vector is not None:\n",
        "        #words not found in embedding index will be all-zeros.\n",
        "        word2Vec_embedding_matrix[i] = word2Vec_embedding_vector\n",
        "\n",
        "print(num_words)\n",
        "print(word2Vec_embedding_matrix.shape[0])\n",
        "print(word2Vec_embedding_matrix.shape[1])"
      ],
      "execution_count": 54,
      "outputs": [
        {
          "output_type": "stream",
          "name": "stdout",
          "text": [
            "36871\n",
            "36871\n",
            "128\n"
          ]
        }
      ]
    },
    {
      "cell_type": "markdown",
      "metadata": {
        "id": "M5tha5vJdIx1"
      },
      "source": [
        "# ***Latent Semantic Analysis (LSA)***"
      ]
    },
    {
      "cell_type": "code",
      "metadata": {
        "id": "w-KHaZABdIMX"
      },
      "source": [
        "from sklearn.decomposition import TruncatedSVD\n",
        "lsa_obj = TruncatedSVD(n_components=20, n_iter=100, random_state=42)\n",
        "word2vec_lsa_data = lsa_obj.fit_transform(word2Vec_embedding_matrix)\n",
        "Sigma = lsa_obj.singular_values_\n",
        "V_T = lsa_obj.components_.T"
      ],
      "execution_count": 55,
      "outputs": []
    },
    {
      "cell_type": "markdown",
      "metadata": {
        "id": "7q0r7miRqw-H"
      },
      "source": [
        "## Visualising the singular values representing how much each latent concept explains the variance in the data"
      ]
    },
    {
      "cell_type": "code",
      "metadata": {
        "colab": {
          "base_uri": "https://localhost:8080/",
          "height": 364
        },
        "id": "x0sidcd3ql_h",
        "outputId": "fd2f5e9e-b526-45dc-c0cc-991f287f967c"
      },
      "source": [
        "sns.barplot(x=list(range(len(Sigma))), y = Sigma)"
      ],
      "execution_count": 56,
      "outputs": [
        {
          "output_type": "execute_result",
          "data": {
            "text/plain": [
              "<matplotlib.axes._subplots.AxesSubplot at 0x7f45239bb3d0>"
            ]
          },
          "metadata": {},
          "execution_count": 56
        },
        {
          "output_type": "display_data",
          "data": {
            "image/png": "[encoded data removed]",
            "text/plain": [
              "<Figure size 576x396 with 1 Axes>"
            ]
          },
          "metadata": {}
        }
      ]
    },
    {
      "cell_type": "code",
      "metadata": {
        "colab": {
          "base_uri": "https://localhost:8080/"
        },
        "id": "3-I7IcfxwAmY",
        "outputId": "0881b67f-9971-4102-9ecb-d5d160446666"
      },
      "source": [
        "V_T.shape"
      ],
      "execution_count": 57,
      "outputs": [
        {
          "output_type": "execute_result",
          "data": {
            "text/plain": [
              "(128, 20)"
            ]
          },
          "metadata": {},
          "execution_count": 57
        }
      ]
    },
    {
      "cell_type": "code",
      "metadata": {
        "colab": {
          "base_uri": "https://localhost:8080/",
          "height": 575
        },
        "id": "Vu_wVyROwn5i",
        "outputId": "115c150d-cc73-4edd-feb8-69857d97e03a"
      },
      "source": [
        "fig = plt.figure(figsize=(10,10))\n",
        "ax = fig.add_subplot(111, projection='3d')\n",
        "ax.scatter(word2vec_lsa_data[:,0], word2vec_lsa_data[:,15], word2vec_lsa_data[:,9], c='skyblue', s=60)\n",
        "ax.view_init(15, 15)\n",
        "plt.show()"
      ],
      "execution_count": 58,
      "outputs": [
        {
          "output_type": "display_data",
          "data": {
            "image/png": "[encoded data removed]",
            "text/plain": [
              "<Figure size 720x720 with 1 Axes>"
            ]
          },
          "metadata": {}
        }
      ]
    },
    {
      "cell_type": "markdown",
      "metadata": {
        "id": "1vF4MTNQd1tw"
      },
      "source": [
        "#***Bidirecitional LSTM with Word2Vec***"
      ]
    },
    {
      "cell_type": "markdown",
      "metadata": {
        "id": "0wPPYPYtgBUg"
      },
      "source": [
        "## Using Precision, Recall, F1-Measure, etc. evaluation metrics to evaluate our model"
      ]
    },
    {
      "cell_type": "code",
      "metadata": {
        "id": "K8yBWH2AgEzQ"
      },
      "source": [
        "#Import necessary libraries\n",
        "from sklearn.datasets import make_circles\n",
        "from sklearn.metrics import accuracy_score\n",
        "from sklearn.metrics import precision_score\n",
        "from sklearn.metrics import recall_score\n",
        "from sklearn.metrics import f1_score\n",
        "from sklearn.metrics import cohen_kappa_score\n",
        "from sklearn.metrics import roc_auc_score\n",
        "from sklearn.metrics import confusion_matrix\n",
        "\n",
        "\n",
        "def precision(y_true, y_pred):\n",
        "    \n",
        "    true_positives = K.sum(K.round(K.clip(y_true * y_pred, 0, 1)))\n",
        "    predicted_positives = K.sum(K.round(K.clip(y_pred, 0, 1)))\n",
        "    precision = true_positives / (predicted_positives + K.epsilon())\n",
        "    return precision\n",
        "\n",
        "\n",
        "def recall(y_true, y_pred):\n",
        "    true_positives = K.sum(K.round(K.clip(y_true * y_pred, 0, 1)))\n",
        "    possible_positives = K.sum(K.round(K.clip(y_true, 0, 1)))\n",
        "    recall = true_positives / (possible_positives + K.epsilon())\n",
        "    return recall\n",
        "\n",
        "  #Customized the evaluation to analyse the model in terms of accuracy and mean value accuracy\n",
        "def mean_pred(y_true, y_pred):\n",
        "    return K.mean(y_pred)\n",
        "\n",
        "def fbeta_score(y_true, y_pred, beta=1):\n",
        "\n",
        "    if beta < 0:\n",
        "        raise ValueError('The lowest choosable beta is zero (only precision).')\n",
        "        \n",
        "    # If there are no true positives, fix the F score at 0 like sklearn.\n",
        "    if K.sum(K.round(K.clip(y_true, 0, 1))) == 0:\n",
        "        return 0.0\n",
        "\n",
        "    p = precision(y_true, y_pred)\n",
        "    r = recall(y_true, y_pred)\n",
        "    bb = beta ** 2\n",
        "    fbeta_score = (1 + bb) * (p * r) / (bb * p + r + K.epsilon())\n",
        "    return fbeta_score\n",
        "\n",
        "\n",
        "def fmeasure(y_true, y_pred):\n",
        "    return fbeta_score(y_true, y_pred, beta=1)\n",
        "\n",
        "\n",
        "fscore = f1score = fmeasure"
      ],
      "execution_count": 59,
      "outputs": []
    },
    {
      "cell_type": "code",
      "metadata": {
        "id": "pgKzANcOd2D-"
      },
      "source": [
        "Bil_LSTM_Word2Vec_model = Sequential([\n",
        "    Embedding(input_dim =word2Vec_embedding_matrix.shape[0], input_length=max_len, output_dim=word2Vec_embedding_matrix.shape[1],weights=[word2Vec_embedding_matrix], trainable=False),\n",
        "    SpatialDropout1D(0.5),\n",
        "    #Bidirectional layer will enable our model to predict a missing word in a sequence, \n",
        "    #So, using this feature will enable the model to look at the context on both the left and the right.\n",
        "    Bidirectional(LSTM(25, return_sequences=True)),\n",
        "    #**batch normalization layer** normalizes the activations of the previous layer at each batch, \n",
        "    #i.e. applies a transformation that maintains the mean activation close to 0 and the activation standard deviation close to 1. \n",
        "    BatchNormalization(),\n",
        "    Dropout(0.5),\n",
        "    GlobalMaxPool1D(),\n",
        "    Dense(50, activation = 'relu'),\n",
        "    Dense(6, activation = 'sigmoid')\n",
        "])\n",
        "\n",
        "\n",
        "Bil_LSTM_Word2Vec_model.compile(loss='binary_crossentropy', optimizer=Adam(learning_rate = 0.01, decay = 0.01/32), metrics=['accuracy', mean_pred, fmeasure, precision, recall])"
      ],
      "execution_count": 60,
      "outputs": []
    },
    {
      "cell_type": "markdown",
      "metadata": {
        "id": "NHPeyJomp5j4"
      },
      "source": [
        "###Visualize the Orchestrated Bidirectional LSTM-Word2Vec Model Architecture"
      ]
    },
    {
      "cell_type": "code",
      "metadata": {
        "colab": {
          "base_uri": "https://localhost:8080/",
          "height": 1000
        },
        "id": "9sKK8vNJp8RC",
        "outputId": "f21fd502-ce99-464a-fe52-f365186102a4"
      },
      "source": [
        "!pip install pillow\n",
        "from PIL import Image\n",
        "\n",
        "Bil_LSTM_Word2Vec_model.summary()\n",
        "\n",
        "plot_model(Bil_LSTM_Word2Vec_model, to_file='Bil_LSTM_Word2Vec_model_plot.png', show_shapes=True, show_layer_names=True)\n",
        "#Image(retina=True, filename='Bil_LSTM_Word2Vec_model_plot.png')"
      ],
      "execution_count": 61,
      "outputs": [
        {
          "output_type": "stream",
          "name": "stdout",
          "text": [
            "Requirement already satisfied: pillow in /usr/local/lib/python3.7/dist-packages (7.1.2)\n",
            "Model: \"sequential\"\n",
            "_________________________________________________________________\n",
            " Layer (type)                Output Shape              Param #   \n",
            "=================================================================\n",
            " embedding (Embedding)       (None, 200, 128)          4719488   \n",
            "                                                                 \n",
            " spatial_dropout1d (SpatialD  (None, 200, 128)         0         \n",
            " ropout1D)                                                       \n",
            "                                                                 \n",
            " bidirectional (Bidirectiona  (None, 200, 50)          30800     \n",
            " l)                                                              \n",
            "                                                                 \n",
            " batch_normalization (BatchN  (None, 200, 50)          200       \n",
            " ormalization)                                                   \n",
            "                                                                 \n",
            " dropout (Dropout)           (None, 200, 50)           0         \n",
            "                                                                 \n",
            " global_max_pooling1d (Globa  (None, 50)               0         \n",
            " lMaxPooling1D)                                                  \n",
            "                                                                 \n",
            " dense (Dense)               (None, 50)                2550      \n",
            "                                                                 \n",
            " dense_1 (Dense)             (None, 6)                 306       \n",
            "                                                                 \n",
            "=================================================================\n",
            "Total params: 4,753,344\n",
            "Trainable params: 33,756\n",
            "Non-trainable params: 4,719,588\n",
            "_________________________________________________________________\n"
          ]
        },
        {
          "output_type": "execute_result",
          "data": {
            "image/png": "[encoded data removed]",
            "text/plain": [
              "<IPython.core.display.Image object>"
            ]
          },
          "metadata": {},
          "execution_count": 61
        }
      ]
    },
    {
      "cell_type": "markdown",
      "metadata": {
        "id": "ZmNZU8aou2Q_"
      },
      "source": [
        "###Fit the model on the dataset"
      ]
    },
    {
      "cell_type": "code",
      "metadata": {
        "colab": {
          "base_uri": "https://localhost:8080/"
        },
        "id": "WrfmSpH6qNFY",
        "outputId": "7cf86312-123b-4f6b-de34-7b5bf46b3467"
      },
      "source": [
        "Bil_LSTM_Word2Vec_model_fit = Bil_LSTM_Word2Vec_model.fit(X_tra, y_tra, batch_size=batch_size2, epochs=num_epochs, validation_data=(X_val, y_val))"
      ],
      "execution_count": 62,
      "outputs": [
        {
          "output_type": "stream",
          "name": "stdout",
          "text": [
            "Epoch 1/15\n",
            "58/58 [==============================] - 33s 489ms/step - loss: 0.4518 - accuracy: 0.9223 - mean_pred: 0.3669 - fmeasure: 0.6907 - precision: 0.7411 - recall: 0.6670 - val_loss: 0.5552 - val_accuracy: 0.9464 - val_mean_pred: 0.4594 - val_fmeasure: 0.7606 - val_precision: 0.6608 - val_recall: 0.8971\n",
            "Epoch 2/15\n",
            "58/58 [==============================] - 27s 469ms/step - loss: 0.3836 - accuracy: 0.9421 - mean_pred: 0.3594 - fmeasure: 0.7206 - precision: 0.7837 - recall: 0.6741 - val_loss: 0.5231 - val_accuracy: 0.9470 - val_mean_pred: 0.4476 - val_fmeasure: 0.7402 - val_precision: 0.7968 - val_recall: 0.6913\n",
            "Epoch 3/15\n",
            "58/58 [==============================] - 27s 468ms/step - loss: 0.3783 - accuracy: 0.9421 - mean_pred: 0.3599 - fmeasure: 0.7249 - precision: 0.8003 - recall: 0.6761 - val_loss: 0.5107 - val_accuracy: 0.9347 - val_mean_pred: 0.4594 - val_fmeasure: 0.7616 - val_precision: 0.6611 - val_recall: 0.8993\n",
            "Epoch 4/15\n",
            "58/58 [==============================] - 27s 471ms/step - loss: 0.3741 - accuracy: 0.9421 - mean_pred: 0.3608 - fmeasure: 0.7314 - precision: 0.7949 - recall: 0.6846 - val_loss: 0.4588 - val_accuracy: 0.9421 - val_mean_pred: 0.4243 - val_fmeasure: 0.7523 - val_precision: 0.7567 - val_recall: 0.7484\n",
            "Epoch 5/15\n",
            "58/58 [==============================] - 27s 470ms/step - loss: 0.3704 - accuracy: 0.9421 - mean_pred: 0.3612 - fmeasure: 0.7349 - precision: 0.8071 - recall: 0.6780 - val_loss: 0.4598 - val_accuracy: 0.9464 - val_mean_pred: 0.4403 - val_fmeasure: 0.7647 - val_precision: 0.6929 - val_recall: 0.8540\n",
            "Epoch 6/15\n",
            "58/58 [==============================] - 27s 468ms/step - loss: 0.3691 - accuracy: 0.9421 - mean_pred: 0.3603 - fmeasure: 0.7358 - precision: 0.8041 - recall: 0.6825 - val_loss: 0.4322 - val_accuracy: 0.9476 - val_mean_pred: 0.4115 - val_fmeasure: 0.7447 - val_precision: 0.8435 - val_recall: 0.6670\n",
            "Epoch 7/15\n",
            "58/58 [==============================] - 27s 467ms/step - loss: 0.3682 - accuracy: 0.9421 - mean_pred: 0.3592 - fmeasure: 0.7383 - precision: 0.8143 - recall: 0.6820 - val_loss: 0.4218 - val_accuracy: 0.9476 - val_mean_pred: 0.4269 - val_fmeasure: 0.7648 - val_precision: 0.7447 - val_recall: 0.7868\n",
            "Epoch 8/15\n",
            "58/58 [==============================] - 27s 469ms/step - loss: 0.3657 - accuracy: 0.9421 - mean_pred: 0.3615 - fmeasure: 0.7425 - precision: 0.8055 - recall: 0.6909 - val_loss: 0.4049 - val_accuracy: 0.9458 - val_mean_pred: 0.4054 - val_fmeasure: 0.7549 - val_precision: 0.8413 - val_recall: 0.6849\n",
            "Epoch 9/15\n",
            "58/58 [==============================] - 27s 470ms/step - loss: 0.3633 - accuracy: 0.9421 - mean_pred: 0.3614 - fmeasure: 0.7466 - precision: 0.8124 - recall: 0.6934 - val_loss: 0.3952 - val_accuracy: 0.9464 - val_mean_pred: 0.4058 - val_fmeasure: 0.7653 - val_precision: 0.8300 - val_recall: 0.7102\n",
            "Epoch 10/15\n",
            "58/58 [==============================] - 27s 469ms/step - loss: 0.3617 - accuracy: 0.9389 - mean_pred: 0.3602 - fmeasure: 0.7519 - precision: 0.8162 - recall: 0.6985 - val_loss: 0.4002 - val_accuracy: 0.9464 - val_mean_pred: 0.4069 - val_fmeasure: 0.7599 - val_precision: 0.8522 - val_recall: 0.6860\n",
            "Epoch 11/15\n",
            "58/58 [==============================] - 27s 469ms/step - loss: 0.3590 - accuracy: 0.9412 - mean_pred: 0.3603 - fmeasure: 0.7512 - precision: 0.8209 - recall: 0.6937 - val_loss: 0.4083 - val_accuracy: 0.9439 - val_mean_pred: 0.4092 - val_fmeasure: 0.7624 - val_precision: 0.8438 - val_recall: 0.6958\n",
            "Epoch 12/15\n",
            "58/58 [==============================] - 27s 468ms/step - loss: 0.3574 - accuracy: 0.9414 - mean_pred: 0.3603 - fmeasure: 0.7558 - precision: 0.8233 - recall: 0.7009 - val_loss: 0.3863 - val_accuracy: 0.9458 - val_mean_pred: 0.4057 - val_fmeasure: 0.7630 - val_precision: 0.8578 - val_recall: 0.6875\n",
            "Epoch 13/15\n",
            "58/58 [==============================] - 27s 469ms/step - loss: 0.3574 - accuracy: 0.9408 - mean_pred: 0.3606 - fmeasure: 0.7538 - precision: 0.8259 - recall: 0.6963 - val_loss: 0.3799 - val_accuracy: 0.9458 - val_mean_pred: 0.3818 - val_fmeasure: 0.7555 - val_precision: 0.8919 - val_recall: 0.6554\n",
            "Epoch 14/15\n",
            "58/58 [==============================] - 27s 469ms/step - loss: 0.3563 - accuracy: 0.9417 - mean_pred: 0.3603 - fmeasure: 0.7554 - precision: 0.8257 - recall: 0.6991 - val_loss: 0.3981 - val_accuracy: 0.9476 - val_mean_pred: 0.4104 - val_fmeasure: 0.7710 - val_precision: 0.8387 - val_recall: 0.7138\n",
            "Epoch 15/15\n",
            "58/58 [==============================] - 27s 473ms/step - loss: 0.3578 - accuracy: 0.9378 - mean_pred: 0.3633 - fmeasure: 0.7544 - precision: 0.8206 - recall: 0.7022 - val_loss: 0.3998 - val_accuracy: 0.9464 - val_mean_pred: 0.4231 - val_fmeasure: 0.7764 - val_precision: 0.8485 - val_recall: 0.7157\n"
          ]
        }
      ]
    },
    {
      "cell_type": "markdown",
      "metadata": {
        "id": "PCjIwwRNu8zu"
      },
      "source": [
        "###Evaluate the BiLSTM+Word2Vec train and test score"
      ]
    },
    {
      "cell_type": "code",
      "metadata": {
        "colab": {
          "base_uri": "https://localhost:8080/"
        },
        "id": "PpxJkeHDqVck",
        "outputId": "72f67253-2b8e-42cf-f62b-507754bbaad8"
      },
      "source": [
        "#train\n",
        "Bil_LSTM_Word2Vec_train_score = Bil_LSTM_Word2Vec_model.evaluate(X_train, y_train, batch_size=batch_size2, verbose=1)\n",
        "print('Train Loss:', Bil_LSTM_Word2Vec_train_score[0])\n",
        "print('Train Accuracy:', Bil_LSTM_Word2Vec_train_score[1])\n",
        "\n",
        "#test\n",
        "Bil_LSTM_Word2Vec_test_score = Bil_LSTM_Word2Vec_model.evaluate(X_test, y_test, batch_size=batch_size2, verbose=1)\n",
        "print('Test Loss:', Bil_LSTM_Word2Vec_test_score[0])\n",
        "print('Test Accuracy:', Bil_LSTM_Word2Vec_test_score[1])"
      ],
      "execution_count": 63,
      "outputs": [
        {
          "output_type": "stream",
          "name": "stdout",
          "text": [
            "64/64 [==============================] - 11s 174ms/step - loss: 0.4009 - accuracy: 0.9407 - mean_pred: 0.4227 - fmeasure: 0.7787 - precision: 0.8475 - recall: 0.7205\n",
            "Train Loss: 0.40090638399124146\n",
            "Train Accuracy: 0.9407087564468384\n",
            "25/25 [==============================] - 4s 172ms/step - loss: 0.4050 - accuracy: 0.9742 - mean_pred: 0.4260 - fmeasure: 0.7665 - precision: 0.8548 - recall: 0.6951\n",
            "Test Loss: 0.40503570437431335\n",
            "Test Accuracy: 0.9742110967636108\n"
          ]
        }
      ]
    },
    {
      "cell_type": "markdown",
      "metadata": {
        "id": "8yGsiC5NvFH_"
      },
      "source": [
        "###Plot Training & Validation Accuracy with the Loss values of the BiLSTM-Word2Vec Model"
      ]
    },
    {
      "cell_type": "code",
      "metadata": {
        "colab": {
          "base_uri": "https://localhost:8080/",
          "height": 737
        },
        "id": "sZyOwgRdbjuh",
        "outputId": "f8ceb3a1-1f11-4301-d260-a02ee84d2cfe"
      },
      "source": [
        "# Plot training & validation accuracy values\n",
        "plt.plot(Bil_LSTM_Word2Vec_model_fit.history['accuracy'],  color=\"DarkCyan\")\n",
        "plt.plot(Bil_LSTM_Word2Vec_model_fit.history['val_accuracy'], color=\"FireBrick\")\n",
        "plt.title('Bidirecitonal LSTM-Word2Vec Model accuracy')\n",
        "plt.ylabel('Accuracy')\n",
        "plt.xlabel('Epoch')\n",
        "plt.legend(['Training Accuracy', 'Validation Accuracy'], loc='upper left')\n",
        "plt.show()\n",
        "\n",
        "# Plot training & validation loss values\n",
        "plt.plot(Bil_LSTM_Word2Vec_model_fit.history['loss'], color=\"DarkCyan\")\n",
        "plt.plot(Bil_LSTM_Word2Vec_model_fit.history['val_loss'], color=\"FireBrick\")\n",
        "plt.title('Bidirecitonal LSTM-Word2Vec Model loss')\n",
        "plt.ylabel('Loss')\n",
        "plt.xlabel('Epoch')\n",
        "plt.legend(['Training Loss', 'Validation Loss'], loc='lower right')\n",
        "plt.show()"
      ],
      "execution_count": 64,
      "outputs": [
        {
          "output_type": "display_data",
          "data": {
            "image/png": "[encoded data removed]",
            "text/plain": [
              "<Figure size 576x396 with 1 Axes>"
            ]
          },
          "metadata": {}
        },
        {
          "output_type": "display_data",
          "data": {
            "image/png": "[encoded data removed]",
            "text/plain": [
              "<Figure size 576x396 with 1 Axes>"
            ]
          },
          "metadata": {}
        }
      ]
    },
    {
      "cell_type": "code",
      "metadata": {
        "colab": {
          "base_uri": "https://localhost:8080/"
        },
        "id": "vzf5mt6vR6pT",
        "outputId": "f9fbc171-98f7-492a-9c78-bdbbf8cde20e"
      },
      "source": [
        "# concat all training, validation and testing accuracy scores\n",
        "\n",
        "Bidirectional_LSTM_Word2Vec_Accuracy = ['Bidirectional LSTM with Word2Vec', \n",
        "                    np.max(Bil_LSTM_Word2Vec_model_fit.history['accuracy']), \n",
        "                    np.max(Bil_LSTM_Word2Vec_model_fit.history['val_accuracy']), \n",
        "                    Bil_LSTM_Word2Vec_test_score[1]]\n",
        "\n",
        "\n",
        "# create dataframe\n",
        "experimentalResult = pd.DataFrame([Bidirectional_LSTM_Word2Vec_Accuracy])\n",
        "\n",
        "# beautify the new dataframe\n",
        "experimentalResult.columns = ['Model', 'Training', 'Validation', 'Testing']\n",
        "experimentalResult.set_index(['Model'], inplace=True)\n",
        "experimentalResult.to_csv(\"BiLSTM_scores.csv\", index = False)\n",
        "\n",
        "print(experimentalResult)"
      ],
      "execution_count": 65,
      "outputs": [
        {
          "output_type": "stream",
          "name": "stdout",
          "text": [
            "                                  Training  Validation   Testing\n",
            "Model                                                           \n",
            "Bidirectional LSTM with Word2Vec  0.942063    0.947628  0.974211\n"
          ]
        }
      ]
    },
    {
      "cell_type": "markdown",
      "metadata": {
        "id": "4VtssOJgeRlq"
      },
      "source": [
        "# Evaluation of Experiment With Word2Vec Pre-trained Embedding"
      ]
    },
    {
      "cell_type": "markdown",
      "metadata": {
        "id": "fvr5FSOeeWXX"
      },
      "source": [
        "## Computing the highest of the evaluation matrics "
      ]
    },
    {
      "cell_type": "code",
      "metadata": {
        "colab": {
          "base_uri": "https://localhost:8080/",
          "height": 542
        },
        "id": "zK_Xn0hNAKJo",
        "outputId": "4d6a2fb6-54be-4389-b66d-5fd6b06b9d04"
      },
      "source": [
        "trace = go.Figure(data=[go.Table(\n",
        "    header=dict(values=['Model', 'Loss', 'Accuracy', 'mean_pred', 'F-Measure', 'Precision'],\n",
        "                line = dict(color='#7D7F80'),\n",
        "                fill = dict(color='#ffa07a'),\n",
        "                align = ['left'] * 5),\n",
        "    cells=dict(values=[[' Bidirectional LSTM with word2Vec'],\n",
        "                       [\n",
        "                        #Loss Evaluation\n",
        "                        round(np.max(Bil_LSTM_Word2Vec_model_fit.history['loss']), 3)],\n",
        "                        \n",
        "                        #Accuracy Evaluation\n",
        "                        [round(np.max(Bil_LSTM_Word2Vec_model_fit.history['accuracy']), 3)],\n",
        "               \n",
        "                        #mean_pred Evaluation\n",
        "                        [round(np.max(Bil_LSTM_Word2Vec_model_fit.history['mean_pred']), 3)],\n",
        "\t\t\t\t\t\t\n",
        "                        #F1-Measure Evaluation fmeasure\n",
        "                        [round(np.max(Bil_LSTM_Word2Vec_model_fit.history['fmeasure']), 3)],\n",
        "\t\t\t\t\t\t             \n",
        "                        #Precision Evaluation precision\n",
        "                        [round(np.max(Bil_LSTM_Word2Vec_model_fit.history['precision']), 3)],                      \n",
        "                       \n",
        "                       ],\n",
        "               line = dict(color='#7D7F80'),\n",
        "               fill = dict(color='#ffcd8a'),\n",
        "               align = ['left'] * 5))])\n",
        "\n",
        "trace.show()"
      ],
      "execution_count": 66,
      "outputs": [
        {
          "output_type": "display_data",
          "data": {
            "text/html": [
              "<html>\n",
              "<head><meta charset=\"utf-8\" /></head>\n",
              "<body>\n",
              "    <div>\n",
              "            <script src=\"https://cdnjs.cloudflare.com/ajax/libs/mathjax/2.7.5/MathJax.js?config=TeX-AMS-MML_SVG\"></script><script type=\"text/javascript\">if (window.MathJax) {MathJax.Hub.Config({SVG: {font: \"STIX-Web\"}});}</script>\n",
              "                <script type=\"text/javascript\">window.PlotlyConfig = {MathJaxConfig: 'local'};</script>\n",
              "        <script src=\"https://cdn.plot.ly/plotly-latest.min.js\"></script>    \n",
              "            <div id=\"696bd13a-c704-4bae-84a9-52250873ed3b\" class=\"plotly-graph-div\" style=\"height:525px; width:100%;\"></div>\n",
              "            <script type=\"text/javascript\">\n",
              "                \n",
              "                    window.PLOTLYENV=window.PLOTLYENV || {};\n",
              "                    \n",
              "                if (document.getElementById(\"696bd13a-c704-4bae-84a9-52250873ed3b\")) {\n",
              "                    Plotly.newPlot(\n",
              "                        '696bd13a-c704-4bae-84a9-52250873ed3b',\n",
              "                        [{\"cells\": {\"align\": [\"left\", \"left\", \"left\", \"left\", \"left\"], \"fill\": {\"color\": \"#ffcd8a\"}, \"line\": {\"color\": \"#7D7F80\"}, \"values\": [[\" Bidirectional LSTM with word2Vec\"], [0.452], [0.942], [0.367], [0.756], [0.826]]}, \"header\": {\"align\": [\"left\", \"left\", \"left\", \"left\", \"left\"], \"fill\": {\"color\": \"#ffa07a\"}, \"line\": {\"color\": \"#7D7F80\"}, \"values\": [\"Model\", \"Loss\", \"Accuracy\", \"mean_pred\", \"F-Measure\", \"Precision\"]}, \"type\": \"table\"}],\n",
              "                        {\"template\": {\"data\": {\"bar\": [{\"error_x\": {\"color\": \"#2a3f5f\"}, \"error_y\": {\"color\": \"#2a3f5f\"}, \"marker\": {\"line\": {\"color\": \"#E5ECF6\", \"width\": 0.5}}, \"type\": \"bar\"}], \"barpolar\": [{\"marker\": {\"line\": {\"color\": \"#E5ECF6\", \"width\": 0.5}}, \"type\": \"barpolar\"}], \"carpet\": [{\"aaxis\": {\"endlinecolor\": \"#2a3f5f\", \"gridcolor\": \"white\", \"linecolor\": \"white\", \"minorgridcolor\": \"white\", \"startlinecolor\": \"#2a3f5f\"}, \"baxis\": {\"endlinecolor\": \"#2a3f5f\", \"gridcolor\": \"white\", \"linecolor\": \"white\", \"minorgridcolor\": \"white\", \"startlinecolor\": \"#2a3f5f\"}, \"type\": \"carpet\"}], \"choropleth\": [{\"colorbar\": {\"outlinewidth\": 0, \"ticks\": \"\"}, \"type\": \"choropleth\"}], \"contour\": [{\"colorbar\": {\"outlinewidth\": 0, \"ticks\": \"\"}, \"colorscale\": [[0.0, \"#0d0887\"], [0.1111111111111111, \"#46039f\"], [0.2222222222222222, \"#7201a8\"], [0.3333333333333333, \"#9c179e\"], [0.4444444444444444, \"#bd3786\"], [0.5555555555555556, \"#d8576b\"], [0.6666666666666666, \"#ed7953\"], [0.7777777777777778, \"#fb9f3a\"], [0.8888888888888888, \"#fdca26\"], [1.0, \"#f0f921\"]], \"type\": \"contour\"}], \"contourcarpet\": [{\"colorbar\": {\"outlinewidth\": 0, \"ticks\": \"\"}, \"type\": \"contourcarpet\"}], \"heatmap\": [{\"colorbar\": {\"outlinewidth\": 0, \"ticks\": \"\"}, \"colorscale\": [[0.0, \"#0d0887\"], [0.1111111111111111, \"#46039f\"], [0.2222222222222222, \"#7201a8\"], [0.3333333333333333, \"#9c179e\"], [0.4444444444444444, \"#bd3786\"], [0.5555555555555556, \"#d8576b\"], [0.6666666666666666, \"#ed7953\"], [0.7777777777777778, \"#fb9f3a\"], [0.8888888888888888, \"#fdca26\"], [1.0, \"#f0f921\"]], \"type\": \"heatmap\"}], \"heatmapgl\": [{\"colorbar\": {\"outlinewidth\": 0, \"ticks\": \"\"}, \"colorscale\": [[0.0, \"#0d0887\"], [0.1111111111111111, \"#46039f\"], [0.2222222222222222, \"#7201a8\"], [0.3333333333333333, \"#9c179e\"], [0.4444444444444444, \"#bd3786\"], [0.5555555555555556, \"#d8576b\"], [0.6666666666666666, \"#ed7953\"], [0.7777777777777778, \"#fb9f3a\"], [0.8888888888888888, \"#fdca26\"], [1.0, \"#f0f921\"]], \"type\": \"heatmapgl\"}], \"histogram\": [{\"marker\": {\"colorbar\": {\"outlinewidth\": 0, \"ticks\": \"\"}}, \"type\": \"histogram\"}], \"histogram2d\": [{\"colorbar\": {\"outlinewidth\": 0, \"ticks\": \"\"}, \"colorscale\": [[0.0, \"#0d0887\"], [0.1111111111111111, \"#46039f\"], [0.2222222222222222, \"#7201a8\"], [0.3333333333333333, \"#9c179e\"], [0.4444444444444444, \"#bd3786\"], [0.5555555555555556, \"#d8576b\"], [0.6666666666666666, \"#ed7953\"], [0.7777777777777778, \"#fb9f3a\"], [0.8888888888888888, \"#fdca26\"], [1.0, \"#f0f921\"]], \"type\": \"histogram2d\"}], \"histogram2dcontour\": [{\"colorbar\": {\"outlinewidth\": 0, \"ticks\": \"\"}, \"colorscale\": [[0.0, \"#0d0887\"], [0.1111111111111111, \"#46039f\"], [0.2222222222222222, \"#7201a8\"], [0.3333333333333333, \"#9c179e\"], [0.4444444444444444, \"#bd3786\"], [0.5555555555555556, \"#d8576b\"], [0.6666666666666666, \"#ed7953\"], [0.7777777777777778, \"#fb9f3a\"], [0.8888888888888888, \"#fdca26\"], [1.0, \"#f0f921\"]], \"type\": \"histogram2dcontour\"}], \"mesh3d\": [{\"colorbar\": {\"outlinewidth\": 0, \"ticks\": \"\"}, \"type\": \"mesh3d\"}], \"parcoords\": [{\"line\": {\"colorbar\": {\"outlinewidth\": 0, \"ticks\": \"\"}}, \"type\": \"parcoords\"}], \"pie\": [{\"automargin\": true, \"type\": \"pie\"}], \"scatter\": [{\"marker\": {\"colorbar\": {\"outlinewidth\": 0, \"ticks\": \"\"}}, \"type\": \"scatter\"}], \"scatter3d\": [{\"line\": {\"colorbar\": {\"outlinewidth\": 0, \"ticks\": \"\"}}, \"marker\": {\"colorbar\": {\"outlinewidth\": 0, \"ticks\": \"\"}}, \"type\": \"scatter3d\"}], \"scattercarpet\": [{\"marker\": {\"colorbar\": {\"outlinewidth\": 0, \"ticks\": \"\"}}, \"type\": \"scattercarpet\"}], \"scattergeo\": [{\"marker\": {\"colorbar\": {\"outlinewidth\": 0, \"ticks\": \"\"}}, \"type\": \"scattergeo\"}], \"scattergl\": [{\"marker\": {\"colorbar\": {\"outlinewidth\": 0, \"ticks\": \"\"}}, \"type\": \"scattergl\"}], \"scattermapbox\": [{\"marker\": {\"colorbar\": {\"outlinewidth\": 0, \"ticks\": \"\"}}, \"type\": \"scattermapbox\"}], \"scatterpolar\": [{\"marker\": {\"colorbar\": {\"outlinewidth\": 0, \"ticks\": \"\"}}, \"type\": \"scatterpolar\"}], \"scatterpolargl\": [{\"marker\": {\"colorbar\": {\"outlinewidth\": 0, \"ticks\": \"\"}}, \"type\": \"scatterpolargl\"}], \"scatterternary\": [{\"marker\": {\"colorbar\": {\"outlinewidth\": 0, \"ticks\": \"\"}}, \"type\": \"scatterternary\"}], \"surface\": [{\"colorbar\": {\"outlinewidth\": 0, \"ticks\": \"\"}, \"colorscale\": [[0.0, \"#0d0887\"], [0.1111111111111111, \"#46039f\"], [0.2222222222222222, \"#7201a8\"], [0.3333333333333333, \"#9c179e\"], [0.4444444444444444, \"#bd3786\"], [0.5555555555555556, \"#d8576b\"], [0.6666666666666666, \"#ed7953\"], [0.7777777777777778, \"#fb9f3a\"], [0.8888888888888888, \"#fdca26\"], [1.0, \"#f0f921\"]], \"type\": \"surface\"}], \"table\": [{\"cells\": {\"fill\": {\"color\": \"#EBF0F8\"}, \"line\": {\"color\": \"white\"}}, \"header\": {\"fill\": {\"color\": \"#C8D4E3\"}, \"line\": {\"color\": \"white\"}}, \"type\": \"table\"}]}, \"layout\": {\"annotationdefaults\": {\"arrowcolor\": \"#2a3f5f\", \"arrowhead\": 0, \"arrowwidth\": 1}, \"coloraxis\": {\"colorbar\": {\"outlinewidth\": 0, \"ticks\": \"\"}}, \"colorscale\": {\"diverging\": [[0, \"#8e0152\"], [0.1, \"#c51b7d\"], [0.2, \"#de77ae\"], [0.3, \"#f1b6da\"], [0.4, \"#fde0ef\"], [0.5, \"#f7f7f7\"], [0.6, \"#e6f5d0\"], [0.7, \"#b8e186\"], [0.8, \"#7fbc41\"], [0.9, \"#4d9221\"], [1, \"#276419\"]], \"sequential\": [[0.0, \"#0d0887\"], [0.1111111111111111, \"#46039f\"], [0.2222222222222222, \"#7201a8\"], [0.3333333333333333, \"#9c179e\"], [0.4444444444444444, \"#bd3786\"], [0.5555555555555556, \"#d8576b\"], [0.6666666666666666, \"#ed7953\"], [0.7777777777777778, \"#fb9f3a\"], [0.8888888888888888, \"#fdca26\"], [1.0, \"#f0f921\"]], \"sequentialminus\": [[0.0, \"#0d0887\"], [0.1111111111111111, \"#46039f\"], [0.2222222222222222, \"#7201a8\"], [0.3333333333333333, \"#9c179e\"], [0.4444444444444444, \"#bd3786\"], [0.5555555555555556, \"#d8576b\"], [0.6666666666666666, \"#ed7953\"], [0.7777777777777778, \"#fb9f3a\"], [0.8888888888888888, \"#fdca26\"], [1.0, \"#f0f921\"]]}, \"colorway\": [\"#636efa\", \"#EF553B\", \"#00cc96\", \"#ab63fa\", \"#FFA15A\", \"#19d3f3\", \"#FF6692\", \"#B6E880\", \"#FF97FF\", \"#FECB52\"], \"font\": {\"color\": \"#2a3f5f\"}, \"geo\": {\"bgcolor\": \"white\", \"lakecolor\": \"white\", \"landcolor\": \"#E5ECF6\", \"showlakes\": true, \"showland\": true, \"subunitcolor\": \"white\"}, \"hoverlabel\": {\"align\": \"left\"}, \"hovermode\": \"closest\", \"mapbox\": {\"style\": \"light\"}, \"paper_bgcolor\": \"white\", \"plot_bgcolor\": \"#E5ECF6\", \"polar\": {\"angularaxis\": {\"gridcolor\": \"white\", \"linecolor\": \"white\", \"ticks\": \"\"}, \"bgcolor\": \"#E5ECF6\", \"radialaxis\": {\"gridcolor\": \"white\", \"linecolor\": \"white\", \"ticks\": \"\"}}, \"scene\": {\"xaxis\": {\"backgroundcolor\": \"#E5ECF6\", \"gridcolor\": \"white\", \"gridwidth\": 2, \"linecolor\": \"white\", \"showbackground\": true, \"ticks\": \"\", \"zerolinecolor\": \"white\"}, \"yaxis\": {\"backgroundcolor\": \"#E5ECF6\", \"gridcolor\": \"white\", \"gridwidth\": 2, \"linecolor\": \"white\", \"showbackground\": true, \"ticks\": \"\", \"zerolinecolor\": \"white\"}, \"zaxis\": {\"backgroundcolor\": \"#E5ECF6\", \"gridcolor\": \"white\", \"gridwidth\": 2, \"linecolor\": \"white\", \"showbackground\": true, \"ticks\": \"\", \"zerolinecolor\": \"white\"}}, \"shapedefaults\": {\"line\": {\"color\": \"#2a3f5f\"}}, \"ternary\": {\"aaxis\": {\"gridcolor\": \"white\", \"linecolor\": \"white\", \"ticks\": \"\"}, \"baxis\": {\"gridcolor\": \"white\", \"linecolor\": \"white\", \"ticks\": \"\"}, \"bgcolor\": \"#E5ECF6\", \"caxis\": {\"gridcolor\": \"white\", \"linecolor\": \"white\", \"ticks\": \"\"}}, \"title\": {\"x\": 0.05}, \"xaxis\": {\"automargin\": true, \"gridcolor\": \"white\", \"linecolor\": \"white\", \"ticks\": \"\", \"title\": {\"standoff\": 15}, \"zerolinecolor\": \"white\", \"zerolinewidth\": 2}, \"yaxis\": {\"automargin\": true, \"gridcolor\": \"white\", \"linecolor\": \"white\", \"ticks\": \"\", \"title\": {\"standoff\": 15}, \"zerolinecolor\": \"white\", \"zerolinewidth\": 2}}}},\n",
              "                        {\"responsive\": true}\n",
              "                    ).then(function(){\n",
              "                            \n",
              "var gd = document.getElementById('696bd13a-c704-4bae-84a9-52250873ed3b');\n",
              "var x = new MutationObserver(function (mutations, observer) {{\n",
              "        var display = window.getComputedStyle(gd).display;\n",
              "        if (!display || display === 'none') {{\n",
              "            console.log([gd, 'removed!']);\n",
              "            Plotly.purge(gd);\n",
              "            observer.disconnect();\n",
              "        }}\n",
              "}});\n",
              "\n",
              "// Listen for the removal of the full notebook cells\n",
              "var notebookContainer = gd.closest('#notebook-container');\n",
              "if (notebookContainer) {{\n",
              "    x.observe(notebookContainer, {childList: true});\n",
              "}}\n",
              "\n",
              "// Listen for the clearing of the current output cell\n",
              "var outputEl = gd.closest('.output');\n",
              "if (outputEl) {{\n",
              "    x.observe(outputEl, {childList: true});\n",
              "}}\n",
              "\n",
              "                        })\n",
              "                };\n",
              "                \n",
              "            </script>\n",
              "        </div>\n",
              "</body>\n",
              "</html>"
            ]
          },
          "metadata": {}
        }
      ]
    },
    {
      "cell_type": "markdown",
      "metadata": {
        "id": "qNOWh8yee-MX"
      },
      "source": [
        "## Computing the mean average of the evaluation matrics"
      ]
    },
    {
      "cell_type": "code",
      "metadata": {
        "colab": {
          "base_uri": "https://localhost:8080/",
          "height": 542
        },
        "id": "9eNLjhkoaEsX",
        "outputId": "93fb32c7-3ec7-439d-a228-c304b681b7ce"
      },
      "source": [
        "trace = go.Figure(data=[go.Table(\n",
        "    header=dict(values=['Model', 'Loss', 'Accuracy', 'mean_pred', 'F-Measure', 'Precision'],\n",
        "                line = dict(color='#7D7F80'),\n",
        "                fill = dict(color='#ffa07a'),\n",
        "                align = ['left'] * 5),\n",
        "    cells=dict(values=[[' Bidirectional LSTM with Word2Vec'],\n",
        "                       [\n",
        "                        #Loss Evaluation\n",
        "                        round(np.mean(Bil_LSTM_Word2Vec_model_fit.history['loss']), 3)],\n",
        "                        \n",
        "                        #Accuracy Evaluation\n",
        "                        [round(np.mean(Bil_LSTM_Word2Vec_model_fit.history['loss']), 3)],\n",
        "               \n",
        "                        #mean_pred Evaluation\n",
        "                        [round(np.mean(Bil_LSTM_Word2Vec_model_fit.history['mean_pred']), 3)],\n",
        "\t\t\t\t\t\t\n",
        "                        #F1-Measure Evaluation fmeasure\n",
        "                        [round(np.mean(Bil_LSTM_Word2Vec_model_fit.history['fmeasure']), 3)],\n",
        "\t\t\t\t\t\t             \n",
        "                        #Precision Evaluation precision\n",
        "                        [round(np.mean(Bil_LSTM_Word2Vec_model_fit.history['precision']), 3)],\n",
        "                                              ],\n",
        "               line = dict(color='#7D7F80'),\n",
        "               fill = dict(color='#ffcd8a'),\n",
        "               align = ['left'] * 5))])\n",
        "\n",
        "trace.show()"
      ],
      "execution_count": 67,
      "outputs": [
        {
          "output_type": "display_data",
          "data": {
            "text/html": [
              "<html>\n",
              "<head><meta charset=\"utf-8\" /></head>\n",
              "<body>\n",
              "    <div>\n",
              "            <script src=\"https://cdnjs.cloudflare.com/ajax/libs/mathjax/2.7.5/MathJax.js?config=TeX-AMS-MML_SVG\"></script><script type=\"text/javascript\">if (window.MathJax) {MathJax.Hub.Config({SVG: {font: \"STIX-Web\"}});}</script>\n",
              "                <script type=\"text/javascript\">window.PlotlyConfig = {MathJaxConfig: 'local'};</script>\n",
              "        <script src=\"https://cdn.plot.ly/plotly-latest.min.js\"></script>    \n",
              "            <div id=\"0913dd96-b265-4df3-92fb-2bfdc51be0ee\" class=\"plotly-graph-div\" style=\"height:525px; width:100%;\"></div>\n",
              "            <script type=\"text/javascript\">\n",
              "                \n",
              "                    window.PLOTLYENV=window.PLOTLYENV || {};\n",
              "                    \n",
              "                if (document.getElementById(\"0913dd96-b265-4df3-92fb-2bfdc51be0ee\")) {\n",
              "                    Plotly.newPlot(\n",
              "                        '0913dd96-b265-4df3-92fb-2bfdc51be0ee',\n",
              "                        [{\"cells\": {\"align\": [\"left\", \"left\", \"left\", \"left\", \"left\"], \"fill\": {\"color\": \"#ffcd8a\"}, \"line\": {\"color\": \"#7D7F80\"}, \"values\": [[\" Bidirectional LSTM with Word2Vec\"], [0.372], [0.372], [0.361], [0.739], [0.806]]}, \"header\": {\"align\": [\"left\", \"left\", \"left\", \"left\", \"left\"], \"fill\": {\"color\": \"#ffa07a\"}, \"line\": {\"color\": \"#7D7F80\"}, \"values\": [\"Model\", \"Loss\", \"Accuracy\", \"mean_pred\", \"F-Measure\", \"Precision\"]}, \"type\": \"table\"}],\n",
              "                        {\"template\": {\"data\": {\"bar\": [{\"error_x\": {\"color\": \"#2a3f5f\"}, \"error_y\": {\"color\": \"#2a3f5f\"}, \"marker\": {\"line\": {\"color\": \"#E5ECF6\", \"width\": 0.5}}, \"type\": \"bar\"}], \"barpolar\": [{\"marker\": {\"line\": {\"color\": \"#E5ECF6\", \"width\": 0.5}}, \"type\": \"barpolar\"}], \"carpet\": [{\"aaxis\": {\"endlinecolor\": \"#2a3f5f\", \"gridcolor\": \"white\", \"linecolor\": \"white\", \"minorgridcolor\": \"white\", \"startlinecolor\": \"#2a3f5f\"}, \"baxis\": {\"endlinecolor\": \"#2a3f5f\", \"gridcolor\": \"white\", \"linecolor\": \"white\", \"minorgridcolor\": \"white\", \"startlinecolor\": \"#2a3f5f\"}, \"type\": \"carpet\"}], \"choropleth\": [{\"colorbar\": {\"outlinewidth\": 0, \"ticks\": \"\"}, \"type\": \"choropleth\"}], \"contour\": [{\"colorbar\": {\"outlinewidth\": 0, \"ticks\": \"\"}, \"colorscale\": [[0.0, \"#0d0887\"], [0.1111111111111111, \"#46039f\"], [0.2222222222222222, \"#7201a8\"], [0.3333333333333333, \"#9c179e\"], [0.4444444444444444, \"#bd3786\"], [0.5555555555555556, \"#d8576b\"], [0.6666666666666666, \"#ed7953\"], [0.7777777777777778, \"#fb9f3a\"], [0.8888888888888888, \"#fdca26\"], [1.0, \"#f0f921\"]], \"type\": \"contour\"}], \"contourcarpet\": [{\"colorbar\": {\"outlinewidth\": 0, \"ticks\": \"\"}, \"type\": \"contourcarpet\"}], \"heatmap\": [{\"colorbar\": {\"outlinewidth\": 0, \"ticks\": \"\"}, \"colorscale\": [[0.0, \"#0d0887\"], [0.1111111111111111, \"#46039f\"], [0.2222222222222222, \"#7201a8\"], [0.3333333333333333, \"#9c179e\"], [0.4444444444444444, \"#bd3786\"], [0.5555555555555556, \"#d8576b\"], [0.6666666666666666, \"#ed7953\"], [0.7777777777777778, \"#fb9f3a\"], [0.8888888888888888, \"#fdca26\"], [1.0, \"#f0f921\"]], \"type\": \"heatmap\"}], \"heatmapgl\": [{\"colorbar\": {\"outlinewidth\": 0, \"ticks\": \"\"}, \"colorscale\": [[0.0, \"#0d0887\"], [0.1111111111111111, \"#46039f\"], [0.2222222222222222, \"#7201a8\"], [0.3333333333333333, \"#9c179e\"], [0.4444444444444444, \"#bd3786\"], [0.5555555555555556, \"#d8576b\"], [0.6666666666666666, \"#ed7953\"], [0.7777777777777778, \"#fb9f3a\"], [0.8888888888888888, \"#fdca26\"], [1.0, \"#f0f921\"]], \"type\": \"heatmapgl\"}], \"histogram\": [{\"marker\": {\"colorbar\": {\"outlinewidth\": 0, \"ticks\": \"\"}}, \"type\": \"histogram\"}], \"histogram2d\": [{\"colorbar\": {\"outlinewidth\": 0, \"ticks\": \"\"}, \"colorscale\": [[0.0, \"#0d0887\"], [0.1111111111111111, \"#46039f\"], [0.2222222222222222, \"#7201a8\"], [0.3333333333333333, \"#9c179e\"], [0.4444444444444444, \"#bd3786\"], [0.5555555555555556, \"#d8576b\"], [0.6666666666666666, \"#ed7953\"], [0.7777777777777778, \"#fb9f3a\"], [0.8888888888888888, \"#fdca26\"], [1.0, \"#f0f921\"]], \"type\": \"histogram2d\"}], \"histogram2dcontour\": [{\"colorbar\": {\"outlinewidth\": 0, \"ticks\": \"\"}, \"colorscale\": [[0.0, \"#0d0887\"], [0.1111111111111111, \"#46039f\"], [0.2222222222222222, \"#7201a8\"], [0.3333333333333333, \"#9c179e\"], [0.4444444444444444, \"#bd3786\"], [0.5555555555555556, \"#d8576b\"], [0.6666666666666666, \"#ed7953\"], [0.7777777777777778, \"#fb9f3a\"], [0.8888888888888888, \"#fdca26\"], [1.0, \"#f0f921\"]], \"type\": \"histogram2dcontour\"}], \"mesh3d\": [{\"colorbar\": {\"outlinewidth\": 0, \"ticks\": \"\"}, \"type\": \"mesh3d\"}], \"parcoords\": [{\"line\": {\"colorbar\": {\"outlinewidth\": 0, \"ticks\": \"\"}}, \"type\": \"parcoords\"}], \"pie\": [{\"automargin\": true, \"type\": \"pie\"}], \"scatter\": [{\"marker\": {\"colorbar\": {\"outlinewidth\": 0, \"ticks\": \"\"}}, \"type\": \"scatter\"}], \"scatter3d\": [{\"line\": {\"colorbar\": {\"outlinewidth\": 0, \"ticks\": \"\"}}, \"marker\": {\"colorbar\": {\"outlinewidth\": 0, \"ticks\": \"\"}}, \"type\": \"scatter3d\"}], \"scattercarpet\": [{\"marker\": {\"colorbar\": {\"outlinewidth\": 0, \"ticks\": \"\"}}, \"type\": \"scattercarpet\"}], \"scattergeo\": [{\"marker\": {\"colorbar\": {\"outlinewidth\": 0, \"ticks\": \"\"}}, \"type\": \"scattergeo\"}], \"scattergl\": [{\"marker\": {\"colorbar\": {\"outlinewidth\": 0, \"ticks\": \"\"}}, \"type\": \"scattergl\"}], \"scattermapbox\": [{\"marker\": {\"colorbar\": {\"outlinewidth\": 0, \"ticks\": \"\"}}, \"type\": \"scattermapbox\"}], \"scatterpolar\": [{\"marker\": {\"colorbar\": {\"outlinewidth\": 0, \"ticks\": \"\"}}, \"type\": \"scatterpolar\"}], \"scatterpolargl\": [{\"marker\": {\"colorbar\": {\"outlinewidth\": 0, \"ticks\": \"\"}}, \"type\": \"scatterpolargl\"}], \"scatterternary\": [{\"marker\": {\"colorbar\": {\"outlinewidth\": 0, \"ticks\": \"\"}}, \"type\": \"scatterternary\"}], \"surface\": [{\"colorbar\": {\"outlinewidth\": 0, \"ticks\": \"\"}, \"colorscale\": [[0.0, \"#0d0887\"], [0.1111111111111111, \"#46039f\"], [0.2222222222222222, \"#7201a8\"], [0.3333333333333333, \"#9c179e\"], [0.4444444444444444, \"#bd3786\"], [0.5555555555555556, \"#d8576b\"], [0.6666666666666666, \"#ed7953\"], [0.7777777777777778, \"#fb9f3a\"], [0.8888888888888888, \"#fdca26\"], [1.0, \"#f0f921\"]], \"type\": \"surface\"}], \"table\": [{\"cells\": {\"fill\": {\"color\": \"#EBF0F8\"}, \"line\": {\"color\": \"white\"}}, \"header\": {\"fill\": {\"color\": \"#C8D4E3\"}, \"line\": {\"color\": \"white\"}}, \"type\": \"table\"}]}, \"layout\": {\"annotationdefaults\": {\"arrowcolor\": \"#2a3f5f\", \"arrowhead\": 0, \"arrowwidth\": 1}, \"coloraxis\": {\"colorbar\": {\"outlinewidth\": 0, \"ticks\": \"\"}}, \"colorscale\": {\"diverging\": [[0, \"#8e0152\"], [0.1, \"#c51b7d\"], [0.2, \"#de77ae\"], [0.3, \"#f1b6da\"], [0.4, \"#fde0ef\"], [0.5, \"#f7f7f7\"], [0.6, \"#e6f5d0\"], [0.7, \"#b8e186\"], [0.8, \"#7fbc41\"], [0.9, \"#4d9221\"], [1, \"#276419\"]], \"sequential\": [[0.0, \"#0d0887\"], [0.1111111111111111, \"#46039f\"], [0.2222222222222222, \"#7201a8\"], [0.3333333333333333, \"#9c179e\"], [0.4444444444444444, \"#bd3786\"], [0.5555555555555556, \"#d8576b\"], [0.6666666666666666, \"#ed7953\"], [0.7777777777777778, \"#fb9f3a\"], [0.8888888888888888, \"#fdca26\"], [1.0, \"#f0f921\"]], \"sequentialminus\": [[0.0, \"#0d0887\"], [0.1111111111111111, \"#46039f\"], [0.2222222222222222, \"#7201a8\"], [0.3333333333333333, \"#9c179e\"], [0.4444444444444444, \"#bd3786\"], [0.5555555555555556, \"#d8576b\"], [0.6666666666666666, \"#ed7953\"], [0.7777777777777778, \"#fb9f3a\"], [0.8888888888888888, \"#fdca26\"], [1.0, \"#f0f921\"]]}, \"colorway\": [\"#636efa\", \"#EF553B\", \"#00cc96\", \"#ab63fa\", \"#FFA15A\", \"#19d3f3\", \"#FF6692\", \"#B6E880\", \"#FF97FF\", \"#FECB52\"], \"font\": {\"color\": \"#2a3f5f\"}, \"geo\": {\"bgcolor\": \"white\", \"lakecolor\": \"white\", \"landcolor\": \"#E5ECF6\", \"showlakes\": true, \"showland\": true, \"subunitcolor\": \"white\"}, \"hoverlabel\": {\"align\": \"left\"}, \"hovermode\": \"closest\", \"mapbox\": {\"style\": \"light\"}, \"paper_bgcolor\": \"white\", \"plot_bgcolor\": \"#E5ECF6\", \"polar\": {\"angularaxis\": {\"gridcolor\": \"white\", \"linecolor\": \"white\", \"ticks\": \"\"}, \"bgcolor\": \"#E5ECF6\", \"radialaxis\": {\"gridcolor\": \"white\", \"linecolor\": \"white\", \"ticks\": \"\"}}, \"scene\": {\"xaxis\": {\"backgroundcolor\": \"#E5ECF6\", \"gridcolor\": \"white\", \"gridwidth\": 2, \"linecolor\": \"white\", \"showbackground\": true, \"ticks\": \"\", \"zerolinecolor\": \"white\"}, \"yaxis\": {\"backgroundcolor\": \"#E5ECF6\", \"gridcolor\": \"white\", \"gridwidth\": 2, \"linecolor\": \"white\", \"showbackground\": true, \"ticks\": \"\", \"zerolinecolor\": \"white\"}, \"zaxis\": {\"backgroundcolor\": \"#E5ECF6\", \"gridcolor\": \"white\", \"gridwidth\": 2, \"linecolor\": \"white\", \"showbackground\": true, \"ticks\": \"\", \"zerolinecolor\": \"white\"}}, \"shapedefaults\": {\"line\": {\"color\": \"#2a3f5f\"}}, \"ternary\": {\"aaxis\": {\"gridcolor\": \"white\", \"linecolor\": \"white\", \"ticks\": \"\"}, \"baxis\": {\"gridcolor\": \"white\", \"linecolor\": \"white\", \"ticks\": \"\"}, \"bgcolor\": \"#E5ECF6\", \"caxis\": {\"gridcolor\": \"white\", \"linecolor\": \"white\", \"ticks\": \"\"}}, \"title\": {\"x\": 0.05}, \"xaxis\": {\"automargin\": true, \"gridcolor\": \"white\", \"linecolor\": \"white\", \"ticks\": \"\", \"title\": {\"standoff\": 15}, \"zerolinecolor\": \"white\", \"zerolinewidth\": 2}, \"yaxis\": {\"automargin\": true, \"gridcolor\": \"white\", \"linecolor\": \"white\", \"ticks\": \"\", \"title\": {\"standoff\": 15}, \"zerolinecolor\": \"white\", \"zerolinewidth\": 2}}}},\n",
              "                        {\"responsive\": true}\n",
              "                    ).then(function(){\n",
              "                            \n",
              "var gd = document.getElementById('0913dd96-b265-4df3-92fb-2bfdc51be0ee');\n",
              "var x = new MutationObserver(function (mutations, observer) {{\n",
              "        var display = window.getComputedStyle(gd).display;\n",
              "        if (!display || display === 'none') {{\n",
              "            console.log([gd, 'removed!']);\n",
              "            Plotly.purge(gd);\n",
              "            observer.disconnect();\n",
              "        }}\n",
              "}});\n",
              "\n",
              "// Listen for the removal of the full notebook cells\n",
              "var notebookContainer = gd.closest('#notebook-container');\n",
              "if (notebookContainer) {{\n",
              "    x.observe(notebookContainer, {childList: true});\n",
              "}}\n",
              "\n",
              "// Listen for the clearing of the current output cell\n",
              "var outputEl = gd.closest('.output');\n",
              "if (outputEl) {{\n",
              "    x.observe(outputEl, {childList: true});\n",
              "}}\n",
              "\n",
              "                        })\n",
              "                };\n",
              "                \n",
              "            </script>\n",
              "        </div>\n",
              "</body>\n",
              "</html>"
            ]
          },
          "metadata": {}
        }
      ]
    },
    {
      "cell_type": "markdown",
      "metadata": {
        "id": "b8Uf8Y9BGC35"
      },
      "source": [
        "##Making predictions on the test data\n"
      ]
    },
    {
      "cell_type": "code",
      "metadata": {
        "id": "uAAUae1Kw3-U",
        "colab": {
          "base_uri": "https://localhost:8080/"
        },
        "outputId": "9c954603-21a2-4bce-fc71-d912ce98fdd3"
      },
      "source": [
        "#list all the output class labels\n",
        "list_classes = [\"toxic\", \"severe_toxic\", \"obscene\", \"threat\", \"insult\", \"identity_hate\"]\n",
        "\n",
        "#make the predictions\n",
        "y_pred = Bil_LSTM_Word2Vec_model.predict(X_testdf, verbose = 1, batch_size = batch_size2)"
      ],
      "execution_count": 68,
      "outputs": [
        {
          "output_type": "stream",
          "name": "stdout",
          "text": [
            "599/599 [==============================] - 106s 175ms/step\n"
          ]
        }
      ]
    },
    {
      "cell_type": "code",
      "metadata": {
        "id": "_rB09YyPGjUc"
      },
      "source": [
        "#making submission\n",
        "#read in the submission file\n",
        "output = pd.read_csv(\"/content/drive/MyDrive/CSE4022/dataset/output.csv\")\n",
        "\n",
        "output[list_classes] = y_pred\n",
        "output.to_csv(\"BiLSTM_output.csv\", index = False)\n"
      ],
      "execution_count": 69,
      "outputs": []
    },
    {
      "cell_type": "code",
      "metadata": {
        "colab": {
          "base_uri": "https://localhost:8080/",
          "height": 206
        },
        "id": "vD6kPJ0RQQBx",
        "outputId": "0b7482de-45df-41c1-fb77-b8cb16cab27e"
      },
      "source": [
        "output_df = pd.read_csv(\"/content/drive/MyDrive/CSE4022/dataset/BiLSTM_output.csv\")\n",
        "output_df.head()"
      ],
      "execution_count": 70,
      "outputs": [
        {
          "output_type": "execute_result",
          "data": {
            "text/html": [
              "<div>\n",
              "<style scoped>\n",
              "    .dataframe tbody tr th:only-of-type {\n",
              "        vertical-align: middle;\n",
              "    }\n",
              "\n",
              "    .dataframe tbody tr th {\n",
              "        vertical-align: top;\n",
              "    }\n",
              "\n",
              "    .dataframe thead th {\n",
              "        text-align: right;\n",
              "    }\n",
              "</style>\n",
              "<table border=\"1\" class=\"dataframe\">\n",
              "  <thead>\n",
              "    <tr style=\"text-align: right;\">\n",
              "      <th></th>\n",
              "      <th>id</th>\n",
              "      <th>toxic</th>\n",
              "      <th>severe_toxic</th>\n",
              "      <th>obscene</th>\n",
              "      <th>threat</th>\n",
              "      <th>insult</th>\n",
              "      <th>identity_hate</th>\n",
              "    </tr>\n",
              "  </thead>\n",
              "  <tbody>\n",
              "    <tr>\n",
              "      <th>0</th>\n",
              "      <td>00001cee341fdb12</td>\n",
              "      <td>0.824650</td>\n",
              "      <td>0.197494</td>\n",
              "      <td>0.600668</td>\n",
              "      <td>0.135870</td>\n",
              "      <td>0.528659</td>\n",
              "      <td>0.233360</td>\n",
              "    </tr>\n",
              "    <tr>\n",
              "      <th>1</th>\n",
              "      <td>0000247867823ef7</td>\n",
              "      <td>0.840179</td>\n",
              "      <td>0.109303</td>\n",
              "      <td>0.429206</td>\n",
              "      <td>0.081028</td>\n",
              "      <td>0.423650</td>\n",
              "      <td>0.156579</td>\n",
              "    </tr>\n",
              "    <tr>\n",
              "      <th>2</th>\n",
              "      <td>00013b17ad220c46</td>\n",
              "      <td>0.904574</td>\n",
              "      <td>0.195712</td>\n",
              "      <td>0.537663</td>\n",
              "      <td>0.087423</td>\n",
              "      <td>0.508086</td>\n",
              "      <td>0.199340</td>\n",
              "    </tr>\n",
              "    <tr>\n",
              "      <th>3</th>\n",
              "      <td>00017563c3f7919a</td>\n",
              "      <td>0.863953</td>\n",
              "      <td>0.112309</td>\n",
              "      <td>0.436514</td>\n",
              "      <td>0.105043</td>\n",
              "      <td>0.476081</td>\n",
              "      <td>0.160860</td>\n",
              "    </tr>\n",
              "    <tr>\n",
              "      <th>4</th>\n",
              "      <td>00017695ad8997eb</td>\n",
              "      <td>0.867412</td>\n",
              "      <td>0.173252</td>\n",
              "      <td>0.494663</td>\n",
              "      <td>0.099759</td>\n",
              "      <td>0.485690</td>\n",
              "      <td>0.202344</td>\n",
              "    </tr>\n",
              "  </tbody>\n",
              "</table>\n",
              "</div>"
            ],
            "text/plain": [
              "                 id     toxic  severe_toxic  ...    threat    insult  identity_hate\n",
              "0  00001cee341fdb12  0.824650      0.197494  ...  0.135870  0.528659       0.233360\n",
              "1  0000247867823ef7  0.840179      0.109303  ...  0.081028  0.423650       0.156579\n",
              "2  00013b17ad220c46  0.904574      0.195712  ...  0.087423  0.508086       0.199340\n",
              "3  00017563c3f7919a  0.863953      0.112309  ...  0.105043  0.476081       0.160860\n",
              "4  00017695ad8997eb  0.867412      0.173252  ...  0.099759  0.485690       0.202344\n",
              "\n",
              "[5 rows x 7 columns]"
            ]
          },
          "metadata": {},
          "execution_count": 70
        }
      ]
    },
    {
      "cell_type": "markdown",
      "metadata": {
        "id": "-ciTFd9pZnrO"
      },
      "source": [
        "## Chi-Square Test on dependency of labels on each other in the predicted outputs"
      ]
    },
    {
      "cell_type": "code",
      "metadata": {
        "colab": {
          "base_uri": "https://localhost:8080/",
          "height": 423
        },
        "id": "uLZuI3wvQoIE",
        "outputId": "827e6753-5467-4ad5-d407-4afa80b10487"
      },
      "source": [
        "output_df=output_df.iloc[:,1:]\n",
        "output_df"
      ],
      "execution_count": 71,
      "outputs": [
        {
          "output_type": "execute_result",
          "data": {
            "text/html": [
              "<div>\n",
              "<style scoped>\n",
              "    .dataframe tbody tr th:only-of-type {\n",
              "        vertical-align: middle;\n",
              "    }\n",
              "\n",
              "    .dataframe tbody tr th {\n",
              "        vertical-align: top;\n",
              "    }\n",
              "\n",
              "    .dataframe thead th {\n",
              "        text-align: right;\n",
              "    }\n",
              "</style>\n",
              "<table border=\"1\" class=\"dataframe\">\n",
              "  <thead>\n",
              "    <tr style=\"text-align: right;\">\n",
              "      <th></th>\n",
              "      <th>toxic</th>\n",
              "      <th>severe_toxic</th>\n",
              "      <th>obscene</th>\n",
              "      <th>threat</th>\n",
              "      <th>insult</th>\n",
              "      <th>identity_hate</th>\n",
              "    </tr>\n",
              "  </thead>\n",
              "  <tbody>\n",
              "    <tr>\n",
              "      <th>0</th>\n",
              "      <td>0.824650</td>\n",
              "      <td>0.197494</td>\n",
              "      <td>0.600668</td>\n",
              "      <td>0.135870</td>\n",
              "      <td>0.528659</td>\n",
              "      <td>0.233360</td>\n",
              "    </tr>\n",
              "    <tr>\n",
              "      <th>1</th>\n",
              "      <td>0.840179</td>\n",
              "      <td>0.109303</td>\n",
              "      <td>0.429206</td>\n",
              "      <td>0.081028</td>\n",
              "      <td>0.423650</td>\n",
              "      <td>0.156579</td>\n",
              "    </tr>\n",
              "    <tr>\n",
              "      <th>2</th>\n",
              "      <td>0.904574</td>\n",
              "      <td>0.195712</td>\n",
              "      <td>0.537663</td>\n",
              "      <td>0.087423</td>\n",
              "      <td>0.508086</td>\n",
              "      <td>0.199340</td>\n",
              "    </tr>\n",
              "    <tr>\n",
              "      <th>3</th>\n",
              "      <td>0.863953</td>\n",
              "      <td>0.112309</td>\n",
              "      <td>0.436514</td>\n",
              "      <td>0.105043</td>\n",
              "      <td>0.476081</td>\n",
              "      <td>0.160860</td>\n",
              "    </tr>\n",
              "    <tr>\n",
              "      <th>4</th>\n",
              "      <td>0.867412</td>\n",
              "      <td>0.173252</td>\n",
              "      <td>0.494663</td>\n",
              "      <td>0.099759</td>\n",
              "      <td>0.485690</td>\n",
              "      <td>0.202344</td>\n",
              "    </tr>\n",
              "    <tr>\n",
              "      <th>...</th>\n",
              "      <td>...</td>\n",
              "      <td>...</td>\n",
              "      <td>...</td>\n",
              "      <td>...</td>\n",
              "      <td>...</td>\n",
              "      <td>...</td>\n",
              "    </tr>\n",
              "    <tr>\n",
              "      <th>153159</th>\n",
              "      <td>0.872762</td>\n",
              "      <td>0.163757</td>\n",
              "      <td>0.477082</td>\n",
              "      <td>0.093178</td>\n",
              "      <td>0.470400</td>\n",
              "      <td>0.185538</td>\n",
              "    </tr>\n",
              "    <tr>\n",
              "      <th>153160</th>\n",
              "      <td>0.840065</td>\n",
              "      <td>0.104469</td>\n",
              "      <td>0.433267</td>\n",
              "      <td>0.105720</td>\n",
              "      <td>0.441961</td>\n",
              "      <td>0.161243</td>\n",
              "    </tr>\n",
              "    <tr>\n",
              "      <th>153161</th>\n",
              "      <td>0.822837</td>\n",
              "      <td>0.088004</td>\n",
              "      <td>0.422398</td>\n",
              "      <td>0.078593</td>\n",
              "      <td>0.411640</td>\n",
              "      <td>0.155510</td>\n",
              "    </tr>\n",
              "    <tr>\n",
              "      <th>153162</th>\n",
              "      <td>0.781066</td>\n",
              "      <td>0.087871</td>\n",
              "      <td>0.427468</td>\n",
              "      <td>0.093733</td>\n",
              "      <td>0.420437</td>\n",
              "      <td>0.181701</td>\n",
              "    </tr>\n",
              "    <tr>\n",
              "      <th>153163</th>\n",
              "      <td>0.849131</td>\n",
              "      <td>0.105387</td>\n",
              "      <td>0.424801</td>\n",
              "      <td>0.092874</td>\n",
              "      <td>0.440064</td>\n",
              "      <td>0.153715</td>\n",
              "    </tr>\n",
              "  </tbody>\n",
              "</table>\n",
              "<p>153164 rows × 6 columns</p>\n",
              "</div>"
            ],
            "text/plain": [
              "           toxic  severe_toxic   obscene    threat    insult  identity_hate\n",
              "0       0.824650      0.197494  0.600668  0.135870  0.528659       0.233360\n",
              "1       0.840179      0.109303  0.429206  0.081028  0.423650       0.156579\n",
              "2       0.904574      0.195712  0.537663  0.087423  0.508086       0.199340\n",
              "3       0.863953      0.112309  0.436514  0.105043  0.476081       0.160860\n",
              "4       0.867412      0.173252  0.494663  0.099759  0.485690       0.202344\n",
              "...          ...           ...       ...       ...       ...            ...\n",
              "153159  0.872762      0.163757  0.477082  0.093178  0.470400       0.185538\n",
              "153160  0.840065      0.104469  0.433267  0.105720  0.441961       0.161243\n",
              "153161  0.822837      0.088004  0.422398  0.078593  0.411640       0.155510\n",
              "153162  0.781066      0.087871  0.427468  0.093733  0.420437       0.181701\n",
              "153163  0.849131      0.105387  0.424801  0.092874  0.440064       0.153715\n",
              "\n",
              "[153164 rows x 6 columns]"
            ]
          },
          "metadata": {},
          "execution_count": 71
        }
      ]
    },
    {
      "cell_type": "code",
      "metadata": {
        "colab": {
          "base_uri": "https://localhost:8080/",
          "height": 206
        },
        "id": "3iZfsTekQ-UF",
        "outputId": "3741d6aa-9bcb-40b4-e33f-6d16f9279ad1"
      },
      "source": [
        "for i in output_df.columns:\n",
        "  output_df[i] = (output_df[i] > 0.5).astype(int)\n",
        "\n",
        "output_df.head()"
      ],
      "execution_count": 72,
      "outputs": [
        {
          "output_type": "execute_result",
          "data": {
            "text/html": [
              "<div>\n",
              "<style scoped>\n",
              "    .dataframe tbody tr th:only-of-type {\n",
              "        vertical-align: middle;\n",
              "    }\n",
              "\n",
              "    .dataframe tbody tr th {\n",
              "        vertical-align: top;\n",
              "    }\n",
              "\n",
              "    .dataframe thead th {\n",
              "        text-align: right;\n",
              "    }\n",
              "</style>\n",
              "<table border=\"1\" class=\"dataframe\">\n",
              "  <thead>\n",
              "    <tr style=\"text-align: right;\">\n",
              "      <th></th>\n",
              "      <th>toxic</th>\n",
              "      <th>severe_toxic</th>\n",
              "      <th>obscene</th>\n",
              "      <th>threat</th>\n",
              "      <th>insult</th>\n",
              "      <th>identity_hate</th>\n",
              "    </tr>\n",
              "  </thead>\n",
              "  <tbody>\n",
              "    <tr>\n",
              "      <th>0</th>\n",
              "      <td>1</td>\n",
              "      <td>0</td>\n",
              "      <td>1</td>\n",
              "      <td>0</td>\n",
              "      <td>1</td>\n",
              "      <td>0</td>\n",
              "    </tr>\n",
              "    <tr>\n",
              "      <th>1</th>\n",
              "      <td>1</td>\n",
              "      <td>0</td>\n",
              "      <td>0</td>\n",
              "      <td>0</td>\n",
              "      <td>0</td>\n",
              "      <td>0</td>\n",
              "    </tr>\n",
              "    <tr>\n",
              "      <th>2</th>\n",
              "      <td>1</td>\n",
              "      <td>0</td>\n",
              "      <td>1</td>\n",
              "      <td>0</td>\n",
              "      <td>1</td>\n",
              "      <td>0</td>\n",
              "    </tr>\n",
              "    <tr>\n",
              "      <th>3</th>\n",
              "      <td>1</td>\n",
              "      <td>0</td>\n",
              "      <td>0</td>\n",
              "      <td>0</td>\n",
              "      <td>0</td>\n",
              "      <td>0</td>\n",
              "    </tr>\n",
              "    <tr>\n",
              "      <th>4</th>\n",
              "      <td>1</td>\n",
              "      <td>0</td>\n",
              "      <td>0</td>\n",
              "      <td>0</td>\n",
              "      <td>0</td>\n",
              "      <td>0</td>\n",
              "    </tr>\n",
              "  </tbody>\n",
              "</table>\n",
              "</div>"
            ],
            "text/plain": [
              "   toxic  severe_toxic  obscene  threat  insult  identity_hate\n",
              "0      1             0        1       0       1              0\n",
              "1      1             0        0       0       0              0\n",
              "2      1             0        1       0       1              0\n",
              "3      1             0        0       0       0              0\n",
              "4      1             0        0       0       0              0"
            ]
          },
          "metadata": {},
          "execution_count": 72
        }
      ]
    },
    {
      "cell_type": "code",
      "metadata": {
        "colab": {
          "base_uri": "https://localhost:8080/",
          "height": 143
        },
        "id": "1IrxsCJ_QONe",
        "outputId": "f00faf78-f34b-45b1-eb16-25fc93ab4c62"
      },
      "source": [
        "#Crosstab\n",
        "main_col=\"toxic\"\n",
        "corr_mats=[]\n",
        "for other_col in output_df.columns:\n",
        "    confusion_matrix = pd.crosstab(output_df[main_col], output_df[other_col])\n",
        "    corr_mats.append(confusion_matrix)\n",
        "out = pd.concat(corr_mats,axis=1,keys=output_df.columns)\n",
        "out1=pd.concat(corr_mats,axis=1,keys=output_df.columns)\n",
        "#cell highlighting\n",
        "out = out.style.apply(highlight_min,axis=0)\n",
        "out"
      ],
      "execution_count": 73,
      "outputs": [
        {
          "output_type": "execute_result",
          "data": {
            "text/html": [
              "<style  type=\"text/css\" >\n",
              "#T_ad83b5fe_56c1_11ec_b42c_0242ac1c0002row0_col0,#T_ad83b5fe_56c1_11ec_b42c_0242ac1c0002row0_col1,#T_ad83b5fe_56c1_11ec_b42c_0242ac1c0002row0_col2,#T_ad83b5fe_56c1_11ec_b42c_0242ac1c0002row0_col3,#T_ad83b5fe_56c1_11ec_b42c_0242ac1c0002row0_col4,#T_ad83b5fe_56c1_11ec_b42c_0242ac1c0002row0_col5,#T_ad83b5fe_56c1_11ec_b42c_0242ac1c0002row0_col6,#T_ad83b5fe_56c1_11ec_b42c_0242ac1c0002row0_col7,#T_ad83b5fe_56c1_11ec_b42c_0242ac1c0002row0_col8{\n",
              "            background-color:  yellow;\n",
              "        }</style><table id=\"T_ad83b5fe_56c1_11ec_b42c_0242ac1c0002\" class=\"dataframe\"><thead>    <tr>        <th class=\"blank level0\" ></th>        <th class=\"col_heading level0 col0\" >toxic</th>        <th class=\"col_heading level0 col1\" colspan=2>severe_toxic</th>        <th class=\"col_heading level0 col3\" colspan=2>obscene</th>        <th class=\"col_heading level0 col5\" >threat</th>        <th class=\"col_heading level0 col6\" colspan=2>insult</th>        <th class=\"col_heading level0 col8\" >identity_hate</th>    </tr>    <tr>        <th class=\"blank level1\" ></th>        <th class=\"col_heading level1 col0\" >1</th>        <th class=\"col_heading level1 col1\" >0</th>        <th class=\"col_heading level1 col2\" >1</th>        <th class=\"col_heading level1 col3\" >0</th>        <th class=\"col_heading level1 col4\" >1</th>        <th class=\"col_heading level1 col5\" >0</th>        <th class=\"col_heading level1 col6\" >0</th>        <th class=\"col_heading level1 col7\" >1</th>        <th class=\"col_heading level1 col8\" >0</th>    </tr>    <tr>        <th class=\"index_name level0\" >toxic</th>        <th class=\"blank\" ></th>        <th class=\"blank\" ></th>        <th class=\"blank\" ></th>        <th class=\"blank\" ></th>        <th class=\"blank\" ></th>        <th class=\"blank\" ></th>        <th class=\"blank\" ></th>        <th class=\"blank\" ></th>        <th class=\"blank\" ></th>    </tr></thead><tbody>\n",
              "                <tr>\n",
              "                        <th id=\"T_ad83b5fe_56c1_11ec_b42c_0242ac1c0002level0_row0\" class=\"row_heading level0 row0\" >1</th>\n",
              "                        <td id=\"T_ad83b5fe_56c1_11ec_b42c_0242ac1c0002row0_col0\" class=\"data row0 col0\" >153164</td>\n",
              "                        <td id=\"T_ad83b5fe_56c1_11ec_b42c_0242ac1c0002row0_col1\" class=\"data row0 col1\" >152563</td>\n",
              "                        <td id=\"T_ad83b5fe_56c1_11ec_b42c_0242ac1c0002row0_col2\" class=\"data row0 col2\" >601</td>\n",
              "                        <td id=\"T_ad83b5fe_56c1_11ec_b42c_0242ac1c0002row0_col3\" class=\"data row0 col3\" >125050</td>\n",
              "                        <td id=\"T_ad83b5fe_56c1_11ec_b42c_0242ac1c0002row0_col4\" class=\"data row0 col4\" >28114</td>\n",
              "                        <td id=\"T_ad83b5fe_56c1_11ec_b42c_0242ac1c0002row0_col5\" class=\"data row0 col5\" >153164</td>\n",
              "                        <td id=\"T_ad83b5fe_56c1_11ec_b42c_0242ac1c0002row0_col6\" class=\"data row0 col6\" >125058</td>\n",
              "                        <td id=\"T_ad83b5fe_56c1_11ec_b42c_0242ac1c0002row0_col7\" class=\"data row0 col7\" >28106</td>\n",
              "                        <td id=\"T_ad83b5fe_56c1_11ec_b42c_0242ac1c0002row0_col8\" class=\"data row0 col8\" >153164</td>\n",
              "            </tr>\n",
              "    </tbody></table>"
            ],
            "text/plain": [
              "<pandas.io.formats.style.Styler at 0x7f4518a06950>"
            ]
          },
          "metadata": {},
          "execution_count": 73
        }
      ]
    },
    {
      "cell_type": "code",
      "metadata": {
        "colab": {
          "base_uri": "https://localhost:8080/"
        },
        "id": "I8tOxFfbTOD8",
        "outputId": "52227687-6702-4305-9f20-c83efc169602"
      },
      "source": [
        "\n",
        "from scipy.stats import chi2_contingency\n",
        "stat, p, dof, expected = chi2_contingency(out1)\n",
        "print(stat,p,dof,expected) \n",
        "# interpret p-value\n",
        "alpha = 0.05\n",
        "if p <= alpha:\n",
        "    print('Dependent (reject H0)')\n",
        "else:\n",
        "    print('Independent (H0 holds true)')"
      ],
      "execution_count": 74,
      "outputs": [
        {
          "output_type": "stream",
          "name": "stdout",
          "text": [
            "0.0 1.0 0 [[153164. 152563.    601. 125050.  28114. 153164. 125058.  28106. 153164.]]\n",
            "Independent (H0 holds true)\n"
          ]
        }
      ]
    },
    {
      "cell_type": "code",
      "metadata": {
        "colab": {
          "base_uri": "https://localhost:8080/",
          "height": 174
        },
        "id": "uVE3c8fRWv8z",
        "outputId": "8de1e97d-f309-4826-b802-422cc2132ba4"
      },
      "source": [
        "#Crosstab\n",
        "main_col=\"obscene\"\n",
        "corr_mats=[]\n",
        "for other_col in output_df.columns:\n",
        "    confusion_matrix = pd.crosstab(output_df[main_col], output_df[other_col])\n",
        "    corr_mats.append(confusion_matrix)\n",
        "out = pd.concat(corr_mats,axis=1,keys=output_df.columns)\n",
        "out2=pd.concat(corr_mats,axis=1,keys=output_df.columns)\n",
        "#cell highlighting\n",
        "out = out.style.apply(highlight_min,axis=0)\n",
        "out"
      ],
      "execution_count": 75,
      "outputs": [
        {
          "output_type": "execute_result",
          "data": {
            "text/html": [
              "<style  type=\"text/css\" >\n",
              "#T_ada67436_56c1_11ec_b42c_0242ac1c0002row0_col2,#T_ada67436_56c1_11ec_b42c_0242ac1c0002row0_col4,#T_ada67436_56c1_11ec_b42c_0242ac1c0002row0_col7,#T_ada67436_56c1_11ec_b42c_0242ac1c0002row1_col0,#T_ada67436_56c1_11ec_b42c_0242ac1c0002row1_col1,#T_ada67436_56c1_11ec_b42c_0242ac1c0002row1_col3,#T_ada67436_56c1_11ec_b42c_0242ac1c0002row1_col5,#T_ada67436_56c1_11ec_b42c_0242ac1c0002row1_col6,#T_ada67436_56c1_11ec_b42c_0242ac1c0002row1_col8{\n",
              "            background-color:  yellow;\n",
              "        }</style><table id=\"T_ada67436_56c1_11ec_b42c_0242ac1c0002\" class=\"dataframe\"><thead>    <tr>        <th class=\"blank level0\" ></th>        <th class=\"col_heading level0 col0\" >toxic</th>        <th class=\"col_heading level0 col1\" colspan=2>severe_toxic</th>        <th class=\"col_heading level0 col3\" colspan=2>obscene</th>        <th class=\"col_heading level0 col5\" >threat</th>        <th class=\"col_heading level0 col6\" colspan=2>insult</th>        <th class=\"col_heading level0 col8\" >identity_hate</th>    </tr>    <tr>        <th class=\"blank level1\" ></th>        <th class=\"col_heading level1 col0\" >1</th>        <th class=\"col_heading level1 col1\" >0</th>        <th class=\"col_heading level1 col2\" >1</th>        <th class=\"col_heading level1 col3\" >0</th>        <th class=\"col_heading level1 col4\" >1</th>        <th class=\"col_heading level1 col5\" >0</th>        <th class=\"col_heading level1 col6\" >0</th>        <th class=\"col_heading level1 col7\" >1</th>        <th class=\"col_heading level1 col8\" >0</th>    </tr>    <tr>        <th class=\"index_name level0\" >obscene</th>        <th class=\"blank\" ></th>        <th class=\"blank\" ></th>        <th class=\"blank\" ></th>        <th class=\"blank\" ></th>        <th class=\"blank\" ></th>        <th class=\"blank\" ></th>        <th class=\"blank\" ></th>        <th class=\"blank\" ></th>        <th class=\"blank\" ></th>    </tr></thead><tbody>\n",
              "                <tr>\n",
              "                        <th id=\"T_ada67436_56c1_11ec_b42c_0242ac1c0002level0_row0\" class=\"row_heading level0 row0\" >0</th>\n",
              "                        <td id=\"T_ada67436_56c1_11ec_b42c_0242ac1c0002row0_col0\" class=\"data row0 col0\" >125050</td>\n",
              "                        <td id=\"T_ada67436_56c1_11ec_b42c_0242ac1c0002row0_col1\" class=\"data row0 col1\" >125009</td>\n",
              "                        <td id=\"T_ada67436_56c1_11ec_b42c_0242ac1c0002row0_col2\" class=\"data row0 col2\" >41</td>\n",
              "                        <td id=\"T_ada67436_56c1_11ec_b42c_0242ac1c0002row0_col3\" class=\"data row0 col3\" >125050</td>\n",
              "                        <td id=\"T_ada67436_56c1_11ec_b42c_0242ac1c0002row0_col4\" class=\"data row0 col4\" >0</td>\n",
              "                        <td id=\"T_ada67436_56c1_11ec_b42c_0242ac1c0002row0_col5\" class=\"data row0 col5\" >125050</td>\n",
              "                        <td id=\"T_ada67436_56c1_11ec_b42c_0242ac1c0002row0_col6\" class=\"data row0 col6\" >119977</td>\n",
              "                        <td id=\"T_ada67436_56c1_11ec_b42c_0242ac1c0002row0_col7\" class=\"data row0 col7\" >5073</td>\n",
              "                        <td id=\"T_ada67436_56c1_11ec_b42c_0242ac1c0002row0_col8\" class=\"data row0 col8\" >125050</td>\n",
              "            </tr>\n",
              "            <tr>\n",
              "                        <th id=\"T_ada67436_56c1_11ec_b42c_0242ac1c0002level0_row1\" class=\"row_heading level0 row1\" >1</th>\n",
              "                        <td id=\"T_ada67436_56c1_11ec_b42c_0242ac1c0002row1_col0\" class=\"data row1 col0\" >28114</td>\n",
              "                        <td id=\"T_ada67436_56c1_11ec_b42c_0242ac1c0002row1_col1\" class=\"data row1 col1\" >27554</td>\n",
              "                        <td id=\"T_ada67436_56c1_11ec_b42c_0242ac1c0002row1_col2\" class=\"data row1 col2\" >560</td>\n",
              "                        <td id=\"T_ada67436_56c1_11ec_b42c_0242ac1c0002row1_col3\" class=\"data row1 col3\" >0</td>\n",
              "                        <td id=\"T_ada67436_56c1_11ec_b42c_0242ac1c0002row1_col4\" class=\"data row1 col4\" >28114</td>\n",
              "                        <td id=\"T_ada67436_56c1_11ec_b42c_0242ac1c0002row1_col5\" class=\"data row1 col5\" >28114</td>\n",
              "                        <td id=\"T_ada67436_56c1_11ec_b42c_0242ac1c0002row1_col6\" class=\"data row1 col6\" >5081</td>\n",
              "                        <td id=\"T_ada67436_56c1_11ec_b42c_0242ac1c0002row1_col7\" class=\"data row1 col7\" >23033</td>\n",
              "                        <td id=\"T_ada67436_56c1_11ec_b42c_0242ac1c0002row1_col8\" class=\"data row1 col8\" >28114</td>\n",
              "            </tr>\n",
              "    </tbody></table>"
            ],
            "text/plain": [
              "<pandas.io.formats.style.Styler at 0x7f4518a022d0>"
            ]
          },
          "metadata": {},
          "execution_count": 75
        }
      ]
    },
    {
      "cell_type": "code",
      "metadata": {
        "colab": {
          "base_uri": "https://localhost:8080/"
        },
        "id": "vhqNzAt6Wvcv",
        "outputId": "c90b4cf0-a10d-487f-d7e1-96611b46d338"
      },
      "source": [
        "from scipy.stats import chi2_contingency\n",
        "stat, p, dof, expected = chi2_contingency(out2)\n",
        "print(stat,p,dof,expected) \n",
        "# interpret p-value\n",
        "alpha = 0.05\n",
        "if p <= alpha:\n",
        "    print('Dependent (reject H0)')\n",
        "else:\n",
        "    print('Independent (H0 holds true)')"
      ],
      "execution_count": 76,
      "outputs": [
        {
          "output_type": "stream",
          "name": "stdout",
          "text": [
            "248314.0111194391 0.0 8 [[1.25050000e+05 1.24559316e+05 4.90683516e+02 1.02096462e+05\n",
            "  2.29535380e+04 1.25050000e+05 1.02102994e+05 2.29470065e+04\n",
            "  1.25050000e+05]\n",
            " [2.81140000e+04 2.80036835e+04 1.10316484e+02 2.29535380e+04\n",
            "  5.16046196e+03 2.81140000e+04 2.29550065e+04 5.15899352e+03\n",
            "  2.81140000e+04]]\n",
            "Dependent (reject H0)\n"
          ]
        }
      ]
    }
  ]
}